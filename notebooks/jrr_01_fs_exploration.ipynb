{
 "cells": [
  {
   "cell_type": "code",
   "execution_count": 1,
   "id": "c50b6565",
   "metadata": {},
   "outputs": [],
   "source": [
    "import pandas as pd\n",
    "import numpy as np\n",
    "import matplotlib.pyplot as plt\n",
    "import matplotlib.dates as mdates\n",
    "import statsmodels.api as sm\n",
    "import seaborn as sns\n",
    "import re\n",
    "from jupyterthemes import jtplot\n",
    "from datetime import timedelta, datetime\n",
    "import calendar\n",
    "import plotly.express as px\n",
    "jtplot.style()"
   ]
  },
  {
   "cell_type": "markdown",
   "id": "eb22dad0",
   "metadata": {},
   "source": [
    "# (Preparation) read in fullsample.csv, format\n",
    "\n",
    "convert BEGIN and END to datetime\n",
    "\n",
    "split exit code into EXITCODE and SIGNAL\n",
    "\n",
    "create IN_ARRAY to identify which jobs are in arrays and ARRAYID to identify those arrays explicitly\n",
    "\n",
    "create TIMEOUT to identify whether USEDTIME exceeded REQTIME\n",
    "\n",
    "clean REQMEM and USEDMEM, make int-type\n",
    "\n",
    "create REQMEMxNODES and REQMEMxCPUS columns--if they should actually exist (confirm with team)"
   ]
  },
  {
   "cell_type": "code",
   "execution_count": 2,
   "id": "5caffb8a",
   "metadata": {},
   "outputs": [],
   "source": [
    "slurm_jobs = pd.read_csv('../data/fullsample.csv')"
   ]
  },
  {
   "cell_type": "markdown",
   "id": "aaa1600e",
   "metadata": {},
   "source": [
    "### convert BEGIN AND END to datetime"
   ]
  },
  {
   "cell_type": "code",
   "execution_count": 3,
   "id": "b9c1909e",
   "metadata": {},
   "outputs": [],
   "source": [
    "dt_converts = ['BEGIN', 'END']\n",
    "\n",
    "for col in dt_converts:\n",
    "        slurm_jobs[col] = pd.to_datetime(slurm_jobs[col], errors = 'coerce')"
   ]
  },
  {
   "cell_type": "markdown",
   "id": "72618118",
   "metadata": {},
   "source": [
    "### convert REQTIME AND USEDTIME to timedelta"
   ]
  },
  {
   "cell_type": "code",
   "execution_count": 4,
   "id": "f4d45632",
   "metadata": {},
   "outputs": [],
   "source": [
    "dt_converts = ['REQTIME', 'USEDTIME']\n",
    "\n",
    "for col in dt_converts:\n",
    "        slurm_jobs[col] = pd.to_timedelta(slurm_jobs[col].str.replace('-', ' days '))"
   ]
  },
  {
   "cell_type": "markdown",
   "id": "93534e53",
   "metadata": {},
   "source": [
    "### create TIMEOUT to identify whether USEDTIME exceeded REQTIME"
   ]
  },
  {
   "cell_type": "code",
   "execution_count": 5,
   "id": "5d8da8d2",
   "metadata": {},
   "outputs": [],
   "source": [
    "slurm_jobs['TIMEOUT'] = slurm_jobs['USEDTIME'] > slurm_jobs['REQTIME']"
   ]
  },
  {
   "cell_type": "markdown",
   "id": "243fcc44",
   "metadata": {
    "hideCode": false,
    "slideshow": {
     "slide_type": "slide"
    }
   },
   "source": [
    "### split exit code into EXITCODE and SIGNAL"
   ]
  },
  {
   "cell_type": "code",
   "execution_count": 6,
   "id": "e316ed1f",
   "metadata": {},
   "outputs": [],
   "source": [
    "slurm_jobs[['EXITCODE', 'SIGNAL']] = slurm_jobs['EXITCODE'].str.split(':', expand = True)"
   ]
  },
  {
   "cell_type": "markdown",
   "id": "8d4236ca",
   "metadata": {},
   "source": [
    "### create IN_ARRAY to identify which jobs are in arrays and ARRAYID to identify those arrays explicitly"
   ]
  },
  {
   "cell_type": "code",
   "execution_count": 7,
   "id": "816c592e",
   "metadata": {},
   "outputs": [],
   "source": [
    "slurm_jobs['IN_ARRAY'] = slurm_jobs['JOBID'].str.contains('_')\n",
    "slurm_jobs['ARRAYID'] = slurm_jobs['JOBID'].str.extract(r'(.+)_')"
   ]
  },
  {
   "cell_type": "markdown",
   "id": "ebcdf08e",
   "metadata": {},
   "source": [
    "### sort values and reset index"
   ]
  },
  {
   "cell_type": "code",
   "execution_count": 8,
   "id": "18bbdff7",
   "metadata": {},
   "outputs": [],
   "source": [
    "slurm_jobs = slurm_jobs.sort_values('END').reset_index(drop = True)"
   ]
  },
  {
   "cell_type": "markdown",
   "id": "0dc3ef7b",
   "metadata": {},
   "source": [
    "### rolling window of jobs ended per hour (not just the completed ones)"
   ]
  },
  {
   "cell_type": "code",
   "execution_count": 16,
   "id": "3b9cfb91",
   "metadata": {},
   "outputs": [],
   "source": [
    "slurm_jobs = slurm_jobs.dropna(subset = ['END'])"
   ]
  },
  {
   "cell_type": "code",
   "execution_count": 17,
   "id": "703491a6",
   "metadata": {},
   "outputs": [
    {
     "name": "stderr",
     "output_type": "stream",
     "text": [
      "<ipython-input-17-790a9acf8d1a>:1: SettingWithCopyWarning: \n",
      "A value is trying to be set on a copy of a slice from a DataFrame.\n",
      "Try using .loc[row_indexer,col_indexer] = value instead\n",
      "\n",
      "See the caveats in the documentation: https://pandas.pydata.org/pandas-docs/stable/user_guide/indexing.html#returning-a-view-versus-a-copy\n",
      "  slurm_jobs['ROLL1HR'] = (slurm_jobs\n"
     ]
    }
   ],
   "source": [
    "slurm_jobs['ROLL1HR'] = (slurm_jobs\n",
    "                           .rolling('1h', on = 'END')\n",
    "                            ['JOBID']\n",
    "                            .count()\n",
    "                        )"
   ]
  },
  {
   "cell_type": "markdown",
   "id": "adfcca79",
   "metadata": {},
   "source": [
    "### Check out some STATE-EXITCODE relationships"
   ]
  },
  {
   "cell_type": "code",
   "execution_count": 18,
   "id": "01922949",
   "metadata": {},
   "outputs": [
    {
     "data": {
      "text/plain": [
       "1    1\n",
       "Name: EXITCODE, dtype: int64"
      ]
     },
     "execution_count": 18,
     "metadata": {},
     "output_type": "execute_result"
    }
   ],
   "source": [
    "# Insight: one instance of 9204 cancallation\n",
    "slurm_jobs.loc[slurm_jobs['STATE'] == 'CANCELLED by 9204', 'EXITCODE'].value_counts()"
   ]
  },
  {
   "cell_type": "code",
   "execution_count": 19,
   "id": "2f613368",
   "metadata": {},
   "outputs": [
    {
     "data": {
      "text/plain": [
       "0    7375084\n",
       "Name: EXITCODE, dtype: int64"
      ]
     },
     "execution_count": 19,
     "metadata": {},
     "output_type": "execute_result"
    }
   ],
   "source": [
    "# Insight: all COMPLETED states are exit code 0:0\n",
    "slurm_jobs.loc[slurm_jobs['STATE'] == 'COMPLETED', 'EXITCODE'].value_counts()"
   ]
  },
  {
   "cell_type": "code",
   "execution_count": 36,
   "id": "da572f87",
   "metadata": {},
   "outputs": [],
   "source": [
    "slurm_jobs.to_csv('../data/slurm_jobs.csv', index = False)"
   ]
  },
  {
   "cell_type": "markdown",
   "id": "2acfb29a",
   "metadata": {},
   "source": [
    "### make slurm_jobs_comp where filtered down only to completed jobs"
   ]
  },
  {
   "cell_type": "code",
   "execution_count": 20,
   "id": "329ed8e0",
   "metadata": {},
   "outputs": [],
   "source": [
    "# filter down to only COMPLETED state\n",
    "slurm_jobs_comp = slurm_jobs[slurm_jobs['STATE'] == 'COMPLETED'].sort_values('END').reset_index(drop = True)"
   ]
  },
  {
   "cell_type": "markdown",
   "id": "b8f3bf5b",
   "metadata": {},
   "source": [
    "# Problem 1\n",
    "\n",
    "(1A) Calculate some descriptive statistics for how many jobs per hour are being completed. What does the completions per hour look like over the time span of the dataset? \n",
    "\n",
    "(1B) Are there weekly trends, and has it been increasing over the last year?"
   ]
  },
  {
   "cell_type": "markdown",
   "id": "b08c82c1",
   "metadata": {},
   "source": [
    "## (1A) What does the completions per hour look like over the time span of the dataset? \n",
    "\n",
    "Overall completions per hour\n",
    "\n",
    "Rolling counts of jobs completed per hour"
   ]
  },
  {
   "cell_type": "markdown",
   "id": "a23765e1",
   "metadata": {},
   "source": [
    "### overall completions per hour for slurm_jobs: 828.6 completions per hour"
   ]
  },
  {
   "cell_type": "code",
   "execution_count": 21,
   "id": "fd97976d",
   "metadata": {},
   "outputs": [],
   "source": [
    "# define function to calculate total hours of a timedelta\n",
    "def td_hours(timedelta):\n",
    "    hours = timedelta.days*24 + timedelta.seconds/3600\n",
    "    return hours"
   ]
  },
  {
   "cell_type": "code",
   "execution_count": 22,
   "id": "6cd40d5e",
   "metadata": {},
   "outputs": [
    {
     "name": "stdout",
     "output_type": "stream",
     "text": [
      "828.6 completions per hour\n"
     ]
    }
   ],
   "source": [
    "# overall completions per hour for slurm_jobs\n",
    "completions = slurm_jobs['END'].count()\n",
    "time_diff = (slurm_jobs['END'].max() - slurm_jobs['END'].min())\n",
    "jobs_per_hour = completions/td_hours(time_diff)\n",
    "print(round(jobs_per_hour, 1), 'completions per hour')"
   ]
  },
  {
   "cell_type": "markdown",
   "id": "94f0685a",
   "metadata": {},
   "source": [
    "## (1B) Are there weekly trends, and has it been increasing over the last year?\n",
    "\n",
    "bar plot of completions per hour by week, colored by months\n",
    "\n",
    "regression line of completions per hour by week vs week\n",
    "\n",
    "statsmodel analysis of that regression line\n",
    "\n",
    "table output of jobs completed per hour by day, summarized by day of the week\n",
    "\n",
    "bar plot of jobs completed per hour by day, summarized by day of the week"
   ]
  },
  {
   "cell_type": "code",
   "execution_count": 25,
   "id": "09ae55ca",
   "metadata": {},
   "outputs": [],
   "source": [
    "ended_per_hour_by_week = (slurm_jobs.groupby(\n",
    "                                    pd.Grouper(key = 'END', freq = 'W')) # Group by week\n",
    "                                    ['JOBID'] # Counting job ids\n",
    "                                    .count()/168 # divide count by 168 hours in a week\n",
    "                         )"
   ]
  },
  {
   "cell_type": "code",
   "execution_count": 26,
   "id": "cc3f6c15",
   "metadata": {},
   "outputs": [],
   "source": [
    "# display with renamed columns\n",
    "ended_per_hour_by_week = (ended_per_hour_by_week.reset_index()\n",
    "                                              .rename(columns = {'END': 'WEEKOF', \n",
    "                                                                 'JOBID': 'ENDEDPERHOUR'}\n",
    "                                                     )\n",
    "                        )"
   ]
  },
  {
   "cell_type": "markdown",
   "id": "b7c3042c",
   "metadata": {},
   "source": [
    "### August and September 2021 seem to have higher completions per hour than the rest of the months. (We may be able to include October 2020 here, too, which makes me wonder whether the start of the school year has the highest demand.)"
   ]
  },
  {
   "cell_type": "code",
   "execution_count": 68,
   "id": "099a1447",
   "metadata": {},
   "outputs": [
    {
     "data": {
      "image/png": "[encoded data removed]",
      "text/plain": [
       "<Figure size 1440x504 with 1 Axes>"
      ]
     },
     "metadata": {},
     "output_type": "display_data"
    }
   ],
   "source": [
    "# Plot completions per hour by week, colored by month\n",
    "fig, ax = plt.subplots(figsize=(20,7))\n",
    "\n",
    "x_dates = ended_per_hour_by_week['WEEKOF'].dt.strftime('%Y-%m')\n",
    "\n",
    "sns.barplot(x = 'WEEKOF',\n",
    "            y = 'ENDEDPERHOUR',\n",
    "            data = ended_per_hour_by_week,\n",
    "            ax = ax,\n",
    "            hue = x_dates,\n",
    "            dodge = False\n",
    "           )\n",
    "\n",
    "\n",
    "ax.set_xticklabels(labels=x_dates, rotation=45, ha='right')\n",
    "ax.get_legend().remove()\n",
    "ax.axhline(jobs_per_hour, color = 'red')\n",
    "ax.set(xlabel = 'Week Job Was Completed',\n",
    "       ylabel = 'Jobs Completed Per Hour'\n",
    "      )\n",
    "ax.set_title('Jobs Completed Per Hour by Week: August and September Are Popping',\n",
    "             fontdict = {'fontsize':22}\n",
    "            )\n",
    "plt.show()"
   ]
  },
  {
   "cell_type": "markdown",
   "id": "c2faabd8",
   "metadata": {},
   "source": [
    "### trendline of completions per hour by week shows gradual increase over the year."
   ]
  },
  {
   "cell_type": "code",
   "execution_count": 70,
   "id": "466e8d2b",
   "metadata": {},
   "outputs": [
    {
     "data": {
      "image/png": "[encoded data removed]",
      "text/plain": [
       "<Figure size 1440x504 with 1 Axes>"
      ]
     },
     "metadata": {},
     "output_type": "display_data"
    }
   ],
   "source": [
    "# Plot completions per hour by week along with trendline, which shows gradual increase over the year\n",
    "fig, ax = plt.subplots(figsize=(20,7))\n",
    "\n",
    "ax.xaxis.update_units(ended_per_hour_by_week['WEEKOF'])\n",
    "\n",
    "sns.regplot(x = ax.xaxis.convert_units(ended_per_hour_by_week['WEEKOF']),\n",
    "            y = 'ENDEDPERHOUR',\n",
    "            data = ended_per_hour_by_week,\n",
    "            ax = ax,\n",
    "            #hue = x_dates,\n",
    "            #dodge = False\n",
    "           )\n",
    "\n",
    "ax.set(xlabel = 'Week Job Was Completed',\n",
    "       ylabel = 'Jobs Completed Per Hour'\n",
    "      )\n",
    "ax.set_title('Jobs Completed Per Hour Has Increased Over the Past Year',\n",
    "      fontdict = {'fontsize' : 22}\n",
    "      )\n",
    "plt.show()"
   ]
  },
  {
   "cell_type": "markdown",
   "id": "bee11a2d",
   "metadata": {},
   "source": [
    "### statsmodel regression confirms that the increasing trend is significant and has a slope of 1.15 jobs per hour per day (units are in days even though summary values are by week)"
   ]
  },
  {
   "cell_type": "code",
   "execution_count": 30,
   "id": "cbcf7438",
   "metadata": {},
   "outputs": [
    {
     "name": "stdout",
     "output_type": "stream",
     "text": [
      "                 Generalized Linear Model Regression Results                  \n",
      "==============================================================================\n",
      "Dep. Variable:           ENDEDPERHOUR   No. Observations:                   54\n",
      "Model:                            GLM   Df Residuals:                       52\n",
      "Model Family:                Gaussian   Df Model:                            1\n",
      "Link Function:               identity   Scale:                      1.6503e+05\n",
      "Method:                          IRLS   Log-Likelihood:                -399.98\n",
      "Date:                Mon, 01 Nov 2021   Deviance:                   8.5815e+06\n",
      "Time:                        00:42:09   Pearson chi2:                 8.58e+06\n",
      "No. Iterations:                     3                                         \n",
      "Covariance Type:            nonrobust                                         \n",
      "==============================================================================\n",
      "                 coef    std err          z      P>|z|      [0.025      0.975]\n",
      "------------------------------------------------------------------------------\n",
      "const      -8.499e+05   3.74e+05     -2.273      0.023   -1.58e+06   -1.17e+05\n",
      "WEEKOF         1.1529      0.507      2.275      0.023       0.160       2.146\n",
      "==============================================================================\n",
      "Linear AIC: 803.9567913055474\n"
     ]
    }
   ],
   "source": [
    "jobs_ended_vs_week_model = (sm.GLM(endog = ended_per_hour_by_week['ENDEDPERHOUR'],\n",
    "                      exog = sm.add_constant(ended_per_hour_by_week['WEEKOF'].map(datetime.toordinal)),\n",
    "                      family = sm.families.Gaussian())\n",
    "               .fit())\n",
    "\n",
    "print(jobs_ended_vs_week_model.summary())\n",
    "print('Linear AIC: '+str(jobs_ended_vs_week_model.aic))"
   ]
  },
  {
   "cell_type": "markdown",
   "id": "b41bd8aa",
   "metadata": {},
   "source": [
    "### jobs completed per hour by day, summarized by day of the week. summary of weekday jobs per hour shows highest volume of completions early in the work week (Monday - Wednesay)."
   ]
  },
  {
   "cell_type": "code",
   "execution_count": 31,
   "id": "6aff271b",
   "metadata": {},
   "outputs": [],
   "source": [
    "ended_per_hour_by_day = (slurm_jobs.groupby(\n",
    "                                    pd.Grouper(key = 'END', freq = 'D')) # Group by day\n",
    "                                    ['JOBID'] # Counting job ids\n",
    "                                    .count()/24 # divide count by 24 hours in a day\n",
    "                        )"
   ]
  },
  {
   "cell_type": "code",
   "execution_count": 32,
   "id": "bf9d4dd6",
   "metadata": {},
   "outputs": [],
   "source": [
    "# display with renamed columns\n",
    "ended_per_hour_by_day = (ended_per_hour_by_day.reset_index()\n",
    "                                              .rename(columns = {'END': 'DAY', \n",
    "                                                                 'JOBID': 'ENDEDPERHOUR'}\n",
    "                                                     )\n",
    "                        )"
   ]
  },
  {
   "cell_type": "code",
   "execution_count": 33,
   "id": "5f399994",
   "metadata": {},
   "outputs": [
    {
     "data": {
      "text/html": [
       "<div>\n",
       "<style scoped>\n",
       "    .dataframe tbody tr th:only-of-type {\n",
       "        vertical-align: middle;\n",
       "    }\n",
       "\n",
       "    .dataframe tbody tr th {\n",
       "        vertical-align: top;\n",
       "    }\n",
       "\n",
       "    .dataframe thead th {\n",
       "        text-align: right;\n",
       "    }\n",
       "</style>\n",
       "<table border=\"1\" class=\"dataframe\">\n",
       "  <thead>\n",
       "    <tr style=\"text-align: right;\">\n",
       "      <th></th>\n",
       "      <th>DAY</th>\n",
       "      <th>ENDEDPERHOUR</th>\n",
       "      <th>WEEKDAY</th>\n",
       "      <th>WEEKDAYNUMBER</th>\n",
       "    </tr>\n",
       "  </thead>\n",
       "  <tbody>\n",
       "    <tr>\n",
       "      <th>0</th>\n",
       "      <td>2020-10-01</td>\n",
       "      <td>1386.708333</td>\n",
       "      <td>Thursday</td>\n",
       "      <td>4</td>\n",
       "    </tr>\n",
       "    <tr>\n",
       "      <th>1</th>\n",
       "      <td>2020-10-02</td>\n",
       "      <td>1265.625000</td>\n",
       "      <td>Friday</td>\n",
       "      <td>5</td>\n",
       "    </tr>\n",
       "    <tr>\n",
       "      <th>2</th>\n",
       "      <td>2020-10-03</td>\n",
       "      <td>640.333333</td>\n",
       "      <td>Saturday</td>\n",
       "      <td>6</td>\n",
       "    </tr>\n",
       "    <tr>\n",
       "      <th>3</th>\n",
       "      <td>2020-10-04</td>\n",
       "      <td>732.541667</td>\n",
       "      <td>Sunday</td>\n",
       "      <td>7</td>\n",
       "    </tr>\n",
       "    <tr>\n",
       "      <th>4</th>\n",
       "      <td>2020-10-05</td>\n",
       "      <td>1006.916667</td>\n",
       "      <td>Monday</td>\n",
       "      <td>1</td>\n",
       "    </tr>\n",
       "    <tr>\n",
       "      <th>...</th>\n",
       "      <td>...</td>\n",
       "      <td>...</td>\n",
       "      <td>...</td>\n",
       "      <td>...</td>\n",
       "    </tr>\n",
       "    <tr>\n",
       "      <th>367</th>\n",
       "      <td>2021-10-03</td>\n",
       "      <td>81.416667</td>\n",
       "      <td>Sunday</td>\n",
       "      <td>7</td>\n",
       "    </tr>\n",
       "    <tr>\n",
       "      <th>368</th>\n",
       "      <td>2021-10-04</td>\n",
       "      <td>25.750000</td>\n",
       "      <td>Monday</td>\n",
       "      <td>1</td>\n",
       "    </tr>\n",
       "    <tr>\n",
       "      <th>369</th>\n",
       "      <td>2021-10-05</td>\n",
       "      <td>30.375000</td>\n",
       "      <td>Tuesday</td>\n",
       "      <td>2</td>\n",
       "    </tr>\n",
       "    <tr>\n",
       "      <th>370</th>\n",
       "      <td>2021-10-06</td>\n",
       "      <td>11.708333</td>\n",
       "      <td>Wednesday</td>\n",
       "      <td>3</td>\n",
       "    </tr>\n",
       "    <tr>\n",
       "      <th>371</th>\n",
       "      <td>2021-10-07</td>\n",
       "      <td>13.791667</td>\n",
       "      <td>Thursday</td>\n",
       "      <td>4</td>\n",
       "    </tr>\n",
       "  </tbody>\n",
       "</table>\n",
       "<p>372 rows × 4 columns</p>\n",
       "</div>"
      ],
      "text/plain": [
       "           DAY  ENDEDPERHOUR    WEEKDAY  WEEKDAYNUMBER\n",
       "0   2020-10-01   1386.708333   Thursday              4\n",
       "1   2020-10-02   1265.625000     Friday              5\n",
       "2   2020-10-03    640.333333   Saturday              6\n",
       "3   2020-10-04    732.541667     Sunday              7\n",
       "4   2020-10-05   1006.916667     Monday              1\n",
       "..         ...           ...        ...            ...\n",
       "367 2021-10-03     81.416667     Sunday              7\n",
       "368 2021-10-04     25.750000     Monday              1\n",
       "369 2021-10-05     30.375000    Tuesday              2\n",
       "370 2021-10-06     11.708333  Wednesday              3\n",
       "371 2021-10-07     13.791667   Thursday              4\n",
       "\n",
       "[372 rows x 4 columns]"
      ]
     },
     "execution_count": 33,
     "metadata": {},
     "output_type": "execute_result"
    }
   ],
   "source": [
    "# Add weekday and weekday number to completions per hour by day\n",
    "ended_per_hour_by_day['WEEKDAY'] = ended_per_hour_by_day['DAY'].apply(lambda x: calendar.day_name[x.weekday()])\n",
    "ended_per_hour_by_day['WEEKDAYNUMBER'] = ended_per_hour_by_day['DAY'].apply(lambda x: x.weekday()+1)\n",
    "ended_per_hour_by_day"
   ]
  },
  {
   "cell_type": "code",
   "execution_count": 34,
   "id": "1a5b8c1c",
   "metadata": {},
   "outputs": [
    {
     "data": {
      "text/html": [
       "<div>\n",
       "<style scoped>\n",
       "    .dataframe tbody tr th:only-of-type {\n",
       "        vertical-align: middle;\n",
       "    }\n",
       "\n",
       "    .dataframe tbody tr th {\n",
       "        vertical-align: top;\n",
       "    }\n",
       "\n",
       "    .dataframe thead th {\n",
       "        text-align: right;\n",
       "    }\n",
       "</style>\n",
       "<table border=\"1\" class=\"dataframe\">\n",
       "  <thead>\n",
       "    <tr style=\"text-align: right;\">\n",
       "      <th></th>\n",
       "      <th>WEEKDAYNUMBER</th>\n",
       "      <th>WEEKDAY</th>\n",
       "      <th>ENDEDPERHOUR</th>\n",
       "    </tr>\n",
       "  </thead>\n",
       "  <tbody>\n",
       "    <tr>\n",
       "      <th>0</th>\n",
       "      <td>1</td>\n",
       "      <td>Monday</td>\n",
       "      <td>881.209119</td>\n",
       "    </tr>\n",
       "    <tr>\n",
       "      <th>1</th>\n",
       "      <td>2</td>\n",
       "      <td>Tuesday</td>\n",
       "      <td>1022.036950</td>\n",
       "    </tr>\n",
       "    <tr>\n",
       "      <th>2</th>\n",
       "      <td>3</td>\n",
       "      <td>Wednesday</td>\n",
       "      <td>929.574686</td>\n",
       "    </tr>\n",
       "    <tr>\n",
       "      <th>3</th>\n",
       "      <td>4</td>\n",
       "      <td>Thursday</td>\n",
       "      <td>797.590278</td>\n",
       "    </tr>\n",
       "    <tr>\n",
       "      <th>4</th>\n",
       "      <td>5</td>\n",
       "      <td>Friday</td>\n",
       "      <td>807.621069</td>\n",
       "    </tr>\n",
       "    <tr>\n",
       "      <th>5</th>\n",
       "      <td>6</td>\n",
       "      <td>Saturday</td>\n",
       "      <td>666.738994</td>\n",
       "    </tr>\n",
       "    <tr>\n",
       "      <th>6</th>\n",
       "      <td>7</td>\n",
       "      <td>Sunday</td>\n",
       "      <td>694.043239</td>\n",
       "    </tr>\n",
       "  </tbody>\n",
       "</table>\n",
       "</div>"
      ],
      "text/plain": [
       "   WEEKDAYNUMBER    WEEKDAY  ENDEDPERHOUR\n",
       "0              1     Monday    881.209119\n",
       "1              2    Tuesday   1022.036950\n",
       "2              3  Wednesday    929.574686\n",
       "3              4   Thursday    797.590278\n",
       "4              5     Friday    807.621069\n",
       "5              6   Saturday    666.738994\n",
       "6              7     Sunday    694.043239"
      ]
     },
     "execution_count": 34,
     "metadata": {},
     "output_type": "execute_result"
    }
   ],
   "source": [
    "# Aggregate by weekday\n",
    "ended_per_hour_by_weekday = ended_per_hour_by_day.groupby(['WEEKDAYNUMBER', 'WEEKDAY'], as_index = False)['ENDEDPERHOUR'].mean()\n",
    "ended_per_hour_by_weekday"
   ]
  },
  {
   "cell_type": "markdown",
   "id": "43a5f3df",
   "metadata": {},
   "source": [
    "### bar plot shows same result, with Monday - Wednesday as only days above the overall average completions per hour (red line) calculated earlier. Weekend completions per hour look significantly low."
   ]
  },
  {
   "cell_type": "code",
   "execution_count": 67,
   "id": "54fe2eef",
   "metadata": {},
   "outputs": [
    {
     "data": {
      "image/png": "[encoded data removed]",
      "text/plain": [
       "<Figure size 1440x504 with 1 Axes>"
      ]
     },
     "metadata": {},
     "output_type": "display_data"
    }
   ],
   "source": [
    "# Plot completions per hour by weekday\n",
    "fig, ax = plt.subplots(figsize=(20,7))\n",
    "\n",
    "sns.barplot(x = 'WEEKDAY',\n",
    "            y = 'ENDEDPERHOUR',\n",
    "            data = ended_per_hour_by_weekday,\n",
    "            ax = ax,\n",
    "           )\n",
    "\n",
    "ax.axhline(jobs_per_hour, color = 'red')\n",
    "ax.set(xlabel = 'Week Job Was Completed',\n",
    "       ylabel = 'Jobs Completed Per Hour'\n",
    "      )\n",
    "ax.set_title('Jobs Completed Per Hour by Weekday: The Volume Is Early in the Work Week (Monday - Wednesday)',\n",
    "            fontdict = {'fontsize' : 22}\n",
    "            )\n",
    "plt.show()"
   ]
  },
  {
   "cell_type": "markdown",
   "id": "feff30a5",
   "metadata": {},
   "source": [
    "# Problem 2\n",
    "\n",
    "(2A) Does the job state affect completions per hour? i.e. if I only look at jobs with exit code 0:0 in the \"COMPLETED\" state, is that a similar number of completions per hour as with all jobs, failed or cancelled? This will indicate if the load on the scheduler is by user design or is a result of users not sufficiently testing their jobs before submitting very large arrays. \n",
    "\n",
    "(2B) We also expect that most job completions will be in the \"production\" partition, but is this actually true?"
   ]
  },
  {
   "cell_type": "markdown",
   "id": "52fc48b6",
   "metadata": {},
   "source": [
    "## (2a) Does the job state affect completions per hour?\n",
    "\n",
    "Jobs ended per hour does vary by job state. In particular, in an average hour, ~91.2% of jobs are COMPLETED."
   ]
  },
  {
   "cell_type": "markdown",
   "id": "5bb68c90",
   "metadata": {},
   "source": [
    "### if a state is of the form \"CANCELLED by ####\" then replace with simply \"CANCELLED by user\": STATEMOD"
   ]
  },
  {
   "cell_type": "code",
   "execution_count": 39,
   "id": "777c894b",
   "metadata": {},
   "outputs": [
    {
     "name": "stderr",
     "output_type": "stream",
     "text": [
      "<ipython-input-39-9f1ccdda77ef>:1: SettingWithCopyWarning: \n",
      "A value is trying to be set on a copy of a slice from a DataFrame.\n",
      "Try using .loc[row_indexer,col_indexer] = value instead\n",
      "\n",
      "See the caveats in the documentation: https://pandas.pydata.org/pandas-docs/stable/user_guide/indexing.html#returning-a-view-versus-a-copy\n",
      "  slurm_jobs['STATEMOD'] = slurm_jobs['STATE'].str.replace(r'CANCELLED by \\d+', 'CANCELLED by user', regex = True)\n"
     ]
    },
    {
     "data": {
      "text/plain": [
       "COMPLETED            7375084\n",
       "CANCELLED               9055\n",
       "CANCELLED by user       5588\n",
       "FAILED                  3766\n",
       "OUT_OF_MEMORY           1739\n",
       "NODE_FAIL                  2\n",
       "Name: STATEMOD, dtype: int64"
      ]
     },
     "execution_count": 39,
     "metadata": {},
     "output_type": "execute_result"
    }
   ],
   "source": [
    "slurm_jobs['STATEMOD'] = slurm_jobs['STATE'].str.replace(r'CANCELLED by \\d+', 'CANCELLED by user', regex = True)\n",
    "slurm_jobs['STATEMOD'].value_counts()"
   ]
  },
  {
   "cell_type": "code",
   "execution_count": 44,
   "id": "1e78c7ee",
   "metadata": {},
   "outputs": [],
   "source": [
    "slurm_by_state = (slurm_jobs\n",
    "                            .groupby('STATEMOD', as_index = False)\n",
    "                            .rolling('1h', on = 'END')\n",
    "                            ['JOBID']\n",
    "                            .count()\n",
    "                            .reset_index()\n",
    "                )"
   ]
  },
  {
   "cell_type": "code",
   "execution_count": 91,
   "id": "3b42ae1e",
   "metadata": {},
   "outputs": [
    {
     "data": {
      "text/html": [
       "<div>\n",
       "<style scoped>\n",
       "    .dataframe tbody tr th:only-of-type {\n",
       "        vertical-align: middle;\n",
       "    }\n",
       "\n",
       "    .dataframe tbody tr th {\n",
       "        vertical-align: top;\n",
       "    }\n",
       "\n",
       "    .dataframe thead th {\n",
       "        text-align: right;\n",
       "    }\n",
       "</style>\n",
       "<table border=\"1\" class=\"dataframe\">\n",
       "  <thead>\n",
       "    <tr style=\"text-align: right;\">\n",
       "      <th></th>\n",
       "      <th>STATEMOD</th>\n",
       "      <th>PERHOURMEAN</th>\n",
       "      <th>PERHOURPROP</th>\n",
       "    </tr>\n",
       "  </thead>\n",
       "  <tbody>\n",
       "    <tr>\n",
       "      <th>2</th>\n",
       "      <td>COMPLETED</td>\n",
       "      <td>2316.600285</td>\n",
       "      <td>0.911994</td>\n",
       "    </tr>\n",
       "    <tr>\n",
       "      <th>1</th>\n",
       "      <td>CANCELLED by user</td>\n",
       "      <td>123.848067</td>\n",
       "      <td>0.048756</td>\n",
       "    </tr>\n",
       "    <tr>\n",
       "      <th>5</th>\n",
       "      <td>OUT_OF_MEMORY</td>\n",
       "      <td>38.653824</td>\n",
       "      <td>0.015217</td>\n",
       "    </tr>\n",
       "    <tr>\n",
       "      <th>3</th>\n",
       "      <td>FAILED</td>\n",
       "      <td>33.783856</td>\n",
       "      <td>0.013300</td>\n",
       "    </tr>\n",
       "    <tr>\n",
       "      <th>0</th>\n",
       "      <td>CANCELLED</td>\n",
       "      <td>26.263943</td>\n",
       "      <td>0.010340</td>\n",
       "    </tr>\n",
       "    <tr>\n",
       "      <th>4</th>\n",
       "      <td>NODE_FAIL</td>\n",
       "      <td>1.000000</td>\n",
       "      <td>0.000394</td>\n",
       "    </tr>\n",
       "  </tbody>\n",
       "</table>\n",
       "</div>"
      ],
      "text/plain": [
       "            STATEMOD  PERHOURMEAN  PERHOURPROP\n",
       "2          COMPLETED  2316.600285     0.911994\n",
       "1  CANCELLED by user   123.848067     0.048756\n",
       "5      OUT_OF_MEMORY    38.653824     0.015217\n",
       "3             FAILED    33.783856     0.013300\n",
       "0          CANCELLED    26.263943     0.010340\n",
       "4          NODE_FAIL     1.000000     0.000394"
      ]
     },
     "execution_count": 91,
     "metadata": {},
     "output_type": "execute_result"
    }
   ],
   "source": [
    "slurm_by_state_sum = (slurm_by_state\n",
    "                 .groupby('STATEMOD', as_index = False)\n",
    "                 ['JOBID']\n",
    "                 .mean()\n",
    "                 .rename(columns = {'JOBID': 'PERHOURMEAN'})\n",
    ")\n",
    "\n",
    "slurm_by_state_sum['PERHOURPROP'] = slurm_by_state_sum['PERHOURMEAN']/slurm_by_state_sum['PERHOURMEAN'].sum()\n",
    "slurm_by_state_sum.sort_values('PERHOURMEAN', ascending = False)"
   ]
  },
  {
   "cell_type": "code",
   "execution_count": 66,
   "id": "3e96892c",
   "metadata": {},
   "outputs": [
    {
     "data": {
      "image/png": "[encoded data removed]",
      "text/plain": [
       "<Figure size 1440x504 with 1 Axes>"
      ]
     },
     "metadata": {},
     "output_type": "display_data"
    }
   ],
   "source": [
    "# Plot completions per hour by state\n",
    "fig, ax = plt.subplots(figsize=(20,7))\n",
    "\n",
    "sns.barplot(x = 'STATEMOD',\n",
    "            y = 'PERHOURMEAN',\n",
    "            data = slurm_by_state_sum,\n",
    "            order = slurm_by_state_sum.sort_values('PERHOURMEAN', ascending = False)['STATEMOD'],\n",
    "            ax = ax,\n",
    "           )\n",
    "\n",
    "ax.axhline(jobs_per_hour, color = 'red')\n",
    "ax.annotate(text = f'All-State Jobs Ended Per Hour: {jobs_per_hour:.2f}', \n",
    "            xy = (3.75, jobs_per_hour+5),\n",
    "            fontsize = 18)\n",
    "ax.set(xlabel = 'Job State',\n",
    "       ylabel = 'Mean Jobs Completed Per Hour')\n",
    "ax.set_title('Mean Jobs Completed Per Hour by Job State: COMPLETED Jobs Have by Far the Most Volume',\n",
    "            fontdict = {'fontsize' : 22}\n",
    "            )\n",
    "plt.show()"
   ]
  },
  {
   "cell_type": "markdown",
   "id": "2d377da5",
   "metadata": {},
   "source": [
    "## (2B) We also expect that most job completions will be in the \"production\" partition, but is this actually true?\n",
    "\n",
    "Yes, most job completions (~95%) are in the \"production\" partition."
   ]
  },
  {
   "cell_type": "code",
   "execution_count": 87,
   "id": "e4537883",
   "metadata": {},
   "outputs": [
    {
     "data": {
      "text/html": [
       "<div>\n",
       "<style scoped>\n",
       "    .dataframe tbody tr th:only-of-type {\n",
       "        vertical-align: middle;\n",
       "    }\n",
       "\n",
       "    .dataframe tbody tr th {\n",
       "        vertical-align: top;\n",
       "    }\n",
       "\n",
       "    .dataframe thead th {\n",
       "        text-align: right;\n",
       "    }\n",
       "</style>\n",
       "<table border=\"1\" class=\"dataframe\">\n",
       "  <thead>\n",
       "    <tr style=\"text-align: right;\">\n",
       "      <th></th>\n",
       "      <th>PARTITION</th>\n",
       "      <th>COUNT</th>\n",
       "      <th>PROPORTION</th>\n",
       "    </tr>\n",
       "  </thead>\n",
       "  <tbody>\n",
       "    <tr>\n",
       "      <th>0</th>\n",
       "      <td>production</td>\n",
       "      <td>7019136</td>\n",
       "      <td>0.9491</td>\n",
       "    </tr>\n",
       "    <tr>\n",
       "      <th>1</th>\n",
       "      <td>nogpfs</td>\n",
       "      <td>147044</td>\n",
       "      <td>0.0199</td>\n",
       "    </tr>\n",
       "    <tr>\n",
       "      <th>2</th>\n",
       "      <td>pascal</td>\n",
       "      <td>124451</td>\n",
       "      <td>0.0168</td>\n",
       "    </tr>\n",
       "    <tr>\n",
       "      <th>3</th>\n",
       "      <td>sam</td>\n",
       "      <td>64967</td>\n",
       "      <td>0.0088</td>\n",
       "    </tr>\n",
       "    <tr>\n",
       "      <th>4</th>\n",
       "      <td>turing</td>\n",
       "      <td>21412</td>\n",
       "      <td>0.0029</td>\n",
       "    </tr>\n",
       "    <tr>\n",
       "      <th>5</th>\n",
       "      <td>maxwell</td>\n",
       "      <td>11278</td>\n",
       "      <td>0.0015</td>\n",
       "    </tr>\n",
       "    <tr>\n",
       "      <th>6</th>\n",
       "      <td>cgw-maizie</td>\n",
       "      <td>4308</td>\n",
       "      <td>0.0006</td>\n",
       "    </tr>\n",
       "    <tr>\n",
       "      <th>7</th>\n",
       "      <td>debug</td>\n",
       "      <td>1616</td>\n",
       "      <td>0.0002</td>\n",
       "    </tr>\n",
       "    <tr>\n",
       "      <th>8</th>\n",
       "      <td>cgw-platypus</td>\n",
       "      <td>376</td>\n",
       "      <td>0.0001</td>\n",
       "    </tr>\n",
       "    <tr>\n",
       "      <th>9</th>\n",
       "      <td>cgw-dsi-gw</td>\n",
       "      <td>228</td>\n",
       "      <td>0.0000</td>\n",
       "    </tr>\n",
       "    <tr>\n",
       "      <th>10</th>\n",
       "      <td>cgw-capra1</td>\n",
       "      <td>153</td>\n",
       "      <td>0.0000</td>\n",
       "    </tr>\n",
       "    <tr>\n",
       "      <th>11</th>\n",
       "      <td>cgw-dougherty1</td>\n",
       "      <td>125</td>\n",
       "      <td>0.0000</td>\n",
       "    </tr>\n",
       "    <tr>\n",
       "      <th>12</th>\n",
       "      <td>cgw-horus</td>\n",
       "      <td>61</td>\n",
       "      <td>0.0000</td>\n",
       "    </tr>\n",
       "    <tr>\n",
       "      <th>13</th>\n",
       "      <td>cgw-cqs1</td>\n",
       "      <td>28</td>\n",
       "      <td>0.0000</td>\n",
       "    </tr>\n",
       "    <tr>\n",
       "      <th>14</th>\n",
       "      <td>cgw-hanuman</td>\n",
       "      <td>21</td>\n",
       "      <td>0.0000</td>\n",
       "    </tr>\n",
       "    <tr>\n",
       "      <th>15</th>\n",
       "      <td>cgw-sideshowbob</td>\n",
       "      <td>14</td>\n",
       "      <td>0.0000</td>\n",
       "    </tr>\n",
       "    <tr>\n",
       "      <th>16</th>\n",
       "      <td>cgw-vm-qa-flatearth1</td>\n",
       "      <td>9</td>\n",
       "      <td>0.0000</td>\n",
       "    </tr>\n",
       "    <tr>\n",
       "      <th>17</th>\n",
       "      <td>cgw-tbi01</td>\n",
       "      <td>7</td>\n",
       "      <td>0.0000</td>\n",
       "    </tr>\n",
       "  </tbody>\n",
       "</table>\n",
       "</div>"
      ],
      "text/plain": [
       "               PARTITION    COUNT  PROPORTION\n",
       "0             production  7019136      0.9491\n",
       "1                 nogpfs   147044      0.0199\n",
       "2                 pascal   124451      0.0168\n",
       "3                    sam    64967      0.0088\n",
       "4                 turing    21412      0.0029\n",
       "5                maxwell    11278      0.0015\n",
       "6             cgw-maizie     4308      0.0006\n",
       "7                  debug     1616      0.0002\n",
       "8           cgw-platypus      376      0.0001\n",
       "9             cgw-dsi-gw      228      0.0000\n",
       "10            cgw-capra1      153      0.0000\n",
       "11        cgw-dougherty1      125      0.0000\n",
       "12             cgw-horus       61      0.0000\n",
       "13              cgw-cqs1       28      0.0000\n",
       "14           cgw-hanuman       21      0.0000\n",
       "15       cgw-sideshowbob       14      0.0000\n",
       "16  cgw-vm-qa-flatearth1        9      0.0000\n",
       "17             cgw-tbi01        7      0.0000"
      ]
     },
     "execution_count": 87,
     "metadata": {},
     "output_type": "execute_result"
    }
   ],
   "source": [
    "partitions_count = slurm_jobs['PARTITION'].value_counts().reset_index().rename(columns = {'index': 'PARTITION', 'PARTITION':'COUNT'})\n",
    "partitions_prop = slurm_jobs['PARTITION'].value_counts(normalize = True).round(4).reset_index().rename(columns = {'index': 'PARTITION', 'PARTITION':'PROPORTION'})\n",
    "partitions_count.merge(partitions_prop)"
   ]
  }
 ],
 "metadata": {
  "kernelspec": {
   "display_name": "Python 3",
   "language": "python",
   "name": "python3"
  },
  "language_info": {
   "codemirror_mode": {
    "name": "ipython",
    "version": 3
   },
   "file_extension": ".py",
   "mimetype": "text/x-python",
   "name": "python",
   "nbconvert_exporter": "python",
   "pygments_lexer": "ipython3",
   "version": "3.8.8"
  }
 },
 "nbformat": 4,
 "nbformat_minor": 5
}
