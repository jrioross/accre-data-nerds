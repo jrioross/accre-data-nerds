{
 "cells": [
  {
   "cell_type": "code",
   "execution_count": 14,
   "id": "87f99554",
   "metadata": {},
   "outputs": [],
   "source": [
    "import pandas as pd\n",
    "import numpy as np\n",
    "import matplotlib.pyplot as plt\n",
    "import seaborn as sns\n",
    "import re\n",
    "from jupyterthemes import jtplot\n",
    "from datetime import timedelta, datetime\n",
    "import plotly.express as px\n",
    "jtplot.style()"
   ]
  },
  {
   "cell_type": "markdown",
   "id": "cabd3111",
   "metadata": {},
   "source": [
    "# read in fullsample.csv"
   ]
  },
  {
   "cell_type": "code",
   "execution_count": 3,
   "id": "224839c6",
   "metadata": {},
   "outputs": [],
   "source": [
    "fs = pd.read_csv('../data/fullsample.csv')"
   ]
  },
  {
   "cell_type": "code",
   "execution_count": 9,
   "id": "127c858a",
   "metadata": {},
   "outputs": [],
   "source": [
    "fs = fs[(fs['BEGIN'] != 'Unknown') & (fs['END'] != 'Unknown')]"
   ]
  },
  {
   "cell_type": "code",
   "execution_count": 13,
   "id": "48c8519a",
   "metadata": {},
   "outputs": [
    {
     "data": {
      "text/html": [
       "<div>\n",
       "<style scoped>\n",
       "    .dataframe tbody tr th:only-of-type {\n",
       "        vertical-align: middle;\n",
       "    }\n",
       "\n",
       "    .dataframe tbody tr th {\n",
       "        vertical-align: top;\n",
       "    }\n",
       "\n",
       "    .dataframe thead th {\n",
       "        text-align: right;\n",
       "    }\n",
       "</style>\n",
       "<table border=\"1\" class=\"dataframe\">\n",
       "  <thead>\n",
       "    <tr style=\"text-align: right;\">\n",
       "      <th></th>\n",
       "      <th>JOBID</th>\n",
       "      <th>STATE</th>\n",
       "      <th>BEGIN</th>\n",
       "      <th>END</th>\n",
       "      <th>REQMEM</th>\n",
       "      <th>USEDMEM</th>\n",
       "      <th>REQTIME</th>\n",
       "      <th>USEDTIME</th>\n",
       "      <th>NODES</th>\n",
       "      <th>CPUS</th>\n",
       "      <th>PARTITION</th>\n",
       "      <th>EXITCODE</th>\n",
       "    </tr>\n",
       "  </thead>\n",
       "  <tbody>\n",
       "    <tr>\n",
       "      <th>1</th>\n",
       "      <td>30853133</td>\n",
       "      <td>COMPLETED</td>\n",
       "      <td>2021-08-06 11:36:09</td>\n",
       "      <td>2021-09-05 11:36:32</td>\n",
       "      <td>262144Mn</td>\n",
       "      <td>20604.62M</td>\n",
       "      <td>30-00:00:00</td>\n",
       "      <td>30-00:00:23</td>\n",
       "      <td>1</td>\n",
       "      <td>1</td>\n",
       "      <td>cgw-platypus</td>\n",
       "      <td>0:0</td>\n",
       "    </tr>\n",
       "    <tr>\n",
       "      <th>2</th>\n",
       "      <td>30858137</td>\n",
       "      <td>COMPLETED</td>\n",
       "      <td>2021-08-06 19:04:39</td>\n",
       "      <td>2021-09-05 19:04:53</td>\n",
       "      <td>204800Mn</td>\n",
       "      <td>57553.77M</td>\n",
       "      <td>30-00:00:00</td>\n",
       "      <td>30-00:00:14</td>\n",
       "      <td>1</td>\n",
       "      <td>32</td>\n",
       "      <td>cgw-tbi01</td>\n",
       "      <td>0:0</td>\n",
       "    </tr>\n",
       "    <tr>\n",
       "      <th>3</th>\n",
       "      <td>30935078</td>\n",
       "      <td>COMPLETED</td>\n",
       "      <td>2021-08-09 16:52:51</td>\n",
       "      <td>2021-09-07 20:52:55</td>\n",
       "      <td>65536Mn</td>\n",
       "      <td>20577.96M</td>\n",
       "      <td>29-04:00:00</td>\n",
       "      <td>29-04:00:04</td>\n",
       "      <td>1</td>\n",
       "      <td>8</td>\n",
       "      <td>cgw-platypus</td>\n",
       "      <td>0:0</td>\n",
       "    </tr>\n",
       "    <tr>\n",
       "      <th>4</th>\n",
       "      <td>31364111_2</td>\n",
       "      <td>COMPLETED</td>\n",
       "      <td>2021-08-17 07:45:07</td>\n",
       "      <td>2021-09-10 16:45:24</td>\n",
       "      <td>16384Mn</td>\n",
       "      <td>9733.43M</td>\n",
       "      <td>24-09:00:00</td>\n",
       "      <td>24-09:00:17</td>\n",
       "      <td>1</td>\n",
       "      <td>1</td>\n",
       "      <td>production</td>\n",
       "      <td>0:0</td>\n",
       "    </tr>\n",
       "    <tr>\n",
       "      <th>5</th>\n",
       "      <td>31364111_3</td>\n",
       "      <td>COMPLETED</td>\n",
       "      <td>2021-08-17 07:45:07</td>\n",
       "      <td>2021-09-06 16:17:34</td>\n",
       "      <td>16384Mn</td>\n",
       "      <td>9708.04M</td>\n",
       "      <td>24-09:00:00</td>\n",
       "      <td>20-08:32:27</td>\n",
       "      <td>1</td>\n",
       "      <td>1</td>\n",
       "      <td>production</td>\n",
       "      <td>0:0</td>\n",
       "    </tr>\n",
       "    <tr>\n",
       "      <th>...</th>\n",
       "      <td>...</td>\n",
       "      <td>...</td>\n",
       "      <td>...</td>\n",
       "      <td>...</td>\n",
       "      <td>...</td>\n",
       "      <td>...</td>\n",
       "      <td>...</td>\n",
       "      <td>...</td>\n",
       "      <td>...</td>\n",
       "      <td>...</td>\n",
       "      <td>...</td>\n",
       "      <td>...</td>\n",
       "    </tr>\n",
       "    <tr>\n",
       "      <th>7395880</th>\n",
       "      <td>25493434</td>\n",
       "      <td>COMPLETED</td>\n",
       "      <td>2020-10-31 23:39:00</td>\n",
       "      <td>2020-10-31 23:40:46</td>\n",
       "      <td>2000Mn</td>\n",
       "      <td>0.09M</td>\n",
       "      <td>2-00:00:00</td>\n",
       "      <td>00:01:46</td>\n",
       "      <td>1</td>\n",
       "      <td>1</td>\n",
       "      <td>sam</td>\n",
       "      <td>0:0</td>\n",
       "    </tr>\n",
       "    <tr>\n",
       "      <th>7395881</th>\n",
       "      <td>25493435</td>\n",
       "      <td>COMPLETED</td>\n",
       "      <td>2020-10-31 23:39:13</td>\n",
       "      <td>2020-10-31 23:40:38</td>\n",
       "      <td>2000Mn</td>\n",
       "      <td>187.92M</td>\n",
       "      <td>2-00:00:00</td>\n",
       "      <td>00:01:25</td>\n",
       "      <td>1</td>\n",
       "      <td>1</td>\n",
       "      <td>sam</td>\n",
       "      <td>0:0</td>\n",
       "    </tr>\n",
       "    <tr>\n",
       "      <th>7395882</th>\n",
       "      <td>25493476</td>\n",
       "      <td>COMPLETED</td>\n",
       "      <td>2020-10-31 23:46:29</td>\n",
       "      <td>2020-10-31 23:49:43</td>\n",
       "      <td>4096Mc</td>\n",
       "      <td>803.97M</td>\n",
       "      <td>12:00:00</td>\n",
       "      <td>00:03:14</td>\n",
       "      <td>1</td>\n",
       "      <td>1</td>\n",
       "      <td>production</td>\n",
       "      <td>0:0</td>\n",
       "    </tr>\n",
       "    <tr>\n",
       "      <th>7395883</th>\n",
       "      <td>25493515</td>\n",
       "      <td>COMPLETED</td>\n",
       "      <td>2020-10-31 23:49:44</td>\n",
       "      <td>2020-10-31 23:51:40</td>\n",
       "      <td>2000Mn</td>\n",
       "      <td>0.09M</td>\n",
       "      <td>2-00:00:00</td>\n",
       "      <td>00:01:56</td>\n",
       "      <td>1</td>\n",
       "      <td>1</td>\n",
       "      <td>sam</td>\n",
       "      <td>0:0</td>\n",
       "    </tr>\n",
       "    <tr>\n",
       "      <th>7395884</th>\n",
       "      <td>25493542</td>\n",
       "      <td>COMPLETED</td>\n",
       "      <td>2020-10-31 23:56:49</td>\n",
       "      <td>2020-10-31 23:59:57</td>\n",
       "      <td>4096Mc</td>\n",
       "      <td>886.06M</td>\n",
       "      <td>12:00:00</td>\n",
       "      <td>00:03:08</td>\n",
       "      <td>1</td>\n",
       "      <td>1</td>\n",
       "      <td>production</td>\n",
       "      <td>0:0</td>\n",
       "    </tr>\n",
       "  </tbody>\n",
       "</table>\n",
       "<p>7395234 rows × 12 columns</p>\n",
       "</div>"
      ],
      "text/plain": [
       "              JOBID      STATE               BEGIN                 END  \\\n",
       "1          30853133  COMPLETED 2021-08-06 11:36:09 2021-09-05 11:36:32   \n",
       "2          30858137  COMPLETED 2021-08-06 19:04:39 2021-09-05 19:04:53   \n",
       "3          30935078  COMPLETED 2021-08-09 16:52:51 2021-09-07 20:52:55   \n",
       "4        31364111_2  COMPLETED 2021-08-17 07:45:07 2021-09-10 16:45:24   \n",
       "5        31364111_3  COMPLETED 2021-08-17 07:45:07 2021-09-06 16:17:34   \n",
       "...             ...        ...                 ...                 ...   \n",
       "7395880    25493434  COMPLETED 2020-10-31 23:39:00 2020-10-31 23:40:46   \n",
       "7395881    25493435  COMPLETED 2020-10-31 23:39:13 2020-10-31 23:40:38   \n",
       "7395882    25493476  COMPLETED 2020-10-31 23:46:29 2020-10-31 23:49:43   \n",
       "7395883    25493515  COMPLETED 2020-10-31 23:49:44 2020-10-31 23:51:40   \n",
       "7395884    25493542  COMPLETED 2020-10-31 23:56:49 2020-10-31 23:59:57   \n",
       "\n",
       "           REQMEM    USEDMEM      REQTIME     USEDTIME  NODES  CPUS  \\\n",
       "1        262144Mn  20604.62M  30-00:00:00  30-00:00:23      1     1   \n",
       "2        204800Mn  57553.77M  30-00:00:00  30-00:00:14      1    32   \n",
       "3         65536Mn  20577.96M  29-04:00:00  29-04:00:04      1     8   \n",
       "4         16384Mn   9733.43M  24-09:00:00  24-09:00:17      1     1   \n",
       "5         16384Mn   9708.04M  24-09:00:00  20-08:32:27      1     1   \n",
       "...           ...        ...          ...          ...    ...   ...   \n",
       "7395880    2000Mn      0.09M   2-00:00:00     00:01:46      1     1   \n",
       "7395881    2000Mn    187.92M   2-00:00:00     00:01:25      1     1   \n",
       "7395882    4096Mc    803.97M     12:00:00     00:03:14      1     1   \n",
       "7395883    2000Mn      0.09M   2-00:00:00     00:01:56      1     1   \n",
       "7395884    4096Mc    886.06M     12:00:00     00:03:08      1     1   \n",
       "\n",
       "            PARTITION EXITCODE  \n",
       "1        cgw-platypus      0:0  \n",
       "2           cgw-tbi01      0:0  \n",
       "3        cgw-platypus      0:0  \n",
       "4          production      0:0  \n",
       "5          production      0:0  \n",
       "...               ...      ...  \n",
       "7395880           sam      0:0  \n",
       "7395881           sam      0:0  \n",
       "7395882    production      0:0  \n",
       "7395883           sam      0:0  \n",
       "7395884    production      0:0  \n",
       "\n",
       "[7395234 rows x 12 columns]"
      ]
     },
     "execution_count": 13,
     "metadata": {},
     "output_type": "execute_result"
    }
   ],
   "source": [
    "fs"
   ]
  },
  {
   "cell_type": "markdown",
   "id": "184a178d",
   "metadata": {},
   "source": [
    "# Get fs info()"
   ]
  },
  {
   "cell_type": "code",
   "execution_count": 10,
   "id": "dff7f695",
   "metadata": {},
   "outputs": [
    {
     "name": "stdout",
     "output_type": "stream",
     "text": [
      "<class 'pandas.core.frame.DataFrame'>\n",
      "Int64Index: 7395234 entries, 1 to 7395884\n",
      "Data columns (total 12 columns):\n",
      " #   Column     Dtype \n",
      "---  ------     ----- \n",
      " 0   JOBID      object\n",
      " 1   STATE      object\n",
      " 2   BEGIN      object\n",
      " 3   END        object\n",
      " 4   REQMEM     object\n",
      " 5   USEDMEM    object\n",
      " 6   REQTIME    object\n",
      " 7   USEDTIME   object\n",
      " 8   NODES      int64 \n",
      " 9   CPUS       int64 \n",
      " 10  PARTITION  object\n",
      " 11  EXITCODE   object\n",
      "dtypes: int64(2), object(10)\n",
      "memory usage: 733.5+ MB\n"
     ]
    }
   ],
   "source": [
    "fs.info()"
   ]
  },
  {
   "cell_type": "markdown",
   "id": "293fec4f",
   "metadata": {},
   "source": [
    "# convert appropriate columns to datetime"
   ]
  },
  {
   "cell_type": "code",
   "execution_count": 11,
   "id": "e9c6edc3",
   "metadata": {},
   "outputs": [
    {
     "name": "stderr",
     "output_type": "stream",
     "text": [
      "<ipython-input-11-f2e450a03f1f>:4: SettingWithCopyWarning: \n",
      "A value is trying to be set on a copy of a slice from a DataFrame.\n",
      "Try using .loc[row_indexer,col_indexer] = value instead\n",
      "\n",
      "See the caveats in the documentation: https://pandas.pydata.org/pandas-docs/stable/user_guide/indexing.html#returning-a-view-versus-a-copy\n",
      "  fs[col] = pd.to_datetime(fs[col])\n"
     ]
    }
   ],
   "source": [
    "dt_converts = ['BEGIN', 'END']\n",
    "\n",
    "for col in dt_converts:\n",
    "    fs[col] = pd.to_datetime(fs[col])"
   ]
  },
  {
   "cell_type": "markdown",
   "id": "d381930c",
   "metadata": {},
   "source": [
    "# filter down to COMPLETED state with 0:0"
   ]
  },
  {
   "cell_type": "code",
   "execution_count": 27,
   "id": "a590c134",
   "metadata": {},
   "outputs": [
    {
     "data": {
      "text/plain": [
       "1:0    1\n",
       "Name: EXITCODE, dtype: int64"
      ]
     },
     "execution_count": 27,
     "metadata": {},
     "output_type": "execute_result"
    }
   ],
   "source": [
    "# one instance of 9204 cancallation\n",
    "\n",
    "fs.loc[fs['STATE'] == 'CANCELLED by 9204', 'EXITCODE'].value_counts()"
   ]
  },
  {
   "cell_type": "code",
   "execution_count": 29,
   "id": "90ff50d5",
   "metadata": {},
   "outputs": [
    {
     "data": {
      "text/plain": [
       "0:0    7375084\n",
       "Name: EXITCODE, dtype: int64"
      ]
     },
     "execution_count": 29,
     "metadata": {},
     "output_type": "execute_result"
    }
   ],
   "source": [
    "# all COMPLETED states are exit code 0:0\n",
    "\n",
    "fs.loc[fs['STATE'] == 'COMPLETED', 'EXITCODE'].value_counts()"
   ]
  },
  {
   "cell_type": "code",
   "execution_count": 30,
   "id": "b3839efe",
   "metadata": {},
   "outputs": [],
   "source": [
    "# filter down to only COMPLETED state\n",
    "\n",
    "fscomp = fs[fs['STATE'] == 'COMPLETED']"
   ]
  },
  {
   "cell_type": "code",
   "execution_count": null,
   "id": "8ba8d6bd",
   "metadata": {},
   "outputs": [],
   "source": []
  }
 ],
 "metadata": {
  "kernelspec": {
   "display_name": "Python 3",
   "language": "python",
   "name": "python3"
  },
  "language_info": {
   "codemirror_mode": {
    "name": "ipython",
    "version": 3
   },
   "file_extension": ".py",
   "mimetype": "text/x-python",
   "name": "python",
   "nbconvert_exporter": "python",
   "pygments_lexer": "ipython3",
   "version": "3.8.8"
  }
 },
 "nbformat": 4,
 "nbformat_minor": 5
}
