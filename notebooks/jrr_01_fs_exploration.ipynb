{
 "cells": [
  {
   "cell_type": "code",
   "execution_count": 63,
   "id": "c50b6565",
   "metadata": {},
   "outputs": [],
   "source": [
    "import pandas as pd\n",
    "import numpy as np\n",
    "import matplotlib.pyplot as plt\n",
    "import matplotlib.dates as mdates\n",
    "import statsmodels.api as sm\n",
    "import seaborn as sns\n",
    "import re\n",
    "from jupyterthemes import jtplot\n",
    "from datetime import timedelta, datetime\n",
    "import calendar\n",
    "import plotly.express as px\n",
    "jtplot.style()"
   ]
  },
  {
   "cell_type": "markdown",
   "id": "eb22dad0",
   "metadata": {},
   "source": [
    "# read in fullsample.csv"
   ]
  },
  {
   "cell_type": "code",
   "execution_count": 2,
   "id": "5caffb8a",
   "metadata": {},
   "outputs": [],
   "source": [
    "fs = pd.read_csv('../data/fullsample.csv')"
   ]
  },
  {
   "cell_type": "code",
   "execution_count": 3,
   "id": "e1274834",
   "metadata": {},
   "outputs": [],
   "source": [
    "fs = fs[(fs['BEGIN'] != 'Unknown') & (fs['END'] != 'Unknown')]"
   ]
  },
  {
   "cell_type": "code",
   "execution_count": 4,
   "id": "454dccca",
   "metadata": {},
   "outputs": [
    {
     "data": {
      "text/html": [
       "<div>\n",
       "<style scoped>\n",
       "    .dataframe tbody tr th:only-of-type {\n",
       "        vertical-align: middle;\n",
       "    }\n",
       "\n",
       "    .dataframe tbody tr th {\n",
       "        vertical-align: top;\n",
       "    }\n",
       "\n",
       "    .dataframe thead th {\n",
       "        text-align: right;\n",
       "    }\n",
       "</style>\n",
       "<table border=\"1\" class=\"dataframe\">\n",
       "  <thead>\n",
       "    <tr style=\"text-align: right;\">\n",
       "      <th></th>\n",
       "      <th>JOBID</th>\n",
       "      <th>STATE</th>\n",
       "      <th>BEGIN</th>\n",
       "      <th>END</th>\n",
       "      <th>REQMEM</th>\n",
       "      <th>USEDMEM</th>\n",
       "      <th>REQTIME</th>\n",
       "      <th>USEDTIME</th>\n",
       "      <th>NODES</th>\n",
       "      <th>CPUS</th>\n",
       "      <th>PARTITION</th>\n",
       "      <th>EXITCODE</th>\n",
       "    </tr>\n",
       "  </thead>\n",
       "  <tbody>\n",
       "    <tr>\n",
       "      <th>1</th>\n",
       "      <td>30853133</td>\n",
       "      <td>COMPLETED</td>\n",
       "      <td>2021-08-06T11:36:09</td>\n",
       "      <td>2021-09-05T11:36:32</td>\n",
       "      <td>262144Mn</td>\n",
       "      <td>20604.62M</td>\n",
       "      <td>30-00:00:00</td>\n",
       "      <td>30-00:00:23</td>\n",
       "      <td>1</td>\n",
       "      <td>1</td>\n",
       "      <td>cgw-platypus</td>\n",
       "      <td>0:0</td>\n",
       "    </tr>\n",
       "    <tr>\n",
       "      <th>2</th>\n",
       "      <td>30858137</td>\n",
       "      <td>COMPLETED</td>\n",
       "      <td>2021-08-06T19:04:39</td>\n",
       "      <td>2021-09-05T19:04:53</td>\n",
       "      <td>204800Mn</td>\n",
       "      <td>57553.77M</td>\n",
       "      <td>30-00:00:00</td>\n",
       "      <td>30-00:00:14</td>\n",
       "      <td>1</td>\n",
       "      <td>32</td>\n",
       "      <td>cgw-tbi01</td>\n",
       "      <td>0:0</td>\n",
       "    </tr>\n",
       "    <tr>\n",
       "      <th>3</th>\n",
       "      <td>30935078</td>\n",
       "      <td>COMPLETED</td>\n",
       "      <td>2021-08-09T16:52:51</td>\n",
       "      <td>2021-09-07T20:52:55</td>\n",
       "      <td>65536Mn</td>\n",
       "      <td>20577.96M</td>\n",
       "      <td>29-04:00:00</td>\n",
       "      <td>29-04:00:04</td>\n",
       "      <td>1</td>\n",
       "      <td>8</td>\n",
       "      <td>cgw-platypus</td>\n",
       "      <td>0:0</td>\n",
       "    </tr>\n",
       "    <tr>\n",
       "      <th>4</th>\n",
       "      <td>31364111_2</td>\n",
       "      <td>COMPLETED</td>\n",
       "      <td>2021-08-17T07:45:07</td>\n",
       "      <td>2021-09-10T16:45:24</td>\n",
       "      <td>16384Mn</td>\n",
       "      <td>9733.43M</td>\n",
       "      <td>24-09:00:00</td>\n",
       "      <td>24-09:00:17</td>\n",
       "      <td>1</td>\n",
       "      <td>1</td>\n",
       "      <td>production</td>\n",
       "      <td>0:0</td>\n",
       "    </tr>\n",
       "    <tr>\n",
       "      <th>5</th>\n",
       "      <td>31364111_3</td>\n",
       "      <td>COMPLETED</td>\n",
       "      <td>2021-08-17T07:45:07</td>\n",
       "      <td>2021-09-06T16:17:34</td>\n",
       "      <td>16384Mn</td>\n",
       "      <td>9708.04M</td>\n",
       "      <td>24-09:00:00</td>\n",
       "      <td>20-08:32:27</td>\n",
       "      <td>1</td>\n",
       "      <td>1</td>\n",
       "      <td>production</td>\n",
       "      <td>0:0</td>\n",
       "    </tr>\n",
       "    <tr>\n",
       "      <th>...</th>\n",
       "      <td>...</td>\n",
       "      <td>...</td>\n",
       "      <td>...</td>\n",
       "      <td>...</td>\n",
       "      <td>...</td>\n",
       "      <td>...</td>\n",
       "      <td>...</td>\n",
       "      <td>...</td>\n",
       "      <td>...</td>\n",
       "      <td>...</td>\n",
       "      <td>...</td>\n",
       "      <td>...</td>\n",
       "    </tr>\n",
       "    <tr>\n",
       "      <th>7395880</th>\n",
       "      <td>25493434</td>\n",
       "      <td>COMPLETED</td>\n",
       "      <td>2020-10-31T23:39:00</td>\n",
       "      <td>2020-10-31T23:40:46</td>\n",
       "      <td>2000Mn</td>\n",
       "      <td>0.09M</td>\n",
       "      <td>2-00:00:00</td>\n",
       "      <td>00:01:46</td>\n",
       "      <td>1</td>\n",
       "      <td>1</td>\n",
       "      <td>sam</td>\n",
       "      <td>0:0</td>\n",
       "    </tr>\n",
       "    <tr>\n",
       "      <th>7395881</th>\n",
       "      <td>25493435</td>\n",
       "      <td>COMPLETED</td>\n",
       "      <td>2020-10-31T23:39:13</td>\n",
       "      <td>2020-10-31T23:40:38</td>\n",
       "      <td>2000Mn</td>\n",
       "      <td>187.92M</td>\n",
       "      <td>2-00:00:00</td>\n",
       "      <td>00:01:25</td>\n",
       "      <td>1</td>\n",
       "      <td>1</td>\n",
       "      <td>sam</td>\n",
       "      <td>0:0</td>\n",
       "    </tr>\n",
       "    <tr>\n",
       "      <th>7395882</th>\n",
       "      <td>25493476</td>\n",
       "      <td>COMPLETED</td>\n",
       "      <td>2020-10-31T23:46:29</td>\n",
       "      <td>2020-10-31T23:49:43</td>\n",
       "      <td>4096Mc</td>\n",
       "      <td>803.97M</td>\n",
       "      <td>12:00:00</td>\n",
       "      <td>00:03:14</td>\n",
       "      <td>1</td>\n",
       "      <td>1</td>\n",
       "      <td>production</td>\n",
       "      <td>0:0</td>\n",
       "    </tr>\n",
       "    <tr>\n",
       "      <th>7395883</th>\n",
       "      <td>25493515</td>\n",
       "      <td>COMPLETED</td>\n",
       "      <td>2020-10-31T23:49:44</td>\n",
       "      <td>2020-10-31T23:51:40</td>\n",
       "      <td>2000Mn</td>\n",
       "      <td>0.09M</td>\n",
       "      <td>2-00:00:00</td>\n",
       "      <td>00:01:56</td>\n",
       "      <td>1</td>\n",
       "      <td>1</td>\n",
       "      <td>sam</td>\n",
       "      <td>0:0</td>\n",
       "    </tr>\n",
       "    <tr>\n",
       "      <th>7395884</th>\n",
       "      <td>25493542</td>\n",
       "      <td>COMPLETED</td>\n",
       "      <td>2020-10-31T23:56:49</td>\n",
       "      <td>2020-10-31T23:59:57</td>\n",
       "      <td>4096Mc</td>\n",
       "      <td>886.06M</td>\n",
       "      <td>12:00:00</td>\n",
       "      <td>00:03:08</td>\n",
       "      <td>1</td>\n",
       "      <td>1</td>\n",
       "      <td>production</td>\n",
       "      <td>0:0</td>\n",
       "    </tr>\n",
       "  </tbody>\n",
       "</table>\n",
       "<p>7395234 rows × 12 columns</p>\n",
       "</div>"
      ],
      "text/plain": [
       "              JOBID      STATE                BEGIN                  END  \\\n",
       "1          30853133  COMPLETED  2021-08-06T11:36:09  2021-09-05T11:36:32   \n",
       "2          30858137  COMPLETED  2021-08-06T19:04:39  2021-09-05T19:04:53   \n",
       "3          30935078  COMPLETED  2021-08-09T16:52:51  2021-09-07T20:52:55   \n",
       "4        31364111_2  COMPLETED  2021-08-17T07:45:07  2021-09-10T16:45:24   \n",
       "5        31364111_3  COMPLETED  2021-08-17T07:45:07  2021-09-06T16:17:34   \n",
       "...             ...        ...                  ...                  ...   \n",
       "7395880    25493434  COMPLETED  2020-10-31T23:39:00  2020-10-31T23:40:46   \n",
       "7395881    25493435  COMPLETED  2020-10-31T23:39:13  2020-10-31T23:40:38   \n",
       "7395882    25493476  COMPLETED  2020-10-31T23:46:29  2020-10-31T23:49:43   \n",
       "7395883    25493515  COMPLETED  2020-10-31T23:49:44  2020-10-31T23:51:40   \n",
       "7395884    25493542  COMPLETED  2020-10-31T23:56:49  2020-10-31T23:59:57   \n",
       "\n",
       "           REQMEM    USEDMEM      REQTIME     USEDTIME  NODES  CPUS  \\\n",
       "1        262144Mn  20604.62M  30-00:00:00  30-00:00:23      1     1   \n",
       "2        204800Mn  57553.77M  30-00:00:00  30-00:00:14      1    32   \n",
       "3         65536Mn  20577.96M  29-04:00:00  29-04:00:04      1     8   \n",
       "4         16384Mn   9733.43M  24-09:00:00  24-09:00:17      1     1   \n",
       "5         16384Mn   9708.04M  24-09:00:00  20-08:32:27      1     1   \n",
       "...           ...        ...          ...          ...    ...   ...   \n",
       "7395880    2000Mn      0.09M   2-00:00:00     00:01:46      1     1   \n",
       "7395881    2000Mn    187.92M   2-00:00:00     00:01:25      1     1   \n",
       "7395882    4096Mc    803.97M     12:00:00     00:03:14      1     1   \n",
       "7395883    2000Mn      0.09M   2-00:00:00     00:01:56      1     1   \n",
       "7395884    4096Mc    886.06M     12:00:00     00:03:08      1     1   \n",
       "\n",
       "            PARTITION EXITCODE  \n",
       "1        cgw-platypus      0:0  \n",
       "2           cgw-tbi01      0:0  \n",
       "3        cgw-platypus      0:0  \n",
       "4          production      0:0  \n",
       "5          production      0:0  \n",
       "...               ...      ...  \n",
       "7395880           sam      0:0  \n",
       "7395881           sam      0:0  \n",
       "7395882    production      0:0  \n",
       "7395883           sam      0:0  \n",
       "7395884    production      0:0  \n",
       "\n",
       "[7395234 rows x 12 columns]"
      ]
     },
     "execution_count": 4,
     "metadata": {},
     "output_type": "execute_result"
    }
   ],
   "source": [
    "fs"
   ]
  },
  {
   "cell_type": "markdown",
   "id": "aaa1600e",
   "metadata": {},
   "source": [
    "# convert appropriate columns to datetime"
   ]
  },
  {
   "cell_type": "code",
   "execution_count": 5,
   "id": "b9c1909e",
   "metadata": {},
   "outputs": [],
   "source": [
    "dt_converts = ['BEGIN', 'END']\n",
    "\n",
    "for col in dt_converts:\n",
    "    fs[col] = pd.to_datetime(fs[col])"
   ]
  },
  {
   "cell_type": "markdown",
   "id": "fefde064",
   "metadata": {},
   "source": [
    "# filter down to COMPLETED state with 0:0: fscomp"
   ]
  },
  {
   "cell_type": "code",
   "execution_count": 6,
   "id": "01922949",
   "metadata": {},
   "outputs": [
    {
     "data": {
      "text/plain": [
       "1:0    1\n",
       "Name: EXITCODE, dtype: int64"
      ]
     },
     "execution_count": 6,
     "metadata": {},
     "output_type": "execute_result"
    }
   ],
   "source": [
    "# Insight: one instance of 9204 cancallation\n",
    "fs.loc[fs['STATE'] == 'CANCELLED by 9204', 'EXITCODE'].value_counts()"
   ]
  },
  {
   "cell_type": "code",
   "execution_count": 7,
   "id": "2f613368",
   "metadata": {},
   "outputs": [
    {
     "data": {
      "text/plain": [
       "0:0    7375084\n",
       "Name: EXITCODE, dtype: int64"
      ]
     },
     "execution_count": 7,
     "metadata": {},
     "output_type": "execute_result"
    }
   ],
   "source": [
    "# Insight: all COMPLETED states are exit code 0:0\n",
    "fs.loc[fs['STATE'] == 'COMPLETED', 'EXITCODE'].value_counts()"
   ]
  },
  {
   "cell_type": "code",
   "execution_count": 8,
   "id": "329ed8e0",
   "metadata": {},
   "outputs": [],
   "source": [
    "# filter down to only COMPLETED state\n",
    "fscomp = fs[fs['STATE'] == 'COMPLETED']"
   ]
  },
  {
   "cell_type": "code",
   "execution_count": 9,
   "id": "cf54caf9",
   "metadata": {},
   "outputs": [
    {
     "data": {
      "text/html": [
       "<div>\n",
       "<style scoped>\n",
       "    .dataframe tbody tr th:only-of-type {\n",
       "        vertical-align: middle;\n",
       "    }\n",
       "\n",
       "    .dataframe tbody tr th {\n",
       "        vertical-align: top;\n",
       "    }\n",
       "\n",
       "    .dataframe thead th {\n",
       "        text-align: right;\n",
       "    }\n",
       "</style>\n",
       "<table border=\"1\" class=\"dataframe\">\n",
       "  <thead>\n",
       "    <tr style=\"text-align: right;\">\n",
       "      <th></th>\n",
       "      <th>JOBID</th>\n",
       "      <th>STATE</th>\n",
       "      <th>BEGIN</th>\n",
       "      <th>END</th>\n",
       "      <th>REQMEM</th>\n",
       "      <th>USEDMEM</th>\n",
       "      <th>REQTIME</th>\n",
       "      <th>USEDTIME</th>\n",
       "      <th>NODES</th>\n",
       "      <th>CPUS</th>\n",
       "      <th>PARTITION</th>\n",
       "      <th>EXITCODE</th>\n",
       "    </tr>\n",
       "  </thead>\n",
       "  <tbody>\n",
       "    <tr>\n",
       "      <th>1</th>\n",
       "      <td>30853133</td>\n",
       "      <td>COMPLETED</td>\n",
       "      <td>2021-08-06 11:36:09</td>\n",
       "      <td>2021-09-05 11:36:32</td>\n",
       "      <td>262144Mn</td>\n",
       "      <td>20604.62M</td>\n",
       "      <td>30-00:00:00</td>\n",
       "      <td>30-00:00:23</td>\n",
       "      <td>1</td>\n",
       "      <td>1</td>\n",
       "      <td>cgw-platypus</td>\n",
       "      <td>0:0</td>\n",
       "    </tr>\n",
       "    <tr>\n",
       "      <th>2</th>\n",
       "      <td>30858137</td>\n",
       "      <td>COMPLETED</td>\n",
       "      <td>2021-08-06 19:04:39</td>\n",
       "      <td>2021-09-05 19:04:53</td>\n",
       "      <td>204800Mn</td>\n",
       "      <td>57553.77M</td>\n",
       "      <td>30-00:00:00</td>\n",
       "      <td>30-00:00:14</td>\n",
       "      <td>1</td>\n",
       "      <td>32</td>\n",
       "      <td>cgw-tbi01</td>\n",
       "      <td>0:0</td>\n",
       "    </tr>\n",
       "    <tr>\n",
       "      <th>3</th>\n",
       "      <td>30935078</td>\n",
       "      <td>COMPLETED</td>\n",
       "      <td>2021-08-09 16:52:51</td>\n",
       "      <td>2021-09-07 20:52:55</td>\n",
       "      <td>65536Mn</td>\n",
       "      <td>20577.96M</td>\n",
       "      <td>29-04:00:00</td>\n",
       "      <td>29-04:00:04</td>\n",
       "      <td>1</td>\n",
       "      <td>8</td>\n",
       "      <td>cgw-platypus</td>\n",
       "      <td>0:0</td>\n",
       "    </tr>\n",
       "    <tr>\n",
       "      <th>4</th>\n",
       "      <td>31364111_2</td>\n",
       "      <td>COMPLETED</td>\n",
       "      <td>2021-08-17 07:45:07</td>\n",
       "      <td>2021-09-10 16:45:24</td>\n",
       "      <td>16384Mn</td>\n",
       "      <td>9733.43M</td>\n",
       "      <td>24-09:00:00</td>\n",
       "      <td>24-09:00:17</td>\n",
       "      <td>1</td>\n",
       "      <td>1</td>\n",
       "      <td>production</td>\n",
       "      <td>0:0</td>\n",
       "    </tr>\n",
       "    <tr>\n",
       "      <th>5</th>\n",
       "      <td>31364111_3</td>\n",
       "      <td>COMPLETED</td>\n",
       "      <td>2021-08-17 07:45:07</td>\n",
       "      <td>2021-09-06 16:17:34</td>\n",
       "      <td>16384Mn</td>\n",
       "      <td>9708.04M</td>\n",
       "      <td>24-09:00:00</td>\n",
       "      <td>20-08:32:27</td>\n",
       "      <td>1</td>\n",
       "      <td>1</td>\n",
       "      <td>production</td>\n",
       "      <td>0:0</td>\n",
       "    </tr>\n",
       "  </tbody>\n",
       "</table>\n",
       "</div>"
      ],
      "text/plain": [
       "        JOBID      STATE               BEGIN                 END    REQMEM  \\\n",
       "1    30853133  COMPLETED 2021-08-06 11:36:09 2021-09-05 11:36:32  262144Mn   \n",
       "2    30858137  COMPLETED 2021-08-06 19:04:39 2021-09-05 19:04:53  204800Mn   \n",
       "3    30935078  COMPLETED 2021-08-09 16:52:51 2021-09-07 20:52:55   65536Mn   \n",
       "4  31364111_2  COMPLETED 2021-08-17 07:45:07 2021-09-10 16:45:24   16384Mn   \n",
       "5  31364111_3  COMPLETED 2021-08-17 07:45:07 2021-09-06 16:17:34   16384Mn   \n",
       "\n",
       "     USEDMEM      REQTIME     USEDTIME  NODES  CPUS     PARTITION EXITCODE  \n",
       "1  20604.62M  30-00:00:00  30-00:00:23      1     1  cgw-platypus      0:0  \n",
       "2  57553.77M  30-00:00:00  30-00:00:14      1    32     cgw-tbi01      0:0  \n",
       "3  20577.96M  29-04:00:00  29-04:00:04      1     8  cgw-platypus      0:0  \n",
       "4   9733.43M  24-09:00:00  24-09:00:17      1     1    production      0:0  \n",
       "5   9708.04M  24-09:00:00  20-08:32:27      1     1    production      0:0  "
      ]
     },
     "execution_count": 9,
     "metadata": {},
     "output_type": "execute_result"
    }
   ],
   "source": [
    "fscomp.head()"
   ]
  },
  {
   "cell_type": "markdown",
   "id": "571e6325",
   "metadata": {},
   "source": [
    "# get rolling counts of completions per hour"
   ]
  },
  {
   "cell_type": "code",
   "execution_count": 10,
   "id": "ddda4e98",
   "metadata": {},
   "outputs": [],
   "source": [
    "comp_per_hour = (fscomp.set_index('END')\n",
    "                       .sort_values('END', ascending = True)\n",
    "                       .rolling('1h')\n",
    "                        ['JOBID']\n",
    "                        .count()\n",
    "                )"
   ]
  },
  {
   "cell_type": "markdown",
   "id": "588911d0",
   "metadata": {},
   "source": [
    "# get overall completions per hour for fs: 826.4 completions per hour"
   ]
  },
  {
   "cell_type": "code",
   "execution_count": 11,
   "id": "30dc79a7",
   "metadata": {},
   "outputs": [],
   "source": [
    "# define function to calculate total hours of a timedelta\n",
    "def td_hours(timedelta):\n",
    "    hours = timedelta.days*24 + timedelta.seconds/3600\n",
    "    return hours"
   ]
  },
  {
   "cell_type": "code",
   "execution_count": 19,
   "id": "ca1742d3",
   "metadata": {},
   "outputs": [
    {
     "name": "stdout",
     "output_type": "stream",
     "text": [
      "826.4 completions per hour\n"
     ]
    }
   ],
   "source": [
    "# overall completions per hour for fs\n",
    "completions = len(fscomp)\n",
    "time_diff = (fs['END'].max() - fs['END'].min())\n",
    "jobs_per_hour = completions/td_hours(time_diff)\n",
    "print(round(jobs_per_hour, 1), 'completions per hour')"
   ]
  },
  {
   "cell_type": "markdown",
   "id": "8b4c016d",
   "metadata": {},
   "source": [
    "# get completions per hour by week and analyze the change over the year"
   ]
  },
  {
   "cell_type": "code",
   "execution_count": 46,
   "id": "9936dff4",
   "metadata": {},
   "outputs": [],
   "source": [
    "comp_per_hour_by_week = (fscomp.groupby(\n",
    "                                    pd.Grouper(key = 'END', freq = 'W')) # Group by week\n",
    "                                 ['JOBID'] # Counting job ids\n",
    "                                 .count()/168 # divide count by 168 hours in a week\n",
    "                        )"
   ]
  },
  {
   "cell_type": "code",
   "execution_count": 47,
   "id": "d3d623ba",
   "metadata": {},
   "outputs": [],
   "source": [
    "# display with renamed columns\n",
    "comp_per_hour_by_week = (comp_per_hour_by_week.reset_index()\n",
    "                                              .rename(columns = {'END': 'WEEK OF', \n",
    "                                                                 'JOBID': 'COMPLETIONS PER HOUR'}\n",
    "                                                     )\n",
    "                        )"
   ]
  },
  {
   "cell_type": "markdown",
   "id": "0317a81e",
   "metadata": {},
   "source": [
    "## August and September 2021 seem to have higher completions per hour than the rest of the months. (We may be able to include October 2020 here, too, which makes me wonder whether the start of the school year has the highest demand.)"
   ]
  },
  {
   "cell_type": "code",
   "execution_count": 48,
   "id": "110a4846",
   "metadata": {},
   "outputs": [
    {
     "data": {
      "image/png": "[encoded data removed]",
      "text/plain": [
       "<Figure size 1440x504 with 1 Axes>"
      ]
     },
     "metadata": {},
     "output_type": "display_data"
    }
   ],
   "source": [
    "# Plot completions per hour by week, colored by month\n",
    "fig, ax = plt.subplots(figsize=(20,7))\n",
    "\n",
    "x_dates = comp_per_hour_by_week['WEEK OF'].dt.strftime('%Y-%m')\n",
    "\n",
    "sns.barplot(x = 'WEEK OF',\n",
    "            y = 'COMPLETIONS PER HOUR',\n",
    "            data = comp_per_hour_by_week,\n",
    "            ax = ax,\n",
    "            hue = x_dates,\n",
    "            dodge = False\n",
    "           )\n",
    "\n",
    "\n",
    "ax.set_xticklabels(labels=x_dates, rotation=45, ha='right')\n",
    "ax.get_legend().remove()\n",
    "ax.axhline(jobs_per_hour, color = 'red')\n",
    "ax.set(xlabel = 'Week Job Was Completed',\n",
    "       ylabel = 'Jobs Completed Per Hour',\n",
    "       title = 'Jobs Completed Per Hour by Week: August and September Are Popping')\n",
    "plt.show()"
   ]
  },
  {
   "cell_type": "markdown",
   "id": "be3c463a",
   "metadata": {},
   "source": [
    "## trendline of completions per hour by week shows gradual increase over the year."
   ]
  },
  {
   "cell_type": "code",
   "execution_count": 50,
   "id": "ecbb66c9",
   "metadata": {},
   "outputs": [
    {
     "data": {
      "image/png": "[encoded data removed]",
      "text/plain": [
       "<Figure size 1440x504 with 1 Axes>"
      ]
     },
     "metadata": {},
     "output_type": "display_data"
    }
   ],
   "source": [
    "# Plot completions per hour by week along with trendline, which shows gradual increase over the year\n",
    "fig, ax = plt.subplots(figsize=(20,7))\n",
    "\n",
    "ax.xaxis.update_units(comp_per_hour_by_week['WEEK OF'])\n",
    "\n",
    "sns.regplot(x = ax.xaxis.convert_units(comp_per_hour_by_week['WEEK OF']),\n",
    "            y = 'COMPLETIONS PER HOUR',\n",
    "            data = comp_per_hour_by_week,\n",
    "            ax = ax,\n",
    "            #hue = x_dates,\n",
    "            #dodge = False\n",
    "           )\n",
    "\n",
    "ax.set(xlabel = 'Week Job Was Completed',\n",
    "       ylabel = 'Jobs Completed Per Hour',\n",
    "       title = 'Jobs Completed Per Hour Has Increased Over the Past Year')\n",
    "plt.show()"
   ]
  },
  {
   "cell_type": "markdown",
   "id": "7b1d0419",
   "metadata": {},
   "source": [
    "## statsmodel regression confirms that the increasing trend is significant and has a slope of 1.15 jobs per hour per day (units are in days even though summary values are by week)"
   ]
  },
  {
   "cell_type": "code",
   "execution_count": 51,
   "id": "6d73cde6",
   "metadata": {},
   "outputs": [
    {
     "name": "stdout",
     "output_type": "stream",
     "text": [
      "                  Generalized Linear Model Regression Results                   \n",
      "================================================================================\n",
      "Dep. Variable:     COMPLETIONS PER HOUR   No. Observations:                   54\n",
      "Model:                              GLM   Df Residuals:                       52\n",
      "Model Family:                  Gaussian   Df Model:                            1\n",
      "Link Function:                 identity   Scale:                      1.6475e+05\n",
      "Method:                            IRLS   Log-Likelihood:                -399.93\n",
      "Date:                  Wed, 27 Oct 2021   Deviance:                   8.5672e+06\n",
      "Time:                          21:27:31   Pearson chi2:                 8.57e+06\n",
      "No. Iterations:                       3                                         \n",
      "Covariance Type:              nonrobust                                         \n",
      "==============================================================================\n",
      "                 coef    std err          z      P>|z|      [0.025      0.975]\n",
      "------------------------------------------------------------------------------\n",
      "const      -8.481e+05   3.74e+05     -2.270      0.023   -1.58e+06   -1.16e+05\n",
      "WEEK OF        1.1505      0.506      2.272      0.023       0.158       2.143\n",
      "==============================================================================\n"
     ]
    }
   ],
   "source": [
    "spent_model = (sm.GLM(endog = comp_per_hour_by_week['COMPLETIONS PER HOUR'],\n",
    "                      exog = sm.add_constant(comp_per_hour_by_week['WEEK OF'].map(datetime.toordinal)),\n",
    "                      family = sm.families.Gaussian())\n",
    "               .fit())\n",
    "\n",
    "print(spent_model.summary())"
   ]
  },
  {
   "cell_type": "markdown",
   "id": "41d7aa72",
   "metadata": {},
   "source": [
    "# get jobs completed per hour by day, then summarize by day of the week"
   ]
  },
  {
   "cell_type": "code",
   "execution_count": 58,
   "id": "f44b0454",
   "metadata": {},
   "outputs": [],
   "source": [
    "comp_per_hour_by_day = (fscomp.groupby(\n",
    "                                    pd.Grouper(key = 'END', freq = 'D')) # Group by day\n",
    "                                 ['JOBID'] # Counting job ids\n",
    "                                 .count()/24 # divide count by 24 hours in a day\n",
    "                        )"
   ]
  },
  {
   "cell_type": "code",
   "execution_count": 60,
   "id": "8b7ea611",
   "metadata": {},
   "outputs": [],
   "source": [
    "# display with renamed columns\n",
    "comp_per_hour_by_day = (comp_per_hour_by_day.reset_index()\n",
    "                                              .rename(columns = {'END': 'DAY', \n",
    "                                                                 'JOBID': 'COMPLETIONS PER HOUR'}\n",
    "                                                     )\n",
    "                        )"
   ]
  },
  {
   "cell_type": "code",
   "execution_count": 67,
   "id": "7182c558",
   "metadata": {},
   "outputs": [
    {
     "data": {
      "text/html": [
       "<div>\n",
       "<style scoped>\n",
       "    .dataframe tbody tr th:only-of-type {\n",
       "        vertical-align: middle;\n",
       "    }\n",
       "\n",
       "    .dataframe tbody tr th {\n",
       "        vertical-align: top;\n",
       "    }\n",
       "\n",
       "    .dataframe thead th {\n",
       "        text-align: right;\n",
       "    }\n",
       "</style>\n",
       "<table border=\"1\" class=\"dataframe\">\n",
       "  <thead>\n",
       "    <tr style=\"text-align: right;\">\n",
       "      <th></th>\n",
       "      <th>DAY</th>\n",
       "      <th>COMPLETIONS PER HOUR</th>\n",
       "      <th>WEEKDAY</th>\n",
       "      <th>WEEKDAY NUMBER</th>\n",
       "    </tr>\n",
       "  </thead>\n",
       "  <tbody>\n",
       "    <tr>\n",
       "      <th>0</th>\n",
       "      <td>2020-10-01</td>\n",
       "      <td>1385.958333</td>\n",
       "      <td>Thursday</td>\n",
       "      <td>4</td>\n",
       "    </tr>\n",
       "    <tr>\n",
       "      <th>1</th>\n",
       "      <td>2020-10-02</td>\n",
       "      <td>1264.833333</td>\n",
       "      <td>Friday</td>\n",
       "      <td>5</td>\n",
       "    </tr>\n",
       "    <tr>\n",
       "      <th>2</th>\n",
       "      <td>2020-10-03</td>\n",
       "      <td>639.416667</td>\n",
       "      <td>Saturday</td>\n",
       "      <td>6</td>\n",
       "    </tr>\n",
       "    <tr>\n",
       "      <th>3</th>\n",
       "      <td>2020-10-04</td>\n",
       "      <td>730.500000</td>\n",
       "      <td>Sunday</td>\n",
       "      <td>7</td>\n",
       "    </tr>\n",
       "    <tr>\n",
       "      <th>4</th>\n",
       "      <td>2020-10-05</td>\n",
       "      <td>1004.958333</td>\n",
       "      <td>Monday</td>\n",
       "      <td>1</td>\n",
       "    </tr>\n",
       "    <tr>\n",
       "      <th>...</th>\n",
       "      <td>...</td>\n",
       "      <td>...</td>\n",
       "      <td>...</td>\n",
       "      <td>...</td>\n",
       "    </tr>\n",
       "    <tr>\n",
       "      <th>367</th>\n",
       "      <td>2021-10-03</td>\n",
       "      <td>65.041667</td>\n",
       "      <td>Sunday</td>\n",
       "      <td>7</td>\n",
       "    </tr>\n",
       "    <tr>\n",
       "      <th>368</th>\n",
       "      <td>2021-10-04</td>\n",
       "      <td>25.583333</td>\n",
       "      <td>Monday</td>\n",
       "      <td>1</td>\n",
       "    </tr>\n",
       "    <tr>\n",
       "      <th>369</th>\n",
       "      <td>2021-10-05</td>\n",
       "      <td>30.291667</td>\n",
       "      <td>Tuesday</td>\n",
       "      <td>2</td>\n",
       "    </tr>\n",
       "    <tr>\n",
       "      <th>370</th>\n",
       "      <td>2021-10-06</td>\n",
       "      <td>11.041667</td>\n",
       "      <td>Wednesday</td>\n",
       "      <td>3</td>\n",
       "    </tr>\n",
       "    <tr>\n",
       "      <th>371</th>\n",
       "      <td>2021-10-07</td>\n",
       "      <td>13.333333</td>\n",
       "      <td>Thursday</td>\n",
       "      <td>4</td>\n",
       "    </tr>\n",
       "  </tbody>\n",
       "</table>\n",
       "<p>372 rows × 4 columns</p>\n",
       "</div>"
      ],
      "text/plain": [
       "           DAY  COMPLETIONS PER HOUR    WEEKDAY  WEEKDAY NUMBER\n",
       "0   2020-10-01           1385.958333   Thursday               4\n",
       "1   2020-10-02           1264.833333     Friday               5\n",
       "2   2020-10-03            639.416667   Saturday               6\n",
       "3   2020-10-04            730.500000     Sunday               7\n",
       "4   2020-10-05           1004.958333     Monday               1\n",
       "..         ...                   ...        ...             ...\n",
       "367 2021-10-03             65.041667     Sunday               7\n",
       "368 2021-10-04             25.583333     Monday               1\n",
       "369 2021-10-05             30.291667    Tuesday               2\n",
       "370 2021-10-06             11.041667  Wednesday               3\n",
       "371 2021-10-07             13.333333   Thursday               4\n",
       "\n",
       "[372 rows x 4 columns]"
      ]
     },
     "execution_count": 67,
     "metadata": {},
     "output_type": "execute_result"
    }
   ],
   "source": [
    "# Add weekday and weekday number to completions per hour by day\n",
    "comp_per_hour_by_day['WEEKDAY'] = comp_per_hour_by_day['DAY'].apply(lambda x: calendar.day_name[x.weekday()])\n",
    "comp_per_hour_by_day['WEEKDAY NUMBER'] = comp_per_hour_by_day['DAY'].apply(lambda x: x.weekday()+1)\n",
    "comp_per_hour_by_day"
   ]
  },
  {
   "cell_type": "markdown",
   "id": "df6c7449",
   "metadata": {},
   "source": [
    "## summary of weekday jobs per hour shows highest volume of completions early in the work week (Monday - Wednesay)."
   ]
  },
  {
   "cell_type": "code",
   "execution_count": 70,
   "id": "886634e6",
   "metadata": {},
   "outputs": [
    {
     "data": {
      "text/html": [
       "<div>\n",
       "<style scoped>\n",
       "    .dataframe tbody tr th:only-of-type {\n",
       "        vertical-align: middle;\n",
       "    }\n",
       "\n",
       "    .dataframe tbody tr th {\n",
       "        vertical-align: top;\n",
       "    }\n",
       "\n",
       "    .dataframe thead th {\n",
       "        text-align: right;\n",
       "    }\n",
       "</style>\n",
       "<table border=\"1\" class=\"dataframe\">\n",
       "  <thead>\n",
       "    <tr style=\"text-align: right;\">\n",
       "      <th></th>\n",
       "      <th>WEEKDAY NUMBER</th>\n",
       "      <th>WEEKDAY</th>\n",
       "      <th>COMPLETIONS PER HOUR</th>\n",
       "    </tr>\n",
       "  </thead>\n",
       "  <tbody>\n",
       "    <tr>\n",
       "      <th>0</th>\n",
       "      <td>1</td>\n",
       "      <td>Monday</td>\n",
       "      <td>878.555031</td>\n",
       "    </tr>\n",
       "    <tr>\n",
       "      <th>1</th>\n",
       "      <td>2</td>\n",
       "      <td>Tuesday</td>\n",
       "      <td>1019.834906</td>\n",
       "    </tr>\n",
       "    <tr>\n",
       "      <th>2</th>\n",
       "      <td>3</td>\n",
       "      <td>Wednesday</td>\n",
       "      <td>926.651730</td>\n",
       "    </tr>\n",
       "    <tr>\n",
       "      <th>3</th>\n",
       "      <td>4</td>\n",
       "      <td>Thursday</td>\n",
       "      <td>795.691358</td>\n",
       "    </tr>\n",
       "    <tr>\n",
       "      <th>4</th>\n",
       "      <td>5</td>\n",
       "      <td>Friday</td>\n",
       "      <td>805.452044</td>\n",
       "    </tr>\n",
       "    <tr>\n",
       "      <th>5</th>\n",
       "      <td>6</td>\n",
       "      <td>Saturday</td>\n",
       "      <td>664.910377</td>\n",
       "    </tr>\n",
       "    <tr>\n",
       "      <th>6</th>\n",
       "      <td>7</td>\n",
       "      <td>Sunday</td>\n",
       "      <td>691.913522</td>\n",
       "    </tr>\n",
       "  </tbody>\n",
       "</table>\n",
       "</div>"
      ],
      "text/plain": [
       "   WEEKDAY NUMBER    WEEKDAY  COMPLETIONS PER HOUR\n",
       "0               1     Monday            878.555031\n",
       "1               2    Tuesday           1019.834906\n",
       "2               3  Wednesday            926.651730\n",
       "3               4   Thursday            795.691358\n",
       "4               5     Friday            805.452044\n",
       "5               6   Saturday            664.910377\n",
       "6               7     Sunday            691.913522"
      ]
     },
     "execution_count": 70,
     "metadata": {},
     "output_type": "execute_result"
    }
   ],
   "source": [
    "# Aggregate by weekday\n",
    "comp_per_hour_weekday = comp_per_hour_by_day.groupby(['WEEKDAY NUMBER', 'WEEKDAY'], as_index = False)['COMPLETIONS PER HOUR'].mean()\n",
    "comp_per_hour_weekday"
   ]
  },
  {
   "cell_type": "markdown",
   "id": "d2c40167",
   "metadata": {},
   "source": [
    "## bar chart shows same result, with Monday - Wednesday as only days above the overall average completions per hour (red line) calculated earlier. Weekend completions per hour look significantly low."
   ]
  },
  {
   "cell_type": "code",
   "execution_count": 76,
   "id": "2fd7ab22",
   "metadata": {},
   "outputs": [
    {
     "data": {
      "image/png": "[encoded data removed]",
      "text/plain": [
       "<Figure size 1440x504 with 1 Axes>"
      ]
     },
     "metadata": {},
     "output_type": "display_data"
    }
   ],
   "source": [
    "# Plot completions per hour by weekday\n",
    "fig, ax = plt.subplots(figsize=(20,7))\n",
    "\n",
    "sns.barplot(x = 'WEEKDAY',\n",
    "            y = 'COMPLETIONS PER HOUR',\n",
    "            data = comp_per_hour_weekday,\n",
    "            ax = ax,\n",
    "           )\n",
    "\n",
    "ax.axhline(jobs_per_hour, color = 'red')\n",
    "ax.set(xlabel = 'Week Job Was Completed',\n",
    "       ylabel = 'Jobs Completed Per Hour',\n",
    "       title = 'Jobs Completed Per Hour by Weekday: The Volume Is Early in the Work Week (Monday - Wednesday)')\n",
    "plt.show()"
   ]
  }
 ],
 "metadata": {
  "kernelspec": {
   "display_name": "Python 3",
   "language": "python",
   "name": "python3"
  },
  "language_info": {
   "codemirror_mode": {
    "name": "ipython",
    "version": 3
   },
   "file_extension": ".py",
   "mimetype": "text/x-python",
   "name": "python",
   "nbconvert_exporter": "python",
   "pygments_lexer": "ipython3",
   "version": "3.8.8"
  }
 },
 "nbformat": 4,
 "nbformat_minor": 5
}
