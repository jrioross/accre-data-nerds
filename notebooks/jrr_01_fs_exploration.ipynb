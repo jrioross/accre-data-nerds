{
 "cells": [
  {
   "cell_type": "code",
   "execution_count": 1,
   "id": "c50b6565",
   "metadata": {},
   "outputs": [],
   "source": [
    "import pandas as pd\n",
    "import numpy as np\n",
    "import matplotlib.pyplot as plt\n",
    "import matplotlib.dates as mdates\n",
    "import statsmodels.api as sm\n",
    "import seaborn as sns\n",
    "import re\n",
    "from jupyterthemes import jtplot\n",
    "from datetime import timedelta, datetime\n",
    "import calendar\n",
    "import plotly.express as px\n",
    "jtplot.style()"
   ]
  },
  {
   "cell_type": "markdown",
   "id": "eb22dad0",
   "metadata": {},
   "source": [
    "# (Preparation) read in fullsample.csv, format\n",
    "\n",
    "convert BEGIN and END to datetime\n",
    "\n",
    "split exit code into EXITCODE and SIGNAL\n",
    "\n",
    "create IN_ARRAY to identify which jobs are in arrays and ARRAYID to identify those arrays explicitly\n",
    "\n",
    "create TIMEOUT to identify whether USEDTIME exceeded REQTIME\n",
    "\n",
    "clean REQMEM and USEDMEM, make int-type\n",
    "\n",
    "create REQMEMxNODES and REQMEMxCPUS columns--if they should actually exist (confirm with team)"
   ]
  },
  {
   "cell_type": "code",
   "execution_count": 2,
   "id": "5caffb8a",
   "metadata": {},
   "outputs": [],
   "source": [
    "slurm_jobs = pd.read_csv('../data/fullsample.csv')"
   ]
  },
  {
   "cell_type": "code",
   "execution_count": 3,
   "id": "e1274834",
   "metadata": {},
   "outputs": [],
   "source": [
    "#slurm_jobs = slurm_jobs[(slurm_jobs['BEGIN'] != 'Unknown') & (slurm_jobs['END'] != 'Unknown')]"
   ]
  },
  {
   "cell_type": "markdown",
   "id": "aaa1600e",
   "metadata": {},
   "source": [
    "### convert BEGIN AND END to datetime"
   ]
  },
  {
   "cell_type": "code",
   "execution_count": 4,
   "id": "b9c1909e",
   "metadata": {},
   "outputs": [],
   "source": [
    "dt_converts = ['BEGIN', 'END']\n",
    "\n",
    "for col in dt_converts:\n",
    "        slurm_jobs[col] = pd.to_datetime(slurm_jobs[col], errors = 'coerce')"
   ]
  },
  {
   "cell_type": "markdown",
   "id": "a26baba3",
   "metadata": {},
   "source": [
    "### convert REQTIME AND USEDTIME to timedelta"
   ]
  },
  {
   "cell_type": "code",
   "execution_count": 5,
   "id": "4e6aeb12",
   "metadata": {},
   "outputs": [],
   "source": [
    "dt_converts = ['REQTIME', 'USEDTIME']\n",
    "\n",
    "for col in dt_converts:\n",
    "        slurm_jobs[col] = pd.to_timedelta(slurm_jobs[col].str.replace('-', ' days '))"
   ]
  },
  {
   "cell_type": "markdown",
   "id": "6a418281",
   "metadata": {},
   "source": [
    "### create TIMEOUT to identify whether USEDTIME exceeded REQTIME"
   ]
  },
  {
   "cell_type": "code",
   "execution_count": 6,
   "id": "01de26fc",
   "metadata": {},
   "outputs": [],
   "source": [
    "slurm_jobs['TIMEOUT'] = slurm_jobs['USEDTIME'] > slurm_jobs['REQTIME']"
   ]
  },
  {
   "cell_type": "markdown",
   "id": "4c4b22b0",
   "metadata": {
    "hideCode": false,
    "slideshow": {
     "slide_type": "slide"
    }
   },
   "source": [
    "### split exit code into EXITCODE and SIGNAL"
   ]
  },
  {
   "cell_type": "code",
   "execution_count": 7,
   "id": "0ee643bd",
   "metadata": {},
   "outputs": [],
   "source": [
    "slurm_jobs[['EXITCODE', 'SIGNAL']] = slurm_jobs['EXITCODE'].str.split(':', expand = True)"
   ]
  },
  {
   "cell_type": "markdown",
   "id": "90663af9",
   "metadata": {},
   "source": [
    "### create IN_ARRAY to identify which jobs are in arrays and ARRAYID to identify those arrays explicitly"
   ]
  },
  {
   "cell_type": "code",
   "execution_count": 8,
   "id": "4a37b054",
   "metadata": {},
   "outputs": [],
   "source": [
    "slurm_jobs['IN_ARRAY'] = slurm_jobs['JOBID'].str.contains('_')\n",
    "slurm_jobs['ARRAYID'] = slurm_jobs['JOBID'].str.extract(r'(.+)_')"
   ]
  },
  {
   "cell_type": "markdown",
   "id": "dc4bcfb0",
   "metadata": {},
   "source": [
    "### sort values and reset index"
   ]
  },
  {
   "cell_type": "code",
   "execution_count": 35,
   "id": "3f3c6adf",
   "metadata": {},
   "outputs": [],
   "source": [
    "slurm_jobs = slurm_jobs.sort_values('END').reset_index(drop = True)"
   ]
  },
  {
   "cell_type": "markdown",
   "id": "fc98d87c",
   "metadata": {},
   "source": [
    "### attempt rolling window over full slurm jobs, not just the completed ones."
   ]
  },
  {
   "cell_type": "code",
   "execution_count": 37,
   "id": "ccd1dcca",
   "metadata": {},
   "outputs": [
    {
     "ename": "ValueError",
     "evalue": "index must be monotonic",
     "output_type": "error",
     "traceback": [
      "\u001b[1;31m---------------------------------------------------------------------------\u001b[0m",
      "\u001b[1;31mValueError\u001b[0m                                Traceback (most recent call last)",
      "\u001b[1;32m<ipython-input-37-369058585678>\u001b[0m in \u001b[0;36m<module>\u001b[1;34m\u001b[0m\n\u001b[0;32m      1\u001b[0m \u001b[1;31m#slurm_jobs_comp['ROLLING JOBS COMPLETED PER HOUR'] =\u001b[0m\u001b[1;33m\u001b[0m\u001b[1;33m\u001b[0m\u001b[1;33m\u001b[0m\u001b[0m\n\u001b[1;32m----> 2\u001b[1;33m (slurm_jobs.set_index('END')\n\u001b[0m\u001b[0;32m      3\u001b[0m    \u001b[1;33m.\u001b[0m\u001b[0mrolling\u001b[0m\u001b[1;33m(\u001b[0m\u001b[1;34m'1h'\u001b[0m\u001b[1;33m)\u001b[0m\u001b[1;33m\u001b[0m\u001b[1;33m\u001b[0m\u001b[0m\n\u001b[0;32m      4\u001b[0m    \u001b[1;33m.\u001b[0m\u001b[0mgroupby\u001b[0m\u001b[1;33m(\u001b[0m\u001b[0mslurm_jobs\u001b[0m\u001b[1;33m[\u001b[0m\u001b[1;34m'STATE'\u001b[0m\u001b[1;33m]\u001b[0m \u001b[1;33m==\u001b[0m \u001b[1;34m'COMPLETED'\u001b[0m\u001b[1;33m,\u001b[0m \u001b[0mas_index\u001b[0m \u001b[1;33m=\u001b[0m \u001b[1;32mFalse\u001b[0m\u001b[1;33m)\u001b[0m\u001b[1;33m\u001b[0m\u001b[1;33m\u001b[0m\u001b[0m\n\u001b[0;32m      5\u001b[0m     \u001b[1;33m[\u001b[0m\u001b[1;34m'JOBID'\u001b[0m\u001b[1;33m]\u001b[0m\u001b[1;33m\u001b[0m\u001b[1;33m\u001b[0m\u001b[0m\n",
      "\u001b[1;32m~\\anaconda3\\lib\\site-packages\\pandas\\core\\generic.py\u001b[0m in \u001b[0;36mrolling\u001b[1;34m(self, window, min_periods, center, win_type, on, axis, closed)\u001b[0m\n\u001b[0;32m  11243\u001b[0m             )\n\u001b[0;32m  11244\u001b[0m \u001b[1;33m\u001b[0m\u001b[0m\n\u001b[1;32m> 11245\u001b[1;33m         return Rolling(\n\u001b[0m\u001b[0;32m  11246\u001b[0m             \u001b[0mself\u001b[0m\u001b[1;33m,\u001b[0m\u001b[1;33m\u001b[0m\u001b[1;33m\u001b[0m\u001b[0m\n\u001b[0;32m  11247\u001b[0m             \u001b[0mwindow\u001b[0m\u001b[1;33m=\u001b[0m\u001b[0mwindow\u001b[0m\u001b[1;33m,\u001b[0m\u001b[1;33m\u001b[0m\u001b[1;33m\u001b[0m\u001b[0m\n",
      "\u001b[1;32m~\\anaconda3\\lib\\site-packages\\pandas\\core\\window\\rolling.py\u001b[0m in \u001b[0;36m__init__\u001b[1;34m(self, obj, window, min_periods, center, win_type, axis, on, closed, **kwargs)\u001b[0m\n\u001b[0;32m    111\u001b[0m         \u001b[0mself\u001b[0m\u001b[1;33m.\u001b[0m\u001b[0mwin_freq\u001b[0m \u001b[1;33m=\u001b[0m \u001b[1;32mNone\u001b[0m\u001b[1;33m\u001b[0m\u001b[1;33m\u001b[0m\u001b[0m\n\u001b[0;32m    112\u001b[0m         \u001b[0mself\u001b[0m\u001b[1;33m.\u001b[0m\u001b[0maxis\u001b[0m \u001b[1;33m=\u001b[0m \u001b[0mobj\u001b[0m\u001b[1;33m.\u001b[0m\u001b[0m_get_axis_number\u001b[0m\u001b[1;33m(\u001b[0m\u001b[0maxis\u001b[0m\u001b[1;33m)\u001b[0m \u001b[1;32mif\u001b[0m \u001b[0maxis\u001b[0m \u001b[1;32mis\u001b[0m \u001b[1;32mnot\u001b[0m \u001b[1;32mNone\u001b[0m \u001b[1;32melse\u001b[0m \u001b[1;32mNone\u001b[0m\u001b[1;33m\u001b[0m\u001b[1;33m\u001b[0m\u001b[0m\n\u001b[1;32m--> 113\u001b[1;33m         \u001b[0mself\u001b[0m\u001b[1;33m.\u001b[0m\u001b[0mvalidate\u001b[0m\u001b[1;33m(\u001b[0m\u001b[1;33m)\u001b[0m\u001b[1;33m\u001b[0m\u001b[1;33m\u001b[0m\u001b[0m\n\u001b[0m\u001b[0;32m    114\u001b[0m \u001b[1;33m\u001b[0m\u001b[0m\n\u001b[0;32m    115\u001b[0m     \u001b[1;33m@\u001b[0m\u001b[0mproperty\u001b[0m\u001b[1;33m\u001b[0m\u001b[1;33m\u001b[0m\u001b[0m\n",
      "\u001b[1;32m~\\anaconda3\\lib\\site-packages\\pandas\\core\\window\\rolling.py\u001b[0m in \u001b[0;36mvalidate\u001b[1;34m(self)\u001b[0m\n\u001b[0;32m   1897\u001b[0m         ):\n\u001b[0;32m   1898\u001b[0m \u001b[1;33m\u001b[0m\u001b[0m\n\u001b[1;32m-> 1899\u001b[1;33m             \u001b[0mself\u001b[0m\u001b[1;33m.\u001b[0m\u001b[0m_validate_monotonic\u001b[0m\u001b[1;33m(\u001b[0m\u001b[1;33m)\u001b[0m\u001b[1;33m\u001b[0m\u001b[1;33m\u001b[0m\u001b[0m\n\u001b[0m\u001b[0;32m   1900\u001b[0m \u001b[1;33m\u001b[0m\u001b[0m\n\u001b[0;32m   1901\u001b[0m             \u001b[1;31m# we don't allow center\u001b[0m\u001b[1;33m\u001b[0m\u001b[1;33m\u001b[0m\u001b[1;33m\u001b[0m\u001b[0m\n",
      "\u001b[1;32m~\\anaconda3\\lib\\site-packages\\pandas\\core\\window\\rolling.py\u001b[0m in \u001b[0;36m_validate_monotonic\u001b[1;34m(self)\u001b[0m\n\u001b[0;32m   1938\u001b[0m         \"\"\"\n\u001b[0;32m   1939\u001b[0m         \u001b[1;32mif\u001b[0m \u001b[1;32mnot\u001b[0m \u001b[1;33m(\u001b[0m\u001b[0mself\u001b[0m\u001b[1;33m.\u001b[0m\u001b[0m_on\u001b[0m\u001b[1;33m.\u001b[0m\u001b[0mis_monotonic_increasing\u001b[0m \u001b[1;32mor\u001b[0m \u001b[0mself\u001b[0m\u001b[1;33m.\u001b[0m\u001b[0m_on\u001b[0m\u001b[1;33m.\u001b[0m\u001b[0mis_monotonic_decreasing\u001b[0m\u001b[1;33m)\u001b[0m\u001b[1;33m:\u001b[0m\u001b[1;33m\u001b[0m\u001b[1;33m\u001b[0m\u001b[0m\n\u001b[1;32m-> 1940\u001b[1;33m             \u001b[0mself\u001b[0m\u001b[1;33m.\u001b[0m\u001b[0m_raise_monotonic_error\u001b[0m\u001b[1;33m(\u001b[0m\u001b[1;33m)\u001b[0m\u001b[1;33m\u001b[0m\u001b[1;33m\u001b[0m\u001b[0m\n\u001b[0m\u001b[0;32m   1941\u001b[0m \u001b[1;33m\u001b[0m\u001b[0m\n\u001b[0;32m   1942\u001b[0m     \u001b[1;32mdef\u001b[0m \u001b[0m_raise_monotonic_error\u001b[0m\u001b[1;33m(\u001b[0m\u001b[0mself\u001b[0m\u001b[1;33m)\u001b[0m\u001b[1;33m:\u001b[0m\u001b[1;33m\u001b[0m\u001b[1;33m\u001b[0m\u001b[0m\n",
      "\u001b[1;32m~\\anaconda3\\lib\\site-packages\\pandas\\core\\window\\rolling.py\u001b[0m in \u001b[0;36m_raise_monotonic_error\u001b[1;34m(self)\u001b[0m\n\u001b[0;32m   1944\u001b[0m         \u001b[1;32mif\u001b[0m \u001b[0mself\u001b[0m\u001b[1;33m.\u001b[0m\u001b[0mon\u001b[0m \u001b[1;32mis\u001b[0m \u001b[1;32mNone\u001b[0m\u001b[1;33m:\u001b[0m\u001b[1;33m\u001b[0m\u001b[1;33m\u001b[0m\u001b[0m\n\u001b[0;32m   1945\u001b[0m             \u001b[0mformatted\u001b[0m \u001b[1;33m=\u001b[0m \u001b[1;34m\"index\"\u001b[0m\u001b[1;33m\u001b[0m\u001b[1;33m\u001b[0m\u001b[0m\n\u001b[1;32m-> 1946\u001b[1;33m         \u001b[1;32mraise\u001b[0m \u001b[0mValueError\u001b[0m\u001b[1;33m(\u001b[0m\u001b[1;34mf\"{formatted} must be monotonic\"\u001b[0m\u001b[1;33m)\u001b[0m\u001b[1;33m\u001b[0m\u001b[1;33m\u001b[0m\u001b[0m\n\u001b[0m\u001b[0;32m   1947\u001b[0m \u001b[1;33m\u001b[0m\u001b[0m\n\u001b[0;32m   1948\u001b[0m     \u001b[1;32mdef\u001b[0m \u001b[0m_validate_freq\u001b[0m\u001b[1;33m(\u001b[0m\u001b[0mself\u001b[0m\u001b[1;33m)\u001b[0m\u001b[1;33m:\u001b[0m\u001b[1;33m\u001b[0m\u001b[1;33m\u001b[0m\u001b[0m\n",
      "\u001b[1;31mValueError\u001b[0m: index must be monotonic"
     ]
    }
   ],
   "source": [
    "#slurm_jobs_comp['ROLLING JOBS COMPLETED PER HOUR'] = \n",
    "(slurm_jobs.set_index('END')\n",
    "   .rolling('1h')\n",
    "   .groupby(slurm_jobs['STATE'] == 'COMPLETED', as_index = False)\n",
    "    ['JOBID']\n",
    "    .sum()\n",
    "    .reset_index(drop = True)\n",
    ")"
   ]
  },
  {
   "cell_type": "markdown",
   "id": "fefde064",
   "metadata": {},
   "source": [
    "# filter down to COMPLETED state with 0:0: slurm_jobs_comp"
   ]
  },
  {
   "cell_type": "code",
   "execution_count": 11,
   "id": "01922949",
   "metadata": {},
   "outputs": [
    {
     "data": {
      "text/plain": [
       "1    1\n",
       "Name: EXITCODE, dtype: int64"
      ]
     },
     "execution_count": 11,
     "metadata": {},
     "output_type": "execute_result"
    }
   ],
   "source": [
    "# Insight: one instance of 9204 cancallation\n",
    "slurm_jobs.loc[slurm_jobs['STATE'] == 'CANCELLED by 9204', 'EXITCODE'].value_counts()"
   ]
  },
  {
   "cell_type": "code",
   "execution_count": 12,
   "id": "2f613368",
   "metadata": {},
   "outputs": [
    {
     "data": {
      "text/plain": [
       "0    7375084\n",
       "Name: EXITCODE, dtype: int64"
      ]
     },
     "execution_count": 12,
     "metadata": {},
     "output_type": "execute_result"
    }
   ],
   "source": [
    "# Insight: all COMPLETED states are exit code 0:0\n",
    "slurm_jobs.loc[slurm_jobs['STATE'] == 'COMPLETED', 'EXITCODE'].value_counts()"
   ]
  },
  {
   "cell_type": "code",
   "execution_count": 13,
   "id": "329ed8e0",
   "metadata": {},
   "outputs": [],
   "source": [
    "# filter down to only COMPLETED state\n",
    "slurm_jobs_comp = slurm_jobs[slurm_jobs['STATE'] == 'COMPLETED'].sort_values('END').reset_index(drop = True)"
   ]
  },
  {
   "cell_type": "markdown",
   "id": "c247ec22",
   "metadata": {},
   "source": [
    "# Problem 1\n",
    "\n",
    "Calculate some descriptive statistics for how many jobs per hour are being completed. What does the completions per hour look like over the time span of the dataset? \n",
    "\n",
    "Are there weekly trends, and has it been increasing over the last year?"
   ]
  },
  {
   "cell_type": "markdown",
   "id": "9fe6838e",
   "metadata": {},
   "source": [
    "## (1A) What does the completions per hour look like over the time span of the dataset? \n",
    "\n",
    "Overall completions per hour\n",
    "\n",
    "Rolling counts of jobs completed per hour"
   ]
  },
  {
   "cell_type": "markdown",
   "id": "b7414af0",
   "metadata": {},
   "source": [
    "### overall completions per hour for slurm_jobs: 826.4 completions per hour"
   ]
  },
  {
   "cell_type": "code",
   "execution_count": 14,
   "id": "d93ec470",
   "metadata": {},
   "outputs": [],
   "source": [
    "# define function to calculate total hours of a timedelta\n",
    "def td_hours(timedelta):\n",
    "    hours = timedelta.days*24 + timedelta.seconds/3600\n",
    "    return hours"
   ]
  },
  {
   "cell_type": "code",
   "execution_count": 15,
   "id": "a8937ec0",
   "metadata": {},
   "outputs": [
    {
     "name": "stdout",
     "output_type": "stream",
     "text": [
      "826.4 completions per hour\n"
     ]
    }
   ],
   "source": [
    "# overall completions per hour for slurm_jobs\n",
    "completions = len(slurm_jobs_comp)\n",
    "time_diff = (slurm_jobs['END'].max() - slurm_jobs['END'].min())\n",
    "jobs_per_hour = completions/td_hours(time_diff)\n",
    "print(round(jobs_per_hour, 1), 'completions per hour')"
   ]
  },
  {
   "cell_type": "markdown",
   "id": "3473e1da",
   "metadata": {},
   "source": [
    "### rolling counts of jobs completed per hour"
   ]
  },
  {
   "cell_type": "code",
   "execution_count": 16,
   "id": "ddda4e98",
   "metadata": {},
   "outputs": [],
   "source": [
    "slurm_jobs_comp['ROLLING JOBS COMPLETED PER HOUR'] = (slurm_jobs_comp.set_index('END')\n",
    "                                               .rolling('1h')\n",
    "                                                ['JOBID']\n",
    "                                                .count()\n",
    "                                                .reset_index(drop = True)\n",
    "                                            )"
   ]
  },
  {
   "cell_type": "code",
   "execution_count": 17,
   "id": "806a4559",
   "metadata": {},
   "outputs": [
    {
     "data": {
      "text/html": [
       "<div>\n",
       "<style scoped>\n",
       "    .dataframe tbody tr th:only-of-type {\n",
       "        vertical-align: middle;\n",
       "    }\n",
       "\n",
       "    .dataframe tbody tr th {\n",
       "        vertical-align: top;\n",
       "    }\n",
       "\n",
       "    .dataframe thead th {\n",
       "        text-align: right;\n",
       "    }\n",
       "</style>\n",
       "<table border=\"1\" class=\"dataframe\">\n",
       "  <thead>\n",
       "    <tr style=\"text-align: right;\">\n",
       "      <th></th>\n",
       "      <th>JOBID</th>\n",
       "      <th>STATE</th>\n",
       "      <th>BEGIN</th>\n",
       "      <th>END</th>\n",
       "      <th>REQMEM</th>\n",
       "      <th>USEDMEM</th>\n",
       "      <th>REQTIME</th>\n",
       "      <th>USEDTIME</th>\n",
       "      <th>NODES</th>\n",
       "      <th>CPUS</th>\n",
       "      <th>PARTITION</th>\n",
       "      <th>EXITCODE</th>\n",
       "      <th>TIMEOUT</th>\n",
       "      <th>SIGNAL</th>\n",
       "      <th>IN_ARRAY</th>\n",
       "      <th>ARRAYID</th>\n",
       "      <th>ROLLING JOBS COMPLETED PER HOUR</th>\n",
       "    </tr>\n",
       "  </thead>\n",
       "  <tbody>\n",
       "    <tr>\n",
       "      <th>0</th>\n",
       "      <td>24460577</td>\n",
       "      <td>COMPLETED</td>\n",
       "      <td>2020-10-01 00:05:55</td>\n",
       "      <td>2020-10-01 00:10:15</td>\n",
       "      <td>4096Mc</td>\n",
       "      <td>868.77M</td>\n",
       "      <td>0 days 12:00:00</td>\n",
       "      <td>0 days 00:04:20</td>\n",
       "      <td>1</td>\n",
       "      <td>1</td>\n",
       "      <td>production</td>\n",
       "      <td>0</td>\n",
       "      <td>False</td>\n",
       "      <td>0</td>\n",
       "      <td>False</td>\n",
       "      <td>NaN</td>\n",
       "      <td>1.0</td>\n",
       "    </tr>\n",
       "    <tr>\n",
       "      <th>1</th>\n",
       "      <td>24460647</td>\n",
       "      <td>COMPLETED</td>\n",
       "      <td>2020-10-01 00:10:38</td>\n",
       "      <td>2020-10-01 00:12:58</td>\n",
       "      <td>2000Mn</td>\n",
       "      <td>0.09M</td>\n",
       "      <td>2 days 00:00:00</td>\n",
       "      <td>0 days 00:02:20</td>\n",
       "      <td>1</td>\n",
       "      <td>1</td>\n",
       "      <td>sam</td>\n",
       "      <td>0</td>\n",
       "      <td>False</td>\n",
       "      <td>0</td>\n",
       "      <td>False</td>\n",
       "      <td>NaN</td>\n",
       "      <td>2.0</td>\n",
       "    </tr>\n",
       "    <tr>\n",
       "      <th>2</th>\n",
       "      <td>24460639</td>\n",
       "      <td>COMPLETED</td>\n",
       "      <td>2020-10-01 00:11:22</td>\n",
       "      <td>2020-10-01 00:13:31</td>\n",
       "      <td>1024Mc</td>\n",
       "      <td>221.10M</td>\n",
       "      <td>0 days 00:30:00</td>\n",
       "      <td>0 days 00:02:09</td>\n",
       "      <td>1</td>\n",
       "      <td>1</td>\n",
       "      <td>production</td>\n",
       "      <td>0</td>\n",
       "      <td>False</td>\n",
       "      <td>0</td>\n",
       "      <td>False</td>\n",
       "      <td>NaN</td>\n",
       "      <td>3.0</td>\n",
       "    </tr>\n",
       "    <tr>\n",
       "      <th>3</th>\n",
       "      <td>24460668</td>\n",
       "      <td>COMPLETED</td>\n",
       "      <td>2020-10-01 00:15:16</td>\n",
       "      <td>2020-10-01 00:17:23</td>\n",
       "      <td>2000Mn</td>\n",
       "      <td>0.09M</td>\n",
       "      <td>2 days 00:00:00</td>\n",
       "      <td>0 days 00:02:07</td>\n",
       "      <td>1</td>\n",
       "      <td>1</td>\n",
       "      <td>sam</td>\n",
       "      <td>0</td>\n",
       "      <td>False</td>\n",
       "      <td>0</td>\n",
       "      <td>False</td>\n",
       "      <td>NaN</td>\n",
       "      <td>4.0</td>\n",
       "    </tr>\n",
       "    <tr>\n",
       "      <th>4</th>\n",
       "      <td>24460671</td>\n",
       "      <td>COMPLETED</td>\n",
       "      <td>2020-10-01 00:17:08</td>\n",
       "      <td>2020-10-01 00:17:53</td>\n",
       "      <td>1024Mc</td>\n",
       "      <td>636.96M</td>\n",
       "      <td>0 days 00:30:00</td>\n",
       "      <td>0 days 00:00:45</td>\n",
       "      <td>1</td>\n",
       "      <td>1</td>\n",
       "      <td>production</td>\n",
       "      <td>0</td>\n",
       "      <td>False</td>\n",
       "      <td>0</td>\n",
       "      <td>False</td>\n",
       "      <td>NaN</td>\n",
       "      <td>5.0</td>\n",
       "    </tr>\n",
       "    <tr>\n",
       "      <th>...</th>\n",
       "      <td>...</td>\n",
       "      <td>...</td>\n",
       "      <td>...</td>\n",
       "      <td>...</td>\n",
       "      <td>...</td>\n",
       "      <td>...</td>\n",
       "      <td>...</td>\n",
       "      <td>...</td>\n",
       "      <td>...</td>\n",
       "      <td>...</td>\n",
       "      <td>...</td>\n",
       "      <td>...</td>\n",
       "      <td>...</td>\n",
       "      <td>...</td>\n",
       "      <td>...</td>\n",
       "      <td>...</td>\n",
       "      <td>...</td>\n",
       "    </tr>\n",
       "    <tr>\n",
       "      <th>7375079</th>\n",
       "      <td>32923987</td>\n",
       "      <td>COMPLETED</td>\n",
       "      <td>2021-10-07 20:09:26</td>\n",
       "      <td>2021-10-07 20:11:21</td>\n",
       "      <td>2000Mn</td>\n",
       "      <td>0.09M</td>\n",
       "      <td>2 days 00:00:00</td>\n",
       "      <td>0 days 00:01:55</td>\n",
       "      <td>1</td>\n",
       "      <td>1</td>\n",
       "      <td>sam</td>\n",
       "      <td>0</td>\n",
       "      <td>False</td>\n",
       "      <td>0</td>\n",
       "      <td>False</td>\n",
       "      <td>NaN</td>\n",
       "      <td>9.0</td>\n",
       "    </tr>\n",
       "    <tr>\n",
       "      <th>7375080</th>\n",
       "      <td>32923988</td>\n",
       "      <td>COMPLETED</td>\n",
       "      <td>2021-10-07 20:15:05</td>\n",
       "      <td>2021-10-07 20:17:24</td>\n",
       "      <td>2000Mn</td>\n",
       "      <td>0.09M</td>\n",
       "      <td>2 days 00:00:00</td>\n",
       "      <td>0 days 00:02:19</td>\n",
       "      <td>1</td>\n",
       "      <td>1</td>\n",
       "      <td>sam</td>\n",
       "      <td>0</td>\n",
       "      <td>False</td>\n",
       "      <td>0</td>\n",
       "      <td>False</td>\n",
       "      <td>NaN</td>\n",
       "      <td>9.0</td>\n",
       "    </tr>\n",
       "    <tr>\n",
       "      <th>7375081</th>\n",
       "      <td>32923989</td>\n",
       "      <td>COMPLETED</td>\n",
       "      <td>2021-10-07 20:24:26</td>\n",
       "      <td>2021-10-07 20:26:01</td>\n",
       "      <td>2000Mn</td>\n",
       "      <td>393.07M</td>\n",
       "      <td>2 days 00:00:00</td>\n",
       "      <td>0 days 00:01:35</td>\n",
       "      <td>1</td>\n",
       "      <td>1</td>\n",
       "      <td>sam</td>\n",
       "      <td>0</td>\n",
       "      <td>False</td>\n",
       "      <td>0</td>\n",
       "      <td>False</td>\n",
       "      <td>NaN</td>\n",
       "      <td>8.0</td>\n",
       "    </tr>\n",
       "    <tr>\n",
       "      <th>7375082</th>\n",
       "      <td>32923996</td>\n",
       "      <td>COMPLETED</td>\n",
       "      <td>2021-10-07 20:31:08</td>\n",
       "      <td>2021-10-07 20:32:45</td>\n",
       "      <td>2000Mn</td>\n",
       "      <td>0.09M</td>\n",
       "      <td>2 days 00:00:00</td>\n",
       "      <td>0 days 00:01:37</td>\n",
       "      <td>1</td>\n",
       "      <td>1</td>\n",
       "      <td>sam</td>\n",
       "      <td>0</td>\n",
       "      <td>False</td>\n",
       "      <td>0</td>\n",
       "      <td>False</td>\n",
       "      <td>NaN</td>\n",
       "      <td>9.0</td>\n",
       "    </tr>\n",
       "    <tr>\n",
       "      <th>7375083</th>\n",
       "      <td>32923997</td>\n",
       "      <td>COMPLETED</td>\n",
       "      <td>2021-10-07 20:39:26</td>\n",
       "      <td>2021-10-07 20:41:11</td>\n",
       "      <td>2000Mn</td>\n",
       "      <td>0.09M</td>\n",
       "      <td>2 days 00:00:00</td>\n",
       "      <td>0 days 00:01:45</td>\n",
       "      <td>1</td>\n",
       "      <td>1</td>\n",
       "      <td>sam</td>\n",
       "      <td>0</td>\n",
       "      <td>False</td>\n",
       "      <td>0</td>\n",
       "      <td>False</td>\n",
       "      <td>NaN</td>\n",
       "      <td>9.0</td>\n",
       "    </tr>\n",
       "  </tbody>\n",
       "</table>\n",
       "<p>7375084 rows × 17 columns</p>\n",
       "</div>"
      ],
      "text/plain": [
       "            JOBID      STATE               BEGIN                 END  REQMEM  \\\n",
       "0        24460577  COMPLETED 2020-10-01 00:05:55 2020-10-01 00:10:15  4096Mc   \n",
       "1        24460647  COMPLETED 2020-10-01 00:10:38 2020-10-01 00:12:58  2000Mn   \n",
       "2        24460639  COMPLETED 2020-10-01 00:11:22 2020-10-01 00:13:31  1024Mc   \n",
       "3        24460668  COMPLETED 2020-10-01 00:15:16 2020-10-01 00:17:23  2000Mn   \n",
       "4        24460671  COMPLETED 2020-10-01 00:17:08 2020-10-01 00:17:53  1024Mc   \n",
       "...           ...        ...                 ...                 ...     ...   \n",
       "7375079  32923987  COMPLETED 2021-10-07 20:09:26 2021-10-07 20:11:21  2000Mn   \n",
       "7375080  32923988  COMPLETED 2021-10-07 20:15:05 2021-10-07 20:17:24  2000Mn   \n",
       "7375081  32923989  COMPLETED 2021-10-07 20:24:26 2021-10-07 20:26:01  2000Mn   \n",
       "7375082  32923996  COMPLETED 2021-10-07 20:31:08 2021-10-07 20:32:45  2000Mn   \n",
       "7375083  32923997  COMPLETED 2021-10-07 20:39:26 2021-10-07 20:41:11  2000Mn   \n",
       "\n",
       "         USEDMEM         REQTIME        USEDTIME  NODES  CPUS   PARTITION  \\\n",
       "0        868.77M 0 days 12:00:00 0 days 00:04:20      1     1  production   \n",
       "1          0.09M 2 days 00:00:00 0 days 00:02:20      1     1         sam   \n",
       "2        221.10M 0 days 00:30:00 0 days 00:02:09      1     1  production   \n",
       "3          0.09M 2 days 00:00:00 0 days 00:02:07      1     1         sam   \n",
       "4        636.96M 0 days 00:30:00 0 days 00:00:45      1     1  production   \n",
       "...          ...             ...             ...    ...   ...         ...   \n",
       "7375079    0.09M 2 days 00:00:00 0 days 00:01:55      1     1         sam   \n",
       "7375080    0.09M 2 days 00:00:00 0 days 00:02:19      1     1         sam   \n",
       "7375081  393.07M 2 days 00:00:00 0 days 00:01:35      1     1         sam   \n",
       "7375082    0.09M 2 days 00:00:00 0 days 00:01:37      1     1         sam   \n",
       "7375083    0.09M 2 days 00:00:00 0 days 00:01:45      1     1         sam   \n",
       "\n",
       "        EXITCODE  TIMEOUT SIGNAL  IN_ARRAY ARRAYID  \\\n",
       "0              0    False      0     False     NaN   \n",
       "1              0    False      0     False     NaN   \n",
       "2              0    False      0     False     NaN   \n",
       "3              0    False      0     False     NaN   \n",
       "4              0    False      0     False     NaN   \n",
       "...          ...      ...    ...       ...     ...   \n",
       "7375079        0    False      0     False     NaN   \n",
       "7375080        0    False      0     False     NaN   \n",
       "7375081        0    False      0     False     NaN   \n",
       "7375082        0    False      0     False     NaN   \n",
       "7375083        0    False      0     False     NaN   \n",
       "\n",
       "         ROLLING JOBS COMPLETED PER HOUR  \n",
       "0                                    1.0  \n",
       "1                                    2.0  \n",
       "2                                    3.0  \n",
       "3                                    4.0  \n",
       "4                                    5.0  \n",
       "...                                  ...  \n",
       "7375079                              9.0  \n",
       "7375080                              9.0  \n",
       "7375081                              8.0  \n",
       "7375082                              9.0  \n",
       "7375083                              9.0  \n",
       "\n",
       "[7375084 rows x 17 columns]"
      ]
     },
     "execution_count": 17,
     "metadata": {},
     "output_type": "execute_result"
    }
   ],
   "source": [
    "slurm_jobs_comp"
   ]
  },
  {
   "cell_type": "markdown",
   "id": "05543de0",
   "metadata": {},
   "source": [
    "## (1B) Are there weekly trends, and has it been increasing over the last year?\n",
    "\n",
    "bar plot of completions per hour by week, colored by months\n",
    "\n",
    "regression line of completions per hour by week vs week\n",
    "\n",
    "statsmodel analysis of that regression line\n",
    "\n",
    "table output of jobs completed per hour by day, summarized by day of the week\n",
    "\n",
    "bar plot of jobs completed per hour by day, summarized by day of the week"
   ]
  },
  {
   "cell_type": "code",
   "execution_count": 18,
   "id": "94e7fab8",
   "metadata": {},
   "outputs": [],
   "source": [
    "comp_per_hour_by_week = (slurm_jobs_comp.groupby(\n",
    "                                    pd.Grouper(key = 'END', freq = 'W')) # Group by week\n",
    "                                 ['JOBID'] # Counting job ids\n",
    "                                 .count()/168 # divide count by 168 hours in a week\n",
    "                        )"
   ]
  },
  {
   "cell_type": "code",
   "execution_count": 19,
   "id": "78867f41",
   "metadata": {},
   "outputs": [],
   "source": [
    "# display with renamed columns\n",
    "comp_per_hour_by_week = (comp_per_hour_by_week.reset_index()\n",
    "                                              .rename(columns = {'END': 'WEEK OF', \n",
    "                                                                 'JOBID': 'COMPLETIONS PER HOUR'}\n",
    "                                                     )\n",
    "                        )"
   ]
  },
  {
   "cell_type": "markdown",
   "id": "12b2af3a",
   "metadata": {},
   "source": [
    "### August and September 2021 seem to have higher completions per hour than the rest of the months. (We may be able to include October 2020 here, too, which makes me wonder whether the start of the school year has the highest demand.)"
   ]
  },
  {
   "cell_type": "code",
   "execution_count": 20,
   "id": "3606fdb3",
   "metadata": {},
   "outputs": [
    {
     "data": {
      "image/png": "[encoded data removed]",
      "text/plain": [
       "<Figure size 1440x504 with 1 Axes>"
      ]
     },
     "metadata": {},
     "output_type": "display_data"
    }
   ],
   "source": [
    "# Plot completions per hour by week, colored by month\n",
    "fig, ax = plt.subplots(figsize=(20,7))\n",
    "\n",
    "x_dates = comp_per_hour_by_week['WEEK OF'].dt.strftime('%Y-%m')\n",
    "\n",
    "sns.barplot(x = 'WEEK OF',\n",
    "            y = 'COMPLETIONS PER HOUR',\n",
    "            data = comp_per_hour_by_week,\n",
    "            ax = ax,\n",
    "            hue = x_dates,\n",
    "            dodge = False\n",
    "           )\n",
    "\n",
    "\n",
    "ax.set_xticklabels(labels=x_dates, rotation=45, ha='right')\n",
    "ax.get_legend().remove()\n",
    "ax.axhline(jobs_per_hour, color = 'red')\n",
    "ax.set(xlabel = 'Week Job Was Completed',\n",
    "       ylabel = 'Jobs Completed Per Hour',\n",
    "       title = 'Jobs Completed Per Hour by Week: August and September Are Popping')\n",
    "plt.show()"
   ]
  },
  {
   "cell_type": "markdown",
   "id": "826ae73e",
   "metadata": {},
   "source": [
    "### trendline of completions per hour by week shows gradual increase over the year."
   ]
  },
  {
   "cell_type": "code",
   "execution_count": 21,
   "id": "dc6e014c",
   "metadata": {},
   "outputs": [
    {
     "data": {
      "image/png": "[encoded data removed]",
      "text/plain": [
       "<Figure size 1440x504 with 1 Axes>"
      ]
     },
     "metadata": {},
     "output_type": "display_data"
    }
   ],
   "source": [
    "# Plot completions per hour by week along with trendline, which shows gradual increase over the year\n",
    "fig, ax = plt.subplots(figsize=(20,7))\n",
    "\n",
    "ax.xaxis.update_units(comp_per_hour_by_week['WEEK OF'])\n",
    "\n",
    "sns.regplot(x = ax.xaxis.convert_units(comp_per_hour_by_week['WEEK OF']),\n",
    "            y = 'COMPLETIONS PER HOUR',\n",
    "            data = comp_per_hour_by_week,\n",
    "            ax = ax,\n",
    "            #hue = x_dates,\n",
    "            #dodge = False\n",
    "           )\n",
    "\n",
    "ax.set(xlabel = 'Week Job Was Completed',\n",
    "       ylabel = 'Jobs Completed Per Hour',\n",
    "       title = 'Jobs Completed Per Hour Has Increased Over the Past Year')\n",
    "plt.show()"
   ]
  },
  {
   "cell_type": "markdown",
   "id": "86dcd233",
   "metadata": {},
   "source": [
    "### statsmodel regression confirms that the increasing trend is significant and has a slope of 1.15 jobs per hour per day (units are in days even though summary values are by week)"
   ]
  },
  {
   "cell_type": "code",
   "execution_count": 22,
   "id": "db8d0bc3",
   "metadata": {},
   "outputs": [
    {
     "name": "stdout",
     "output_type": "stream",
     "text": [
      "                  Generalized Linear Model Regression Results                   \n",
      "================================================================================\n",
      "Dep. Variable:     COMPLETIONS PER HOUR   No. Observations:                   54\n",
      "Model:                              GLM   Df Residuals:                       52\n",
      "Model Family:                  Gaussian   Df Model:                            1\n",
      "Link Function:                 identity   Scale:                      1.6475e+05\n",
      "Method:                            IRLS   Log-Likelihood:                -399.93\n",
      "Date:                  Fri, 29 Oct 2021   Deviance:                   8.5672e+06\n",
      "Time:                          23:37:04   Pearson chi2:                 8.57e+06\n",
      "No. Iterations:                       3                                         \n",
      "Covariance Type:              nonrobust                                         \n",
      "==============================================================================\n",
      "                 coef    std err          z      P>|z|      [0.025      0.975]\n",
      "------------------------------------------------------------------------------\n",
      "const      -8.481e+05   3.74e+05     -2.270      0.023   -1.58e+06   -1.16e+05\n",
      "WEEK OF        1.1505      0.506      2.272      0.023       0.158       2.143\n",
      "==============================================================================\n",
      "Linear AIC: 803.8668418284551\n"
     ]
    }
   ],
   "source": [
    "spent_model = (sm.GLM(endog = comp_per_hour_by_week['COMPLETIONS PER HOUR'],\n",
    "                      exog = sm.add_constant(comp_per_hour_by_week['WEEK OF'].map(datetime.toordinal)),\n",
    "                      family = sm.families.Gaussian())\n",
    "               .fit())\n",
    "\n",
    "print(spent_model.summary())\n",
    "print('Linear AIC: '+str(spent_model.aic))"
   ]
  },
  {
   "cell_type": "markdown",
   "id": "5ee1042b",
   "metadata": {},
   "source": [
    "### jobs completed per hour by day, summarized by day of the week. summary of weekday jobs per hour shows highest volume of completions early in the work week (Monday - Wednesay)."
   ]
  },
  {
   "cell_type": "code",
   "execution_count": 23,
   "id": "e3fbe46d",
   "metadata": {},
   "outputs": [],
   "source": [
    "comp_per_hour_by_day = (slurm_jobs_comp.groupby(\n",
    "                                    pd.Grouper(key = 'END', freq = 'D')) # Group by day\n",
    "                                 ['JOBID'] # Counting job ids\n",
    "                                 .count()/24 # divide count by 24 hours in a day\n",
    "                        )"
   ]
  },
  {
   "cell_type": "code",
   "execution_count": 24,
   "id": "7c8b605b",
   "metadata": {},
   "outputs": [],
   "source": [
    "# display with renamed columns\n",
    "comp_per_hour_by_day = (comp_per_hour_by_day.reset_index()\n",
    "                                              .rename(columns = {'END': 'DAY', \n",
    "                                                                 'JOBID': 'COMPLETIONS PER HOUR'}\n",
    "                                                     )\n",
    "                        )"
   ]
  },
  {
   "cell_type": "code",
   "execution_count": 25,
   "id": "23bbe6bd",
   "metadata": {},
   "outputs": [
    {
     "data": {
      "text/html": [
       "<div>\n",
       "<style scoped>\n",
       "    .dataframe tbody tr th:only-of-type {\n",
       "        vertical-align: middle;\n",
       "    }\n",
       "\n",
       "    .dataframe tbody tr th {\n",
       "        vertical-align: top;\n",
       "    }\n",
       "\n",
       "    .dataframe thead th {\n",
       "        text-align: right;\n",
       "    }\n",
       "</style>\n",
       "<table border=\"1\" class=\"dataframe\">\n",
       "  <thead>\n",
       "    <tr style=\"text-align: right;\">\n",
       "      <th></th>\n",
       "      <th>DAY</th>\n",
       "      <th>COMPLETIONS PER HOUR</th>\n",
       "      <th>WEEKDAY</th>\n",
       "      <th>WEEKDAY NUMBER</th>\n",
       "    </tr>\n",
       "  </thead>\n",
       "  <tbody>\n",
       "    <tr>\n",
       "      <th>0</th>\n",
       "      <td>2020-10-01</td>\n",
       "      <td>1385.958333</td>\n",
       "      <td>Thursday</td>\n",
       "      <td>4</td>\n",
       "    </tr>\n",
       "    <tr>\n",
       "      <th>1</th>\n",
       "      <td>2020-10-02</td>\n",
       "      <td>1264.833333</td>\n",
       "      <td>Friday</td>\n",
       "      <td>5</td>\n",
       "    </tr>\n",
       "    <tr>\n",
       "      <th>2</th>\n",
       "      <td>2020-10-03</td>\n",
       "      <td>639.416667</td>\n",
       "      <td>Saturday</td>\n",
       "      <td>6</td>\n",
       "    </tr>\n",
       "    <tr>\n",
       "      <th>3</th>\n",
       "      <td>2020-10-04</td>\n",
       "      <td>730.500000</td>\n",
       "      <td>Sunday</td>\n",
       "      <td>7</td>\n",
       "    </tr>\n",
       "    <tr>\n",
       "      <th>4</th>\n",
       "      <td>2020-10-05</td>\n",
       "      <td>1004.958333</td>\n",
       "      <td>Monday</td>\n",
       "      <td>1</td>\n",
       "    </tr>\n",
       "    <tr>\n",
       "      <th>...</th>\n",
       "      <td>...</td>\n",
       "      <td>...</td>\n",
       "      <td>...</td>\n",
       "      <td>...</td>\n",
       "    </tr>\n",
       "    <tr>\n",
       "      <th>367</th>\n",
       "      <td>2021-10-03</td>\n",
       "      <td>65.041667</td>\n",
       "      <td>Sunday</td>\n",
       "      <td>7</td>\n",
       "    </tr>\n",
       "    <tr>\n",
       "      <th>368</th>\n",
       "      <td>2021-10-04</td>\n",
       "      <td>25.583333</td>\n",
       "      <td>Monday</td>\n",
       "      <td>1</td>\n",
       "    </tr>\n",
       "    <tr>\n",
       "      <th>369</th>\n",
       "      <td>2021-10-05</td>\n",
       "      <td>30.291667</td>\n",
       "      <td>Tuesday</td>\n",
       "      <td>2</td>\n",
       "    </tr>\n",
       "    <tr>\n",
       "      <th>370</th>\n",
       "      <td>2021-10-06</td>\n",
       "      <td>11.041667</td>\n",
       "      <td>Wednesday</td>\n",
       "      <td>3</td>\n",
       "    </tr>\n",
       "    <tr>\n",
       "      <th>371</th>\n",
       "      <td>2021-10-07</td>\n",
       "      <td>13.333333</td>\n",
       "      <td>Thursday</td>\n",
       "      <td>4</td>\n",
       "    </tr>\n",
       "  </tbody>\n",
       "</table>\n",
       "<p>372 rows × 4 columns</p>\n",
       "</div>"
      ],
      "text/plain": [
       "           DAY  COMPLETIONS PER HOUR    WEEKDAY  WEEKDAY NUMBER\n",
       "0   2020-10-01           1385.958333   Thursday               4\n",
       "1   2020-10-02           1264.833333     Friday               5\n",
       "2   2020-10-03            639.416667   Saturday               6\n",
       "3   2020-10-04            730.500000     Sunday               7\n",
       "4   2020-10-05           1004.958333     Monday               1\n",
       "..         ...                   ...        ...             ...\n",
       "367 2021-10-03             65.041667     Sunday               7\n",
       "368 2021-10-04             25.583333     Monday               1\n",
       "369 2021-10-05             30.291667    Tuesday               2\n",
       "370 2021-10-06             11.041667  Wednesday               3\n",
       "371 2021-10-07             13.333333   Thursday               4\n",
       "\n",
       "[372 rows x 4 columns]"
      ]
     },
     "execution_count": 25,
     "metadata": {},
     "output_type": "execute_result"
    }
   ],
   "source": [
    "# Add weekday and weekday number to completions per hour by day\n",
    "comp_per_hour_by_day['WEEKDAY'] = comp_per_hour_by_day['DAY'].apply(lambda x: calendar.day_name[x.weekday()])\n",
    "comp_per_hour_by_day['WEEKDAY NUMBER'] = comp_per_hour_by_day['DAY'].apply(lambda x: x.weekday()+1)\n",
    "comp_per_hour_by_day"
   ]
  },
  {
   "cell_type": "code",
   "execution_count": 26,
   "id": "2f8ca42c",
   "metadata": {},
   "outputs": [
    {
     "data": {
      "text/html": [
       "<div>\n",
       "<style scoped>\n",
       "    .dataframe tbody tr th:only-of-type {\n",
       "        vertical-align: middle;\n",
       "    }\n",
       "\n",
       "    .dataframe tbody tr th {\n",
       "        vertical-align: top;\n",
       "    }\n",
       "\n",
       "    .dataframe thead th {\n",
       "        text-align: right;\n",
       "    }\n",
       "</style>\n",
       "<table border=\"1\" class=\"dataframe\">\n",
       "  <thead>\n",
       "    <tr style=\"text-align: right;\">\n",
       "      <th></th>\n",
       "      <th>WEEKDAY NUMBER</th>\n",
       "      <th>WEEKDAY</th>\n",
       "      <th>COMPLETIONS PER HOUR</th>\n",
       "    </tr>\n",
       "  </thead>\n",
       "  <tbody>\n",
       "    <tr>\n",
       "      <th>0</th>\n",
       "      <td>1</td>\n",
       "      <td>Monday</td>\n",
       "      <td>878.555031</td>\n",
       "    </tr>\n",
       "    <tr>\n",
       "      <th>1</th>\n",
       "      <td>2</td>\n",
       "      <td>Tuesday</td>\n",
       "      <td>1019.834906</td>\n",
       "    </tr>\n",
       "    <tr>\n",
       "      <th>2</th>\n",
       "      <td>3</td>\n",
       "      <td>Wednesday</td>\n",
       "      <td>926.651730</td>\n",
       "    </tr>\n",
       "    <tr>\n",
       "      <th>3</th>\n",
       "      <td>4</td>\n",
       "      <td>Thursday</td>\n",
       "      <td>795.691358</td>\n",
       "    </tr>\n",
       "    <tr>\n",
       "      <th>4</th>\n",
       "      <td>5</td>\n",
       "      <td>Friday</td>\n",
       "      <td>805.452044</td>\n",
       "    </tr>\n",
       "    <tr>\n",
       "      <th>5</th>\n",
       "      <td>6</td>\n",
       "      <td>Saturday</td>\n",
       "      <td>664.910377</td>\n",
       "    </tr>\n",
       "    <tr>\n",
       "      <th>6</th>\n",
       "      <td>7</td>\n",
       "      <td>Sunday</td>\n",
       "      <td>691.913522</td>\n",
       "    </tr>\n",
       "  </tbody>\n",
       "</table>\n",
       "</div>"
      ],
      "text/plain": [
       "   WEEKDAY NUMBER    WEEKDAY  COMPLETIONS PER HOUR\n",
       "0               1     Monday            878.555031\n",
       "1               2    Tuesday           1019.834906\n",
       "2               3  Wednesday            926.651730\n",
       "3               4   Thursday            795.691358\n",
       "4               5     Friday            805.452044\n",
       "5               6   Saturday            664.910377\n",
       "6               7     Sunday            691.913522"
      ]
     },
     "execution_count": 26,
     "metadata": {},
     "output_type": "execute_result"
    }
   ],
   "source": [
    "# Aggregate by weekday\n",
    "comp_per_hour_weekday = comp_per_hour_by_day.groupby(['WEEKDAY NUMBER', 'WEEKDAY'], as_index = False)['COMPLETIONS PER HOUR'].mean()\n",
    "comp_per_hour_weekday"
   ]
  },
  {
   "cell_type": "markdown",
   "id": "04b95edc",
   "metadata": {},
   "source": [
    "### bar plot shows same result, with Monday - Wednesday as only days above the overall average completions per hour (red line) calculated earlier. Weekend completions per hour look significantly low."
   ]
  },
  {
   "cell_type": "code",
   "execution_count": 27,
   "id": "5cb673bd",
   "metadata": {},
   "outputs": [
    {
     "data": {
      "image/png": "[encoded data removed]",
      "text/plain": [
       "<Figure size 1440x504 with 1 Axes>"
      ]
     },
     "metadata": {},
     "output_type": "display_data"
    }
   ],
   "source": [
    "# Plot completions per hour by weekday\n",
    "fig, ax = plt.subplots(figsize=(20,7))\n",
    "\n",
    "sns.barplot(x = 'WEEKDAY',\n",
    "            y = 'COMPLETIONS PER HOUR',\n",
    "            data = comp_per_hour_weekday,\n",
    "            ax = ax,\n",
    "           )\n",
    "\n",
    "ax.axhline(jobs_per_hour, color = 'red')\n",
    "ax.set(xlabel = 'Week Job Was Completed',\n",
    "       ylabel = 'Jobs Completed Per Hour',\n",
    "       title = 'Jobs Completed Per Hour by Weekday: The Volume Is Early in the Work Week (Monday - Wednesday)')\n",
    "plt.show()"
   ]
  }
 ],
 "metadata": {
  "kernelspec": {
   "display_name": "Python 3",
   "language": "python",
   "name": "python3"
  },
  "language_info": {
   "codemirror_mode": {
    "name": "ipython",
    "version": 3
   },
   "file_extension": ".py",
   "mimetype": "text/x-python",
   "name": "python",
   "nbconvert_exporter": "python",
   "pygments_lexer": "ipython3",
   "version": "3.8.8"
  }
 },
 "nbformat": 4,
 "nbformat_minor": 5
}
