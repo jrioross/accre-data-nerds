{
 "cells": [
  {
   "cell_type": "code",
   "execution_count": 52,
   "id": "39f91716",
   "metadata": {
    "hideCode": false,
    "hidePrompt": false
   },
   "outputs": [],
   "source": [
    "import pandas as pd\n",
    "import numpy as np\n",
    "import matplotlib.pyplot as plt\n",
    "import matplotlib.dates as mdates\n",
    "import statsmodels.api as sm\n",
    "import seaborn as sns\n",
    "import re\n",
    "from jupyterthemes import jtplot\n",
    "from datetime import timedelta, datetime\n",
    "import calendar\n",
    "import plotly.express as px\n",
    "import sklearn.calibration\n",
    "jtplot.style()"
   ]
  },
  {
   "cell_type": "markdown",
   "id": "b59d67d1",
   "metadata": {
    "hideCode": false,
    "hidePrompt": false
   },
   "source": [
    "# Functions"
   ]
  },
  {
   "cell_type": "markdown",
   "id": "c4fedb85",
   "metadata": {},
   "source": [
    "## Create rolling window of jobs started or ended in hour prior to each test"
   ]
  },
  {
   "cell_type": "code",
   "execution_count": 32,
   "id": "a2b2af85",
   "metadata": {
    "hideCode": false,
    "hidePrompt": false
   },
   "outputs": [],
   "source": [
    "def rollmodel_df(x, dt_col, jobs_running = False):\n",
    "    y = x.rename(columns = {'DATETIME' : dt_col}).drop(columns = ['JOBID'])\n",
    "    df = pd.concat([slurm_jobs, y])\n",
    "    df = df.sort_values(dt_col).reset_index(drop = True)\n",
    "    if jobs_running == True:\n",
    "        \n",
    "        begin_load_df = (df[~df['JOBID'].isnull()]\n",
    "                                  [['BEGIN']]\n",
    "                                  .rename(columns={'BEGIN':'TIME'})\n",
    "                        )\n",
    "        begin_load_df['process'] = 1\n",
    "        \n",
    "        end_load_df = (df[~df['JOBID'].isnull()]\n",
    "                                  [['END']]\n",
    "                                  .rename(columns={'END':'TIME'})\n",
    "                      )\n",
    "        end_load_df['process'] = -1 \n",
    "        \n",
    "        commands_load_df = (df[df['JOBID'].isnull()]\n",
    "                                  [[dt_col]]\n",
    "                                  .rename(columns={dt_col:'TIME'})\n",
    "                      )\n",
    "        commands_load_df['process'] = 0 \n",
    "        \n",
    "        load_df = begin_load_df.append(end_load_df).append(commands_load_df)\n",
    "        jobs_running_prefilter = load_df.sort_values('TIME')['process'].cumsum()\n",
    "        jobs_running = jobs_running_prefilter[~jobs_running_prefilter\n",
    "                                                  .index\n",
    "                                                  .duplicated(keep='first')]\n",
    "        df['JOBSRUNNING'+dt_col] = jobs_running\n",
    "    else:\n",
    "        df['ROLL1HR'+dt_col] = (df\n",
    "                                   .rolling('1h', on = dt_col)\n",
    "                                    ['JOBID']\n",
    "                                    .count()\n",
    "                                )\n",
    "    df = df[df['JOBID'].isnull()]\n",
    "    df = df[(df[dt_col] < '2021-05-18') | (df[dt_col] >= '2021-06-01')]\n",
    "    return df"
   ]
  },
  {
   "cell_type": "markdown",
   "id": "bb6f737c",
   "metadata": {},
   "source": [
    "## Logistic (unwraps Logit)"
   ]
  },
  {
   "cell_type": "code",
   "execution_count": 3,
   "id": "b985b681",
   "metadata": {
    "hideCode": false,
    "hidePrompt": false
   },
   "outputs": [],
   "source": [
    "def logistic(x, a, b):\n",
    "    return 1/(1+np.exp(-(a + (b*x))))"
   ]
  },
  {
   "cell_type": "markdown",
   "id": "57ae9e76",
   "metadata": {
    "hideCode": false,
    "hidePrompt": false
   },
   "source": [
    "# Read in ce, filter down to testing"
   ]
  },
  {
   "cell_type": "code",
   "execution_count": 4,
   "id": "be100694",
   "metadata": {
    "hideCode": false,
    "hidePrompt": false
   },
   "outputs": [],
   "source": [
    "ce = pd.read_csv('../data/ce.csv')"
   ]
  },
  {
   "cell_type": "code",
   "execution_count": 5,
   "id": "6d11ca16",
   "metadata": {
    "hideCode": false,
    "hidePrompt": false
   },
   "outputs": [],
   "source": [
    "ce['DATETIME'] = pd.to_datetime(ce['DATETIME'])\n",
    "ce['UNRESPONSIVE'] = ce['UNRESPONSIVE'].astype('boolean')"
   ]
  },
  {
   "cell_type": "code",
   "execution_count": 6,
   "id": "6cdaf215",
   "metadata": {
    "hideCode": false,
    "hidePrompt": false
   },
   "outputs": [
    {
     "name": "stdout",
     "output_type": "stream",
     "text": [
      "<class 'pandas.core.frame.DataFrame'>\n",
      "RangeIndex: 9547413 entries, 0 to 9547412\n",
      "Data columns (total 12 columns):\n",
      " #   Column             Dtype         \n",
      "---  ------             -----         \n",
      " 0   DATETIME           datetime64[ns]\n",
      " 1   USER               int64         \n",
      " 2   RETRY              int64         \n",
      " 3   TIMELAPSE          float64       \n",
      " 4   RETURNCODE         int64         \n",
      " 5   COMMAND            object        \n",
      " 6   JOBID              float64       \n",
      " 7   COMMANDTYPE        object        \n",
      " 8   TESTING            bool          \n",
      " 9   UNRESPONSIVE       boolean       \n",
      " 10  SERVER             object        \n",
      " 11  UNRESPONSIVEGROUP  float64       \n",
      "dtypes: bool(1), boolean(1), datetime64[ns](1), float64(3), int64(3), object(3)\n",
      "memory usage: 755.7+ MB\n"
     ]
    }
   ],
   "source": [
    "ce.info()"
   ]
  },
  {
   "cell_type": "code",
   "execution_count": 7,
   "id": "b7391339",
   "metadata": {
    "hideCode": false,
    "hidePrompt": false
   },
   "outputs": [],
   "source": [
    "testing = ce[ce['TESTING']]"
   ]
  },
  {
   "cell_type": "markdown",
   "id": "eda98a0d",
   "metadata": {
    "hideCode": false,
    "hidePrompt": false
   },
   "source": [
    "# Read in slurm_jobs"
   ]
  },
  {
   "cell_type": "code",
   "execution_count": 8,
   "id": "6ca34ea9",
   "metadata": {
    "hideCode": false,
    "hidePrompt": false
   },
   "outputs": [],
   "source": [
    "slurm_jobs = pd.read_csv('../data/slurm_jobs.csv')"
   ]
  },
  {
   "cell_type": "code",
   "execution_count": 9,
   "id": "9b11c7c1",
   "metadata": {
    "hideCode": false,
    "hidePrompt": false
   },
   "outputs": [],
   "source": [
    "datetime_cols = ['BEGIN', 'END']\n",
    "for col in datetime_cols:\n",
    "    slurm_jobs[col] = pd.to_datetime(slurm_jobs[col])\n",
    "\n",
    "timedelta_cols = ['REQTIME', 'USEDTIME']\n",
    "for col in timedelta_cols:\n",
    "    slurm_jobs[col] = pd.to_timedelta(slurm_jobs[col])"
   ]
  },
  {
   "cell_type": "code",
   "execution_count": 10,
   "id": "7ccf03ce",
   "metadata": {
    "hideCode": false,
    "hidePrompt": false
   },
   "outputs": [],
   "source": [
    "slurm_jobs = slurm_jobs.drop(columns = 'ROLL1HR')"
   ]
  },
  {
   "cell_type": "code",
   "execution_count": 11,
   "id": "c4fe8cfb",
   "metadata": {
    "hideCode": false,
    "hidePrompt": false
   },
   "outputs": [
    {
     "name": "stdout",
     "output_type": "stream",
     "text": [
      "<class 'pandas.core.frame.DataFrame'>\n",
      "RangeIndex: 7395234 entries, 0 to 7395233\n",
      "Data columns (total 16 columns):\n",
      " #   Column     Dtype          \n",
      "---  ------     -----          \n",
      " 0   JOBID      object         \n",
      " 1   STATE      object         \n",
      " 2   BEGIN      datetime64[ns] \n",
      " 3   END        datetime64[ns] \n",
      " 4   REQMEM     object         \n",
      " 5   USEDMEM    object         \n",
      " 6   REQTIME    timedelta64[ns]\n",
      " 7   USEDTIME   timedelta64[ns]\n",
      " 8   NODES      int64          \n",
      " 9   CPUS       int64          \n",
      " 10  PARTITION  object         \n",
      " 11  EXITCODE   int64          \n",
      " 12  TIMEOUT    bool           \n",
      " 13  SIGNAL     int64          \n",
      " 14  IN_ARRAY   bool           \n",
      " 15  ARRAYID    float64        \n",
      "dtypes: bool(2), datetime64[ns](2), float64(1), int64(4), object(5), timedelta64[ns](2)\n",
      "memory usage: 804.0+ MB\n"
     ]
    }
   ],
   "source": [
    "slurm_jobs.info()"
   ]
  },
  {
   "cell_type": "markdown",
   "id": "44d18a88",
   "metadata": {
    "hideCode": false,
    "hidePrompt": false
   },
   "source": [
    "## Problem 4\n",
    "\n",
    "Finally, combine the time series information from the two datasets together to see \n",
    "\n",
    "(4A) how well correlated heavy job-completion load is with the unresponsiveness, and \n",
    "\n",
    "(4B) to see if there is some threshold of job completions per hour that generally results in unresponsiveness."
   ]
  },
  {
   "cell_type": "markdown",
   "id": "84a4e6ba",
   "metadata": {
    "hideCode": false,
    "hidePrompt": false
   },
   "source": [
    "## (4A) How well correlated is heavy job-completion load with unresponsiveness?\n",
    "\n",
    "-- Mix in logs (testing) with jobs (slurm_jobs)\n",
    "\n",
    "   * concatenate slurm_jobs and testing; call it slurm_testing\n",
    "    \n",
    "-- Create rolling window to check for unresponsivenss\n",
    "\n",
    "   * sort and reset index of slurm_testing\n",
    "   * create rolling window for jobs completed in our prior to each entry; call the column ROLL1HR\n",
    "   * filter slurm_testing down to TESTING == True; call it slurm_tests\n",
    "   * create rolling window of jobs completed in our prior to each test\n",
    "   * ensure UNRESPONSIVE is boolean\n",
    "   * filter out late-May downtime; call it slurm_tests_filt\n",
    "    \n",
    "-- Make logistic regression model\n",
    "\n",
    "   * Make the base model with sm.GLM\n",
    "   * Make the model with ROLL1HR as exog\n",
    "   * Plot the model\n",
    "   * Make model with Logit to confirm results and to construct confusion matrix"
   ]
  },
  {
   "cell_type": "markdown",
   "id": "f2caf05f",
   "metadata": {
    "hideCode": false,
    "hidePrompt": false
   },
   "source": [
    "### Mix in logs (testing) with jobs (slurm_jobs)"
   ]
  },
  {
   "cell_type": "code",
   "execution_count": 15,
   "id": "0ba3c1b3",
   "metadata": {},
   "outputs": [],
   "source": [
    "slurm_testing_END = rollmodel_df(testing, 'END')"
   ]
  },
  {
   "cell_type": "markdown",
   "id": "b6328eec",
   "metadata": {
    "hideCode": false,
    "hidePrompt": false
   },
   "source": [
    "### Make logistic regression model: ROLL1HR model shows AIC improvement over base model. \n",
    "\n",
    "### Answer: Significant result: ROLL1HR and UNRESPONSIVE are (slightly) negatively correlated.\n",
    "\n",
    "Odds of unresponsiveness decrease by 8% with every thousand jobs ended per hour; e.g. the odds of unresponsiveness at 2000 jobs are predicted to be about 92.7% of what they are at 1000 jobs."
   ]
  },
  {
   "cell_type": "code",
   "execution_count": 16,
   "id": "af9ed548",
   "metadata": {
    "hideCode": false,
    "hidePrompt": false
   },
   "outputs": [
    {
     "name": "stdout",
     "output_type": "stream",
     "text": [
      "                 Generalized Linear Model Regression Results                  \n",
      "==============================================================================\n",
      "Dep. Variable:           UNRESPONSIVE   No. Observations:                58782\n",
      "Model:                            GLM   Df Residuals:                    58780\n",
      "Model Family:                Binomial   Df Model:                            1\n",
      "Link Function:                  logit   Scale:                          1.0000\n",
      "Method:                          IRLS   Log-Likelihood:                -12505.\n",
      "Date:                Mon, 08 Nov 2021   Deviance:                       25011.\n",
      "Time:                        10:53:14   Pearson chi2:                 5.88e+04\n",
      "No. Iterations:                     6                                         \n",
      "Covariance Type:            nonrobust                                         \n",
      "==============================================================================\n",
      "                 coef    std err          z      P>|z|      [0.025      0.975]\n",
      "------------------------------------------------------------------------------\n",
      "const         -2.7876      0.023   -121.772      0.000      -2.833      -2.743\n",
      "ROLL1HREND -7.347e-05   1.89e-05     -3.877      0.000      -0.000   -3.63e-05\n",
      "============================================================================== \n",
      "\n",
      "\n",
      "Base AIC: 25029.605438244926\n",
      "Logistic AIC: 25014.74483007809\n"
     ]
    }
   ],
   "source": [
    "logreg_unresponsive_base = (sm.GLM(endog = slurm_testing_END['UNRESPONSIVE'].astype('int'),\n",
    "                       exog = sm.add_constant(slurm_testing_END[[]]),\n",
    "                       family = sm.families.Binomial(),\n",
    "                      )\n",
    "                  .fit()\n",
    "               )\n",
    "\n",
    "logreg_unresponsive_roll = (sm.GLM(endog = slurm_testing_END['UNRESPONSIVE'].astype('int'),\n",
    "                       exog = sm.add_constant(slurm_testing_END['ROLL1HREND']),\n",
    "                       family = sm.families.Binomial(),\n",
    "                      )\n",
    "                  .fit()\n",
    "               )\n",
    "print(logreg_unresponsive_roll.summary(), '\\n\\n')\n",
    "print('Base AIC: '+str(logreg_unresponsive_base.aic))\n",
    "print('Logistic AIC: '+str(logreg_unresponsive_roll.aic))"
   ]
  },
  {
   "cell_type": "markdown",
   "id": "70093b6c",
   "metadata": {
    "hideCode": false,
    "hidePrompt": false
   },
   "source": [
    "### Plot the model with regular axes"
   ]
  },
  {
   "cell_type": "code",
   "execution_count": 18,
   "id": "911917c0",
   "metadata": {
    "hideCode": false,
    "hidePrompt": false
   },
   "outputs": [
    {
     "data": {
      "image/png": "[encoded data removed]",
      "text/plain": [
       "<Figure size 720x432 with 1 Axes>"
      ]
     },
     "metadata": {},
     "output_type": "display_data"
    }
   ],
   "source": [
    "fig, ax = plt.subplots(figsize = (10,6))\n",
    "\n",
    "x = slurm_testing_END['ROLL1HREND']\n",
    "y_logistic = logistic(x = x, a = -2.7876, b =-7.347e-05)\n",
    "plt.scatter(x, y_logistic, label = 'Logistic')\n",
    "\n",
    "x = slurm_testing_END['ROLL1HREND']\n",
    "y = slurm_testing_END['UNRESPONSIVE'].astype('int')\n",
    "plt.scatter(x, y, label = 'Actual', alpha = 0.5)\n",
    "#ax.axhline(0.5)\n",
    "plt.legend()\n",
    "plt.title(\"Logistic Regression Model Predicts Unresponsiveness Decreases as Jobs Ended Per Hour Increases\")\n",
    "plt.ylabel(\"Responsive (0) or Unresponsive (1)\")\n",
    "plt.xlabel(\"Jobs Ended Per Hour\");"
   ]
  },
  {
   "cell_type": "markdown",
   "id": "72fe3a3b",
   "metadata": {
    "hideCode": false,
    "hidePrompt": false
   },
   "source": [
    "### Plot the model with log-transformed x-axis"
   ]
  },
  {
   "cell_type": "code",
   "execution_count": 20,
   "id": "efe2379c",
   "metadata": {
    "hideCode": false,
    "hidePrompt": false
   },
   "outputs": [
    {
     "data": {
      "image/png": "[encoded data removed]",
      "text/plain": [
       "<Figure size 720x432 with 1 Axes>"
      ]
     },
     "metadata": {},
     "output_type": "display_data"
    }
   ],
   "source": [
    "fig, ax = plt.subplots(figsize = (10,6))\n",
    "\n",
    "x = slurm_testing_END['ROLL1HREND']\n",
    "y_logistic = logistic(x = x, a = -2.7876, b =-7.347e-05)\n",
    "plt.scatter(x, y_logistic, label = 'Logistic')\n",
    "\n",
    "x = slurm_testing_END['ROLL1HREND']\n",
    "y = slurm_testing_END['UNRESPONSIVE'].astype('int')\n",
    "plt.scatter(x, y, label = 'Actual', alpha = 0.5)\n",
    "ax.set(xscale = 'log', xlim = (1, 20000))\n",
    "#ax.axhline(0.5)\n",
    "plt.legend()\n",
    "plt.title(\"Logistic Regression Model Predicts Unresponsiveness Decreases as Jobs Ended Per Hour Increases\")\n",
    "plt.ylabel(\"Responsive (0) or Unresponsive (1)\")\n",
    "plt.xlabel(\"Jobs Ended Per Hour\");"
   ]
  },
  {
   "cell_type": "markdown",
   "id": "e543b125",
   "metadata": {
    "hideCode": false,
    "hidePrompt": false
   },
   "source": [
    "# Build model with all commands, not just USER 9204 and COMMANDTYPE sbatch"
   ]
  },
  {
   "cell_type": "code",
   "execution_count": 21,
   "id": "8600b963",
   "metadata": {
    "hideCode": false,
    "hidePrompt": false
   },
   "outputs": [],
   "source": [
    "slurm_allcomf = rollmodel_df(ce, 'END')"
   ]
  },
  {
   "cell_type": "markdown",
   "id": "b9ff60b4",
   "metadata": {
    "hideCode": false,
    "hidePrompt": false
   },
   "source": [
    "### Answer: Different coefficients but same takeaway: small negative correlation."
   ]
  },
  {
   "cell_type": "code",
   "execution_count": 23,
   "id": "601c57c6",
   "metadata": {
    "hideCode": false,
    "hidePrompt": false
   },
   "outputs": [
    {
     "name": "stdout",
     "output_type": "stream",
     "text": [
      "                 Generalized Linear Model Regression Results                  \n",
      "==============================================================================\n",
      "Dep. Variable:           UNRESPONSIVE   No. Observations:              9406878\n",
      "Model:                            GLM   Df Residuals:                  9406876\n",
      "Model Family:                Binomial   Df Model:                            1\n",
      "Link Function:                  logit   Scale:                          1.0000\n",
      "Method:                          IRLS   Log-Likelihood:            -3.2030e+06\n",
      "Date:                Mon, 08 Nov 2021   Deviance:                   6.4060e+06\n",
      "Time:                        10:59:52   Pearson chi2:                 9.48e+06\n",
      "No. Iterations:                     6                                         \n",
      "Covariance Type:            nonrobust                                         \n",
      "==============================================================================\n",
      "                 coef    std err          z      P>|z|      [0.025      0.975]\n",
      "------------------------------------------------------------------------------\n",
      "const         -1.9778      0.001  -1416.503      0.000      -1.981      -1.975\n",
      "ROLL1HREND    -0.0002   1.31e-06   -136.341      0.000      -0.000      -0.000\n",
      "============================================================================== \n",
      "\n",
      "\n",
      "Base AIC: 6429756.762790646\n",
      "Logistic AIC: 6405999.756862564\n"
     ]
    }
   ],
   "source": [
    "logreg_unresponsive_base = (sm.GLM(endog = slurm_allcomf['UNRESPONSIVE'].astype('int'),\n",
    "                       exog = sm.add_constant(slurm_allcomf[[]]),\n",
    "                       family = sm.families.Binomial(),\n",
    "                      )\n",
    "                  .fit()\n",
    "               )\n",
    "\n",
    "logreg_unresponsive_roll = (sm.GLM(endog = slurm_allcomf['UNRESPONSIVE'].astype('int'),\n",
    "                       exog = sm.add_constant(slurm_allcomf['ROLL1HREND']),\n",
    "                       family = sm.families.Binomial(),\n",
    "                      )\n",
    "                  .fit()\n",
    "               )\n",
    "print(logreg_unresponsive_roll.summary(), '\\n\\n')\n",
    "print('Base AIC: '+str(logreg_unresponsive_base.aic))\n",
    "print('Logistic AIC: '+str(logreg_unresponsive_roll.aic))"
   ]
  },
  {
   "cell_type": "markdown",
   "id": "f8d5e94c",
   "metadata": {},
   "source": [
    "# Model with TESTING and jobs begun"
   ]
  },
  {
   "cell_type": "code",
   "execution_count": 28,
   "id": "daea71a0",
   "metadata": {},
   "outputs": [],
   "source": [
    "slurm_testing_BEGIN = rollmodel_df(testing, 'BEGIN')"
   ]
  },
  {
   "cell_type": "code",
   "execution_count": 31,
   "id": "8d41caea",
   "metadata": {},
   "outputs": [
    {
     "name": "stdout",
     "output_type": "stream",
     "text": [
      "                 Generalized Linear Model Regression Results                  \n",
      "==============================================================================\n",
      "Dep. Variable:           UNRESPONSIVE   No. Observations:                58782\n",
      "Model:                            GLM   Df Residuals:                    58780\n",
      "Model Family:                Binomial   Df Model:                            1\n",
      "Link Function:                  logit   Scale:                          1.0000\n",
      "Method:                          IRLS   Log-Likelihood:                -12511.\n",
      "Date:                Mon, 08 Nov 2021   Deviance:                       25023.\n",
      "Time:                        11:16:21   Pearson chi2:                 5.88e+04\n",
      "No. Iterations:                     6                                         \n",
      "Covariance Type:            nonrobust                                         \n",
      "================================================================================\n",
      "                   coef    std err          z      P>|z|      [0.025      0.975]\n",
      "--------------------------------------------------------------------------------\n",
      "const           -2.8161      0.022   -126.153      0.000      -2.860      -2.772\n",
      "ROLL1HRBEGIN -3.595e-05    1.7e-05     -2.120      0.034   -6.92e-05   -2.71e-06\n",
      "================================================================================ \n",
      "\n",
      "\n",
      "Base AIC: 25029.605438244926\n",
      "Logistic AIC: 25026.850157483612\n"
     ]
    }
   ],
   "source": [
    "logreg_unresponsive_base = (sm.GLM(endog = slurm_testing_BEGIN['UNRESPONSIVE'].astype('int'),\n",
    "                       exog = sm.add_constant(slurm_testing_BEGIN[[]]),\n",
    "                       family = sm.families.Binomial(),\n",
    "                      )\n",
    "                  .fit()\n",
    "               )\n",
    "\n",
    "logreg_unresponsive_roll = (sm.GLM(endog = slurm_testing_BEGIN['UNRESPONSIVE'].astype('int'),\n",
    "                       exog = sm.add_constant(slurm_testing_BEGIN['ROLL1HRBEGIN']),\n",
    "                       family = sm.families.Binomial(),\n",
    "                      )\n",
    "                  .fit()\n",
    "               )\n",
    "print(logreg_unresponsive_roll.summary(), '\\n\\n')\n",
    "print('Base AIC: '+str(logreg_unresponsive_base.aic))\n",
    "print('Logistic AIC: '+str(logreg_unresponsive_roll.aic))"
   ]
  },
  {
   "cell_type": "markdown",
   "id": "6136757a",
   "metadata": {},
   "source": [
    "# Model with TESTING and jobs running"
   ]
  },
  {
   "cell_type": "code",
   "execution_count": 36,
   "id": "e3ef311d",
   "metadata": {},
   "outputs": [],
   "source": [
    "slurm_testing_JOBSRUNNING = rollmodel_df(testing, 'BEGIN', True)"
   ]
  },
  {
   "cell_type": "code",
   "execution_count": 37,
   "id": "5c7c3c12",
   "metadata": {},
   "outputs": [
    {
     "name": "stdout",
     "output_type": "stream",
     "text": [
      "<class 'pandas.core.frame.DataFrame'>\n",
      "Int64Index: 58782 entries, 386579 to 7456480\n",
      "Data columns (total 27 columns):\n",
      " #   Column             Non-Null Count  Dtype          \n",
      "---  ------             --------------  -----          \n",
      " 0   JOBID              0 non-null      object         \n",
      " 1   STATE              0 non-null      object         \n",
      " 2   BEGIN              58782 non-null  datetime64[ns] \n",
      " 3   END                0 non-null      datetime64[ns] \n",
      " 4   REQMEM             0 non-null      object         \n",
      " 5   USEDMEM            0 non-null      object         \n",
      " 6   REQTIME            0 non-null      timedelta64[ns]\n",
      " 7   USEDTIME           0 non-null      timedelta64[ns]\n",
      " 8   NODES              0 non-null      float64        \n",
      " 9   CPUS               0 non-null      float64        \n",
      " 10  PARTITION          0 non-null      object         \n",
      " 11  EXITCODE           0 non-null      float64        \n",
      " 12  TIMEOUT            0 non-null      object         \n",
      " 13  SIGNAL             0 non-null      float64        \n",
      " 14  IN_ARRAY           0 non-null      object         \n",
      " 15  ARRAYID            0 non-null      float64        \n",
      " 16  USER               58782 non-null  float64        \n",
      " 17  RETRY              58782 non-null  float64        \n",
      " 18  TIMELAPSE          58782 non-null  float64        \n",
      " 19  RETURNCODE         58782 non-null  float64        \n",
      " 20  COMMAND            58782 non-null  object         \n",
      " 21  COMMANDTYPE        58782 non-null  object         \n",
      " 22  TESTING            58782 non-null  object         \n",
      " 23  UNRESPONSIVE       58782 non-null  boolean        \n",
      " 24  SERVER             58782 non-null  object         \n",
      " 25  UNRESPONSIVEGROUP  3231 non-null   float64        \n",
      " 26  JOBSRUNNINGBEGIN   58782 non-null  int64          \n",
      "dtypes: boolean(1), datetime64[ns](2), float64(10), int64(1), object(11), timedelta64[ns](2)\n",
      "memory usage: 12.2+ MB\n"
     ]
    }
   ],
   "source": [
    "slurm_testing_JOBSRUNNING.info()"
   ]
  },
  {
   "cell_type": "code",
   "execution_count": 38,
   "id": "13fe64dd",
   "metadata": {},
   "outputs": [
    {
     "name": "stdout",
     "output_type": "stream",
     "text": [
      "                 Generalized Linear Model Regression Results                  \n",
      "==============================================================================\n",
      "Dep. Variable:           UNRESPONSIVE   No. Observations:                58782\n",
      "Model:                            GLM   Df Residuals:                    58780\n",
      "Model Family:                Binomial   Df Model:                            1\n",
      "Link Function:                  logit   Scale:                          1.0000\n",
      "Method:                          IRLS   Log-Likelihood:                -11991.\n",
      "Date:                Mon, 08 Nov 2021   Deviance:                       23982.\n",
      "Time:                        12:58:32   Pearson chi2:                 5.74e+04\n",
      "No. Iterations:                     7                                         \n",
      "Covariance Type:            nonrobust                                         \n",
      "====================================================================================\n",
      "                       coef    std err          z      P>|z|      [0.025      0.975]\n",
      "------------------------------------------------------------------------------------\n",
      "const               -5.1497      0.081    -63.203      0.000      -5.309      -4.990\n",
      "JOBSRUNNINGBEGIN     0.0007   2.11e-05     30.923      0.000       0.001       0.001\n",
      "==================================================================================== \n",
      "\n",
      "\n",
      "Base AIC: 25029.605438244926\n",
      "Logistic AIC: 23985.596801141226\n"
     ]
    }
   ],
   "source": [
    "logreg_unresponsive_base = (sm.GLM(endog = slurm_testing_JOBSRUNNING['UNRESPONSIVE'].astype('int'),\n",
    "                       exog = sm.add_constant(slurm_testing_JOBSRUNNING[[]]),\n",
    "                       family = sm.families.Binomial(),\n",
    "                      )\n",
    "                  .fit()\n",
    "               )\n",
    "\n",
    "logreg_unresponsive_roll = (sm.GLM(endog = slurm_testing_JOBSRUNNING['UNRESPONSIVE'].astype('int'),\n",
    "                       exog = sm.add_constant(slurm_testing_JOBSRUNNING['JOBSRUNNINGBEGIN']),\n",
    "                       family = sm.families.Binomial(),\n",
    "                      )\n",
    "                  .fit()\n",
    "               )\n",
    "print(logreg_unresponsive_roll.summary(), '\\n\\n')\n",
    "print('Base AIC: '+str(logreg_unresponsive_base.aic))\n",
    "print('Logistic AIC: '+str(logreg_unresponsive_roll.aic))"
   ]
  },
  {
   "cell_type": "code",
   "execution_count": 41,
   "id": "4adc712a",
   "metadata": {},
   "outputs": [
    {
     "data": {
      "image/png": "[encoded data removed]",
      "text/plain": [
       "<Figure size 720x432 with 1 Axes>"
      ]
     },
     "metadata": {},
     "output_type": "display_data"
    }
   ],
   "source": [
    "fig, ax = plt.subplots(figsize = (10,6))\n",
    "\n",
    "x = slurm_testing_JOBSRUNNING['JOBSRUNNINGBEGIN']\n",
    "y_logistic = logistic(x = x, a = -5.1497, b =0.0007)\n",
    "plt.scatter(x, y_logistic, label = 'Logistic')\n",
    "\n",
    "x = slurm_testing_JOBSRUNNING['JOBSRUNNINGBEGIN']\n",
    "y = slurm_testing_JOBSRUNNING['UNRESPONSIVE'].astype('int')\n",
    "plt.scatter(x, y, label = 'Actual', alpha = 0.5)\n",
    "#ax.axhline(0.5)\n",
    "plt.legend()\n",
    "plt.title(\"Logistic Regression Model Predicts Unresponsiveness Increases as Jobs Running Increases\")\n",
    "plt.ylabel(\"Responsive (0) or Unresponsive (1)\")\n",
    "plt.xlabel(\"Jobs Running\");"
   ]
  },
  {
   "cell_type": "code",
   "execution_count": 79,
   "id": "bb443663",
   "metadata": {},
   "outputs": [
    {
     "data": {
      "text/plain": [
       "<AxesSubplot:xlabel='Predicted Probability of Unresponsiveness', ylabel='True Probability of Unresponsiveness'>"
      ]
     },
     "execution_count": 79,
     "metadata": {},
     "output_type": "execute_result"
    },
    {
     "data": {
      "image/png": "[encoded data removed]",
      "text/plain": [
       "<Figure size 720x432 with 1 Axes>"
      ]
     },
     "metadata": {},
     "output_type": "display_data"
    }
   ],
   "source": [
    "prob_true, prob_pred = sklearn.calibration.calibration_curve(\n",
    "                                slurm_testing_JOBSRUNNING['UNRESPONSIVE'].astype('int'), \n",
    "                                logreg_unresponsive_roll.fittedvalues,\n",
    "                                strategy = 'quantile',\n",
    "                                n_bins = 100\n",
    "                                     )\n",
    "fig, ax = plt.subplots(figsize = (10,6))\n",
    "sns.lineplot(x = prob_pred, y = prob_true, ax = ax, marker = 'o')\n",
    "ax.set(xlabel = 'Predicted Probability of Unresponsiveness',\n",
    "       ylabel = 'True Probability of Unresponsiveness')\n",
    "sns.lineplot(x = prob_true, y = prob_true, color = 'gray', )"
   ]
  },
  {
   "cell_type": "code",
   "execution_count": 86,
   "id": "6a894e04",
   "metadata": {},
   "outputs": [
    {
     "data": {
      "text/plain": [
       "<matplotlib.lines.Line2D at 0x1d7a2a65610>"
      ]
     },
     "execution_count": 86,
     "metadata": {},
     "output_type": "execute_result"
    },
    {
     "data": {
      "image/png": "[encoded data removed]",
      "text/plain": [
       "<Figure size 720x1296 with 1 Axes>"
      ]
     },
     "metadata": {},
     "output_type": "display_data"
    }
   ],
   "source": [
    "slurm_testing_JOBSRUNNING['JOBSRUNNINGBEGINGRP'] = pd.qcut(slurm_testing_JOBSRUNNING['JOBSRUNNINGBEGIN'], \n",
    "                                                           q = 4)\n",
    "\n",
    "fig, ax = plt.subplots(figsize = (10,18))\n",
    "\n",
    "(slurm_testing_JOBSRUNNING\n",
    "         .groupby(['JOBSRUNNINGBEGINGRP', 'UNRESPONSIVE'])\n",
    "         ['JOBSRUNNINGBEGINGRP']\n",
    "         .count()/slurm_testing_JOBSRUNNING\n",
    "                     .groupby('JOBSRUNNINGBEGINGRP')\n",
    "                     ['JOBSRUNNINGBEGINGRP']\n",
    "                     .count()\n",
    ").unstack().plot(kind = 'barh', \n",
    "       stacked = True, \n",
    "       ax = ax)\n",
    "ax.axhline()"
   ]
  },
  {
   "cell_type": "code",
   "execution_count": 87,
   "id": "2c6937bb",
   "metadata": {},
   "outputs": [
    {
     "data": {
      "text/plain": [
       "JOBSRUNNINGBEGINGRP  UNRESPONSIVE\n",
       "(-0.001, 2728.0]     False           0.977095\n",
       "                     True            0.022905\n",
       "(2728.0, 3328.0]     False           0.961973\n",
       "                     True            0.038027\n",
       "(3328.0, 3919.0]     False           0.941818\n",
       "                     True            0.058182\n",
       "(3919.0, 6324.0]     False           0.899190\n",
       "                     True            0.100810\n",
       "Name: JOBSRUNNINGBEGINGRP, dtype: float64"
      ]
     },
     "execution_count": 87,
     "metadata": {},
     "output_type": "execute_result"
    }
   ],
   "source": [
    "(slurm_testing_JOBSRUNNING\n",
    "         .groupby(['JOBSRUNNINGBEGINGRP', 'UNRESPONSIVE'])\n",
    "         ['JOBSRUNNINGBEGINGRP']\n",
    "         .count()/slurm_testing_JOBSRUNNING\n",
    "                     .groupby('JOBSRUNNINGBEGINGRP')\n",
    "                     ['JOBSRUNNINGBEGINGRP']\n",
    "                     .count()\n",
    ")"
   ]
  },
  {
   "cell_type": "markdown",
   "id": "f3827a8f",
   "metadata": {
    "hideCode": false,
    "hidePrompt": false
   },
   "source": [
    "# APPENDIX: Valley of Dry Bones"
   ]
  },
  {
   "cell_type": "code",
   "execution_count": null,
   "id": "9417b3f6",
   "metadata": {
    "hideCode": false,
    "hidePrompt": false
   },
   "outputs": [],
   "source": [
    "# testing = testing.rename(columns = {'DATETIME' : 'END'}).drop(columns = 'JOBID')\n",
    "# slurm_testing = pd.concat([slurm_jobs, testing])\n",
    "# slurm_testing = slurm_testing.sort_values('END').reset_index(drop = True)\n",
    "# slurm_testing['ROLL1HR'] = (slurm_testing\n",
    "#                            .rolling('1h', on = 'END')\n",
    "#                             ['JOBID']\n",
    "#                             .count()\n",
    "#                         )\n",
    "# slurm_tests = slurm_testing[slurm_testing['TESTING'] == True]\n",
    "# slurm_tests_filt = slurm_tests[(slurm_tests['END'] < '2021-05-18') | (slurm_tests['END'] >= '2021-06-01')]"
   ]
  },
  {
   "cell_type": "code",
   "execution_count": null,
   "id": "f1d9cc2d",
   "metadata": {
    "hideCode": false,
    "hidePrompt": false
   },
   "outputs": [],
   "source": [
    "# regex = re.compile(r'((?P<hours>\\d+?)h)?((?P<minutes>\\d+?)m)?((?P<seconds>\\d+?)s)?')\n",
    "\n",
    "# def parse_time(time_str):\n",
    "#     parts = regex.match(time_str)\n",
    "#     if not parts:\n",
    "#         return\n",
    "#     parts = parts.groupdict()\n",
    "#     time_params = {}\n",
    "#     for name, param in parts.items():\n",
    "#         if param:\n",
    "#             time_params[name] = int(param)\n",
    "#     return timedelta(**time_params)"
   ]
  },
  {
   "cell_type": "code",
   "execution_count": null,
   "id": "d2478ebd",
   "metadata": {
    "hideCode": false,
    "hidePrompt": false
   },
   "outputs": [],
   "source": [
    "# def check_unresponsive(x, window = '1h'):\n",
    "#     cef = ce.loc[(ce['DATETIME'] >= x - parse_time(window))\n",
    "#                  &\n",
    "#                  (ce['DATETIME'] <= x)]\n",
    "#     unresp = cef['UNRESPONSIVE'].any()\n",
    "#     return unresp"
   ]
  },
  {
   "cell_type": "code",
   "execution_count": null,
   "id": "b72e15ef",
   "metadata": {
    "hideCode": false,
    "hidePrompt": false
   },
   "outputs": [],
   "source": [
    "#slurm_jobs['END'].apply(check_unresponsive)"
   ]
  },
  {
   "cell_type": "code",
   "execution_count": null,
   "id": "b2f77168",
   "metadata": {},
   "outputs": [],
   "source": [
    "jobs_running_prefilter = load_df.sort_values('TIME')['process'].cumsum()\n",
    "jobs_running = jobs_running_prefilter[~jobs_running_prefilter.index.duplicated(keep='first')]\n",
    "slurm_jobs['JOBSRUNNING'] = jobs_running\n",
    "slurm_jobs"
   ]
  },
  {
   "cell_type": "code",
   "execution_count": null,
   "id": "5eb5134b",
   "metadata": {
    "hideCode": false,
    "hidePrompt": false
   },
   "outputs": [],
   "source": [
    "# George's concurrent processes code\n",
    "begin_load_df = slurm_jobs[slurm_jobs['PARTITION'] == 'production'][['BEGIN']].rename(columns={'BEGIN':'TIME'})\n",
    "begin_load_df['process'] = 1\n",
    "end_load_df = slurm_jobs[slurm_jobs['PARTITION'] == 'production'][['END']].rename(columns={'END':'TIME'})\n",
    "end_load_df['process'] = -1 \n",
    "load_df = begin_load_df.append(end_load_df)\n",
    "resample_interval = \"D\" \n",
    "fs_ts = pd.Series(list(load_df['process']), index=list(load_df['TIME']))\n",
    "fs_resample = fs_ts.resample(resample_interval).sum().to_frame().cumsum()\n",
    "plt.figure(figsize=(15, 10))\n",
    "plt.plot(fs_resample.index, fs_resample[0])"
   ]
  },
  {
   "cell_type": "code",
   "execution_count": null,
   "id": "d50afc5e",
   "metadata": {
    "hideCode": false,
    "hidePrompt": false
   },
   "outputs": [],
   "source": [
    "logreg_unresponsive_base = (sm.GLM(endog = slurm_tests_filt['UNRESPONSIVE'].astype('int'),\n",
    "                       exog = sm.add_constant(slurm_tests_filt[[]]),\n",
    "                       family = sm.families.Binomial(),\n",
    "                      )\n",
    "                  .fit()\n",
    "               )\n",
    "print(logreg_unresponsive_base.summary(), '\\n\\n')\n",
    "print('Base AIC: '+str(logreg_unresponsive_base.aic))"
   ]
  },
  {
   "cell_type": "code",
   "execution_count": null,
   "id": "2d7d10df",
   "metadata": {
    "hideCode": false,
    "hidePrompt": false
   },
   "outputs": [],
   "source": [
    "slurm_tests_filt.plot(x = 'END', y = 'ROLL1HR')"
   ]
  },
  {
   "cell_type": "code",
   "execution_count": null,
   "id": "10ef0057",
   "metadata": {
    "hideCode": false,
    "hidePrompt": false
   },
   "outputs": [],
   "source": [
    "fline = slurm_tests_filt.loc[slurm_tests['UNRESPONSIVE'] == False, 'ROLL1HR'].mean()\n",
    "tline = slurm_tests_filt.loc[slurm_tests['UNRESPONSIVE'] == True, 'ROLL1HR'].mean()\n",
    "\n",
    "ax = sns.stripplot(data = slurm_tests_filt, x = 'UNRESPONSIVE', y = 'ROLL1HR')\n",
    "ax.axhline(fline)\n",
    "ax.axhline(tline, color = '#83A83B')"
   ]
  },
  {
   "cell_type": "code",
   "execution_count": null,
   "id": "b63a3d57",
   "metadata": {
    "hideCode": false,
    "hidePrompt": false
   },
   "outputs": [],
   "source": [
    "fline = slurm_tests_filt.loc[slurm_tests['UNRESPONSIVE'] == False, 'ROLL1HR'].mean()\n",
    "tline = slurm_tests_filt.loc[slurm_tests['UNRESPONSIVE'] == True, 'ROLL1HR'].mean()\n",
    "\n",
    "ax = sns.stripplot(data = slurm_tests_filt, x = 'UNRESPONSIVE', y = 'ROLL1HR')\n",
    "ax.set(yscale = 'log')\n",
    "ax.axhline(fline)\n",
    "ax.axhline(tline, color = '#83A83B')"
   ]
  },
  {
   "cell_type": "code",
   "execution_count": null,
   "id": "b4b74292",
   "metadata": {
    "hideCode": false,
    "hidePrompt": false
   },
   "outputs": [],
   "source": [
    "slurm_tests_filt[slurm_tests_filt['UNRESPONSIVE'] == True].nsmallest(5, 'ROLL1HR')"
   ]
  },
  {
   "cell_type": "code",
   "execution_count": null,
   "id": "2b2ac71c",
   "metadata": {
    "hideCode": false,
    "hidePrompt": false
   },
   "outputs": [],
   "source": [
    "testing.info()"
   ]
  },
  {
   "cell_type": "code",
   "execution_count": null,
   "id": "9f3da010",
   "metadata": {
    "hideCode": false,
    "hidePrompt": false
   },
   "outputs": [],
   "source": [
    "print(testing['END'].diff().describe())\n",
    "x = testing['END'].diff().apply(lambda x: x.total_seconds()).to_frame()\n",
    "sns.displot(x,  \n",
    "            kind = 'ecdf',\n",
    "           )\n",
    "plt.xlim(0.001, 1800)"
   ]
  },
  {
   "cell_type": "code",
   "execution_count": null,
   "id": "db5ca8b6",
   "metadata": {},
   "outputs": [],
   "source": [
    "testing['END'].diff().nlargest(10).index"
   ]
  },
  {
   "cell_type": "code",
   "execution_count": null,
   "id": "d47cdf5c",
   "metadata": {},
   "outputs": [],
   "source": [
    "testing.loc[[8218587, 8199797, 9142536, 8220651, 8194276, 8203463, 8188918,\n",
    "            8381165, 8106360, 7960422]]"
   ]
  },
  {
   "cell_type": "code",
   "execution_count": 27,
   "id": "6d4b2462",
   "metadata": {
    "hideOutput": true
   },
   "outputs": [
    {
     "data": {
      "text/html": [
       "<div>\n",
       "<style scoped>\n",
       "    .dataframe tbody tr th:only-of-type {\n",
       "        vertical-align: middle;\n",
       "    }\n",
       "\n",
       "    .dataframe tbody tr th {\n",
       "        vertical-align: top;\n",
       "    }\n",
       "\n",
       "    .dataframe thead th {\n",
       "        text-align: right;\n",
       "    }\n",
       "</style>\n",
       "<table border=\"1\" class=\"dataframe\">\n",
       "  <thead>\n",
       "    <tr style=\"text-align: right;\">\n",
       "      <th></th>\n",
       "      <th>JOBID</th>\n",
       "      <th>STATE</th>\n",
       "      <th>BEGIN</th>\n",
       "      <th>END</th>\n",
       "      <th>REQMEM</th>\n",
       "      <th>USEDMEM</th>\n",
       "      <th>REQTIME</th>\n",
       "      <th>USEDTIME</th>\n",
       "      <th>NODES</th>\n",
       "      <th>CPUS</th>\n",
       "      <th>PARTITION</th>\n",
       "      <th>EXITCODE</th>\n",
       "      <th>TIMEOUT</th>\n",
       "      <th>SIGNAL</th>\n",
       "      <th>IN_ARRAY</th>\n",
       "      <th>ARRAYID</th>\n",
       "    </tr>\n",
       "  </thead>\n",
       "  <tbody>\n",
       "    <tr>\n",
       "      <th>0</th>\n",
       "      <td>24460577</td>\n",
       "      <td>COMPLETED</td>\n",
       "      <td>2020-10-01 00:05:55</td>\n",
       "      <td>2020-10-01 00:10:15</td>\n",
       "      <td>4096Mc</td>\n",
       "      <td>868.77M</td>\n",
       "      <td>0 days 12:00:00</td>\n",
       "      <td>0 days 00:04:20</td>\n",
       "      <td>1</td>\n",
       "      <td>1</td>\n",
       "      <td>production</td>\n",
       "      <td>0</td>\n",
       "      <td>False</td>\n",
       "      <td>0</td>\n",
       "      <td>False</td>\n",
       "      <td>NaN</td>\n",
       "    </tr>\n",
       "    <tr>\n",
       "      <th>1</th>\n",
       "      <td>24460647</td>\n",
       "      <td>COMPLETED</td>\n",
       "      <td>2020-10-01 00:10:38</td>\n",
       "      <td>2020-10-01 00:12:58</td>\n",
       "      <td>2000Mn</td>\n",
       "      <td>0.09M</td>\n",
       "      <td>2 days 00:00:00</td>\n",
       "      <td>0 days 00:02:20</td>\n",
       "      <td>1</td>\n",
       "      <td>1</td>\n",
       "      <td>sam</td>\n",
       "      <td>0</td>\n",
       "      <td>False</td>\n",
       "      <td>0</td>\n",
       "      <td>False</td>\n",
       "      <td>NaN</td>\n",
       "    </tr>\n",
       "    <tr>\n",
       "      <th>2</th>\n",
       "      <td>24460639</td>\n",
       "      <td>COMPLETED</td>\n",
       "      <td>2020-10-01 00:11:22</td>\n",
       "      <td>2020-10-01 00:13:31</td>\n",
       "      <td>1024Mc</td>\n",
       "      <td>221.10M</td>\n",
       "      <td>0 days 00:30:00</td>\n",
       "      <td>0 days 00:02:09</td>\n",
       "      <td>1</td>\n",
       "      <td>1</td>\n",
       "      <td>production</td>\n",
       "      <td>0</td>\n",
       "      <td>False</td>\n",
       "      <td>0</td>\n",
       "      <td>False</td>\n",
       "      <td>NaN</td>\n",
       "    </tr>\n",
       "    <tr>\n",
       "      <th>3</th>\n",
       "      <td>24460668</td>\n",
       "      <td>COMPLETED</td>\n",
       "      <td>2020-10-01 00:15:16</td>\n",
       "      <td>2020-10-01 00:17:23</td>\n",
       "      <td>2000Mn</td>\n",
       "      <td>0.09M</td>\n",
       "      <td>2 days 00:00:00</td>\n",
       "      <td>0 days 00:02:07</td>\n",
       "      <td>1</td>\n",
       "      <td>1</td>\n",
       "      <td>sam</td>\n",
       "      <td>0</td>\n",
       "      <td>False</td>\n",
       "      <td>0</td>\n",
       "      <td>False</td>\n",
       "      <td>NaN</td>\n",
       "    </tr>\n",
       "    <tr>\n",
       "      <th>4</th>\n",
       "      <td>24460671</td>\n",
       "      <td>FAILED</td>\n",
       "      <td>2020-10-01 00:17:08</td>\n",
       "      <td>2020-10-01 00:17:53</td>\n",
       "      <td>1024Mc</td>\n",
       "      <td>636.96M</td>\n",
       "      <td>0 days 00:30:00</td>\n",
       "      <td>0 days 00:00:45</td>\n",
       "      <td>1</td>\n",
       "      <td>1</td>\n",
       "      <td>production</td>\n",
       "      <td>0</td>\n",
       "      <td>False</td>\n",
       "      <td>9</td>\n",
       "      <td>False</td>\n",
       "      <td>NaN</td>\n",
       "    </tr>\n",
       "    <tr>\n",
       "      <th>...</th>\n",
       "      <td>...</td>\n",
       "      <td>...</td>\n",
       "      <td>...</td>\n",
       "      <td>...</td>\n",
       "      <td>...</td>\n",
       "      <td>...</td>\n",
       "      <td>...</td>\n",
       "      <td>...</td>\n",
       "      <td>...</td>\n",
       "      <td>...</td>\n",
       "      <td>...</td>\n",
       "      <td>...</td>\n",
       "      <td>...</td>\n",
       "      <td>...</td>\n",
       "      <td>...</td>\n",
       "      <td>...</td>\n",
       "    </tr>\n",
       "    <tr>\n",
       "      <th>7395229</th>\n",
       "      <td>32923987</td>\n",
       "      <td>COMPLETED</td>\n",
       "      <td>2021-10-07 20:09:26</td>\n",
       "      <td>2021-10-07 20:11:21</td>\n",
       "      <td>2000Mn</td>\n",
       "      <td>0.09M</td>\n",
       "      <td>2 days 00:00:00</td>\n",
       "      <td>0 days 00:01:55</td>\n",
       "      <td>1</td>\n",
       "      <td>1</td>\n",
       "      <td>sam</td>\n",
       "      <td>0</td>\n",
       "      <td>False</td>\n",
       "      <td>0</td>\n",
       "      <td>False</td>\n",
       "      <td>NaN</td>\n",
       "    </tr>\n",
       "    <tr>\n",
       "      <th>7395230</th>\n",
       "      <td>32923988</td>\n",
       "      <td>COMPLETED</td>\n",
       "      <td>2021-10-07 20:15:05</td>\n",
       "      <td>2021-10-07 20:17:24</td>\n",
       "      <td>2000Mn</td>\n",
       "      <td>0.09M</td>\n",
       "      <td>2 days 00:00:00</td>\n",
       "      <td>0 days 00:02:19</td>\n",
       "      <td>1</td>\n",
       "      <td>1</td>\n",
       "      <td>sam</td>\n",
       "      <td>0</td>\n",
       "      <td>False</td>\n",
       "      <td>0</td>\n",
       "      <td>False</td>\n",
       "      <td>NaN</td>\n",
       "    </tr>\n",
       "    <tr>\n",
       "      <th>7395231</th>\n",
       "      <td>32923989</td>\n",
       "      <td>COMPLETED</td>\n",
       "      <td>2021-10-07 20:24:26</td>\n",
       "      <td>2021-10-07 20:26:01</td>\n",
       "      <td>2000Mn</td>\n",
       "      <td>393.07M</td>\n",
       "      <td>2 days 00:00:00</td>\n",
       "      <td>0 days 00:01:35</td>\n",
       "      <td>1</td>\n",
       "      <td>1</td>\n",
       "      <td>sam</td>\n",
       "      <td>0</td>\n",
       "      <td>False</td>\n",
       "      <td>0</td>\n",
       "      <td>False</td>\n",
       "      <td>NaN</td>\n",
       "    </tr>\n",
       "    <tr>\n",
       "      <th>7395232</th>\n",
       "      <td>32923996</td>\n",
       "      <td>COMPLETED</td>\n",
       "      <td>2021-10-07 20:31:08</td>\n",
       "      <td>2021-10-07 20:32:45</td>\n",
       "      <td>2000Mn</td>\n",
       "      <td>0.09M</td>\n",
       "      <td>2 days 00:00:00</td>\n",
       "      <td>0 days 00:01:37</td>\n",
       "      <td>1</td>\n",
       "      <td>1</td>\n",
       "      <td>sam</td>\n",
       "      <td>0</td>\n",
       "      <td>False</td>\n",
       "      <td>0</td>\n",
       "      <td>False</td>\n",
       "      <td>NaN</td>\n",
       "    </tr>\n",
       "    <tr>\n",
       "      <th>7395233</th>\n",
       "      <td>32923997</td>\n",
       "      <td>COMPLETED</td>\n",
       "      <td>2021-10-07 20:39:26</td>\n",
       "      <td>2021-10-07 20:41:11</td>\n",
       "      <td>2000Mn</td>\n",
       "      <td>0.09M</td>\n",
       "      <td>2 days 00:00:00</td>\n",
       "      <td>0 days 00:01:45</td>\n",
       "      <td>1</td>\n",
       "      <td>1</td>\n",
       "      <td>sam</td>\n",
       "      <td>0</td>\n",
       "      <td>False</td>\n",
       "      <td>0</td>\n",
       "      <td>False</td>\n",
       "      <td>NaN</td>\n",
       "    </tr>\n",
       "  </tbody>\n",
       "</table>\n",
       "<p>7395234 rows × 16 columns</p>\n",
       "</div>"
      ],
      "text/plain": [
       "            JOBID      STATE               BEGIN                 END  REQMEM  \\\n",
       "0        24460577  COMPLETED 2020-10-01 00:05:55 2020-10-01 00:10:15  4096Mc   \n",
       "1        24460647  COMPLETED 2020-10-01 00:10:38 2020-10-01 00:12:58  2000Mn   \n",
       "2        24460639  COMPLETED 2020-10-01 00:11:22 2020-10-01 00:13:31  1024Mc   \n",
       "3        24460668  COMPLETED 2020-10-01 00:15:16 2020-10-01 00:17:23  2000Mn   \n",
       "4        24460671     FAILED 2020-10-01 00:17:08 2020-10-01 00:17:53  1024Mc   \n",
       "...           ...        ...                 ...                 ...     ...   \n",
       "7395229  32923987  COMPLETED 2021-10-07 20:09:26 2021-10-07 20:11:21  2000Mn   \n",
       "7395230  32923988  COMPLETED 2021-10-07 20:15:05 2021-10-07 20:17:24  2000Mn   \n",
       "7395231  32923989  COMPLETED 2021-10-07 20:24:26 2021-10-07 20:26:01  2000Mn   \n",
       "7395232  32923996  COMPLETED 2021-10-07 20:31:08 2021-10-07 20:32:45  2000Mn   \n",
       "7395233  32923997  COMPLETED 2021-10-07 20:39:26 2021-10-07 20:41:11  2000Mn   \n",
       "\n",
       "         USEDMEM         REQTIME        USEDTIME  NODES  CPUS   PARTITION  \\\n",
       "0        868.77M 0 days 12:00:00 0 days 00:04:20      1     1  production   \n",
       "1          0.09M 2 days 00:00:00 0 days 00:02:20      1     1         sam   \n",
       "2        221.10M 0 days 00:30:00 0 days 00:02:09      1     1  production   \n",
       "3          0.09M 2 days 00:00:00 0 days 00:02:07      1     1         sam   \n",
       "4        636.96M 0 days 00:30:00 0 days 00:00:45      1     1  production   \n",
       "...          ...             ...             ...    ...   ...         ...   \n",
       "7395229    0.09M 2 days 00:00:00 0 days 00:01:55      1     1         sam   \n",
       "7395230    0.09M 2 days 00:00:00 0 days 00:02:19      1     1         sam   \n",
       "7395231  393.07M 2 days 00:00:00 0 days 00:01:35      1     1         sam   \n",
       "7395232    0.09M 2 days 00:00:00 0 days 00:01:37      1     1         sam   \n",
       "7395233    0.09M 2 days 00:00:00 0 days 00:01:45      1     1         sam   \n",
       "\n",
       "         EXITCODE  TIMEOUT  SIGNAL  IN_ARRAY  ARRAYID  \n",
       "0               0    False       0     False      NaN  \n",
       "1               0    False       0     False      NaN  \n",
       "2               0    False       0     False      NaN  \n",
       "3               0    False       0     False      NaN  \n",
       "4               0    False       9     False      NaN  \n",
       "...           ...      ...     ...       ...      ...  \n",
       "7395229         0    False       0     False      NaN  \n",
       "7395230         0    False       0     False      NaN  \n",
       "7395231         0    False       0     False      NaN  \n",
       "7395232         0    False       0     False      NaN  \n",
       "7395233         0    False       0     False      NaN  \n",
       "\n",
       "[7395234 rows x 16 columns]"
      ]
     },
     "execution_count": 27,
     "metadata": {},
     "output_type": "execute_result"
    }
   ],
   "source": [
    "slurm_jobs"
   ]
  }
 ],
 "metadata": {
  "hide_code_all_hidden": false,
  "kernelspec": {
   "display_name": "Python 3",
   "language": "python",
   "name": "python3"
  },
  "language_info": {
   "codemirror_mode": {
    "name": "ipython",
    "version": 3
   },
   "file_extension": ".py",
   "mimetype": "text/x-python",
   "name": "python",
   "nbconvert_exporter": "python",
   "pygments_lexer": "ipython3",
   "version": "3.8.8"
  }
 },
 "nbformat": 4,
 "nbformat_minor": 5
}
