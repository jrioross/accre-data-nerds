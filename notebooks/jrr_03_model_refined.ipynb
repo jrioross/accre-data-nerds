{
 "cells": [
  {
   "cell_type": "code",
   "execution_count": 1,
   "id": "39f91716",
   "metadata": {
    "hideCode": false,
    "hidePrompt": false
   },
   "outputs": [],
   "source": [
    "import pandas as pd\n",
    "import numpy as np\n",
    "import matplotlib.pyplot as plt\n",
    "import matplotlib.dates as mdates\n",
    "import statsmodels.api as sm\n",
    "import seaborn as sns\n",
    "import re\n",
    "from jupyterthemes import jtplot\n",
    "from datetime import timedelta, datetime\n",
    "import calendar\n",
    "import plotly.express as px\n",
    "import sklearn.calibration\n",
    "#jtplot.style()"
   ]
  },
  {
   "cell_type": "markdown",
   "id": "d7f835e1",
   "metadata": {
    "hideCode": false,
    "hidePrompt": false
   },
   "source": [
    "# Functions"
   ]
  },
  {
   "cell_type": "markdown",
   "id": "6e1cfbb4",
   "metadata": {},
   "source": [
    "Create rolling window of jobs begun or ended in hour prior to each test, or get number of jobs running at the time of each test."
   ]
  },
  {
   "cell_type": "code",
   "execution_count": 36,
   "id": "9952e5a6",
   "metadata": {
    "hideCode": false,
    "hidePrompt": false
   },
   "outputs": [],
   "source": [
    "def rollmodel_df(x, dt_col, jobs_running = False, filter_jobs = True):\n",
    "    y = x.rename(columns = {'DATETIME' : dt_col}).drop(columns = ['JOBID'])\n",
    "    df = pd.concat([slurm_jobs, y])\n",
    "    df = df.sort_values(dt_col).reset_index(drop = True)\n",
    "    if jobs_running == True:\n",
    "        \n",
    "        begin_load_df = (df[~df['JOBID'].isnull()]\n",
    "                                  [['BEGIN']]\n",
    "                                  .rename(columns={'BEGIN':'TIME'})\n",
    "                        )\n",
    "        begin_load_df['process'] = 1\n",
    "        \n",
    "        end_load_df = (df[~df['JOBID'].isnull()]\n",
    "                                  [['END']]\n",
    "                                  .rename(columns={'END':'TIME'})\n",
    "                      )\n",
    "        end_load_df['process'] = -1 \n",
    "        \n",
    "        commands_load_df = (df[df['JOBID'].isnull()]\n",
    "                                  [[dt_col]]\n",
    "                                  .rename(columns={dt_col:'TIME'})\n",
    "                      )\n",
    "        commands_load_df['process'] = 0 \n",
    "        \n",
    "        load_df = begin_load_df.append(end_load_df).append(commands_load_df)\n",
    "        jobs_running_prefilter = load_df.sort_values('TIME')['process'].cumsum()\n",
    "        jobs_running = jobs_running_prefilter[~jobs_running_prefilter\n",
    "                                                  .index\n",
    "                                                  .duplicated(keep='first')]\n",
    "        df['JOBSRUNNING'+dt_col] = jobs_running\n",
    "    else:\n",
    "        df['ROLL1HR'+dt_col] = (df\n",
    "                                   .rolling('1h', on = dt_col)\n",
    "                                    ['JOBID']\n",
    "                                    .count()\n",
    "                                )\n",
    "    if filter_jobs == True:\n",
    "        df = df[df['JOBID'].isnull()]\n",
    "    else:\n",
    "        pass\n",
    "    df = df[(df[dt_col] < '2021-05-18') | (df[dt_col] >= '2021-06-01')]\n",
    "    return df"
   ]
  },
  {
   "cell_type": "markdown",
   "id": "7301262a",
   "metadata": {},
   "source": [
    "Logistic (unwraps Logit)"
   ]
  },
  {
   "cell_type": "code",
   "execution_count": 3,
   "id": "c6ba267f",
   "metadata": {
    "hideCode": false,
    "hidePrompt": false
   },
   "outputs": [],
   "source": [
    "def logistic(x, a, b):\n",
    "    return 1/(1+np.exp(-(a + (b*x))))"
   ]
  },
  {
   "cell_type": "markdown",
   "id": "57ae9e76",
   "metadata": {
    "hideCode": false,
    "hidePrompt": false
   },
   "source": [
    "# Read in ce, filter down to testing\n",
    "*testing* is the combined server logs (*ce*) filtered down to user 9204 and command type \"sbatch\"."
   ]
  },
  {
   "cell_type": "code",
   "execution_count": 4,
   "id": "be100694",
   "metadata": {
    "hideCode": false,
    "hidePrompt": false
   },
   "outputs": [],
   "source": [
    "ce = pd.read_csv('../data/ce.csv')"
   ]
  },
  {
   "cell_type": "code",
   "execution_count": 5,
   "id": "6d11ca16",
   "metadata": {
    "hideCode": false,
    "hidePrompt": false
   },
   "outputs": [],
   "source": [
    "# Set some datatypes\n",
    "ce['DATETIME'] = pd.to_datetime(ce['DATETIME'])\n",
    "ce['UNRESPONSIVE'] = ce['UNRESPONSIVE'].astype('boolean')"
   ]
  },
  {
   "cell_type": "code",
   "execution_count": 6,
   "id": "b7391339",
   "metadata": {
    "hideCode": false,
    "hidePrompt": false
   },
   "outputs": [],
   "source": [
    "testing = ce[ce['TESTING']]"
   ]
  },
  {
   "cell_type": "markdown",
   "id": "eda98a0d",
   "metadata": {
    "hideCode": false,
    "hidePrompt": false
   },
   "source": [
    "# Read in slurm_jobs\n",
    "We remove ROLL1HR because we want those values to roll over the *testing* values that we'll concatenate in."
   ]
  },
  {
   "cell_type": "code",
   "execution_count": 7,
   "id": "6ca34ea9",
   "metadata": {
    "hideCode": false,
    "hidePrompt": false
   },
   "outputs": [],
   "source": [
    "slurm_jobs = pd.read_csv('../data/slurm_jobs.csv')"
   ]
  },
  {
   "cell_type": "code",
   "execution_count": 8,
   "id": "9b11c7c1",
   "metadata": {
    "hideCode": false,
    "hidePrompt": false
   },
   "outputs": [],
   "source": [
    "# Set our datetimes and timedeltas\n",
    "datetime_cols = ['BEGIN', 'END']\n",
    "for col in datetime_cols:\n",
    "    slurm_jobs[col] = pd.to_datetime(slurm_jobs[col])\n",
    "\n",
    "timedelta_cols = ['REQTIME', 'USEDTIME']\n",
    "for col in timedelta_cols:\n",
    "    slurm_jobs[col] = pd.to_timedelta(slurm_jobs[col])"
   ]
  },
  {
   "cell_type": "code",
   "execution_count": 9,
   "id": "7ccf03ce",
   "metadata": {
    "hideCode": false,
    "hidePrompt": false
   },
   "outputs": [],
   "source": [
    "# We'll put this back in the right context later\n",
    "slurm_jobs = slurm_jobs.drop(columns = 'ROLL1HR')"
   ]
  },
  {
   "cell_type": "markdown",
   "id": "44d18a88",
   "metadata": {
    "hideCode": false,
    "hidePrompt": false
   },
   "source": [
    "# Problem 4\n",
    "\n",
    "Combine the time series information from the two datasets together to see \n",
    "\n",
    "(4A) how well correlated heavy job-completion load is with the unresponsiveness, and \n",
    "\n",
    "(4B) to see if there is some threshold of job completions per hour that generally results in unresponsiveness."
   ]
  },
  {
   "cell_type": "markdown",
   "id": "84a4e6ba",
   "metadata": {
    "hideCode": false,
    "hidePrompt": false
   },
   "source": [
    "## (4A) How well correlated is heavy job-ending load with unresponsiveness?\n",
    "\n",
    "Run the rollmodel_df function defined earlier to do the following:\n",
    "\n",
    "-- Mix in logs (*testing*) with jobs (*slurm_jobs*)\n",
    "\n",
    "   * concatenate *slurm_jobs* and testing; call it *slurm_testing_END*\n",
    "    \n",
    "-- Create rolling window to check for unresponsivenss\n",
    "\n",
    "   * sort and reset index of *slurm_testing*\n",
    "   * create rolling window for jobs completed in hour prior to each entry; call the column ROLL1HR\n",
    "   * filter slurm_testing down to TESTING == True\n",
    "   * ensure UNRESPONSIVE is boolean\n",
    "   * filter out late-May downtime"
   ]
  },
  {
   "cell_type": "code",
   "execution_count": 10,
   "id": "2cb5441a",
   "metadata": {},
   "outputs": [],
   "source": [
    "slurm_testing_END = rollmodel_df(testing, 'END')"
   ]
  },
  {
   "cell_type": "markdown",
   "id": "b6328eec",
   "metadata": {
    "hideCode": false,
    "hidePrompt": false
   },
   "source": [
    "### (i) Model with TESTING and jobs ended \n",
    "Result: Significant: ROLL1HR and UNRESPONSIVE are (slightly) negatively correlated.\n",
    "\n",
    "Odds of unresponsiveness decrease by 8% with every thousand jobs ended per hour; e.g. the odds of unresponsiveness at 2000 jobs are predicted to be about 92.7% of what they are at 1000 jobs."
   ]
  },
  {
   "cell_type": "code",
   "execution_count": 11,
   "id": "af9ed548",
   "metadata": {
    "hideCode": false,
    "hidePrompt": false
   },
   "outputs": [
    {
     "name": "stdout",
     "output_type": "stream",
     "text": [
      "                 Generalized Linear Model Regression Results                  \n",
      "==============================================================================\n",
      "Dep. Variable:           UNRESPONSIVE   No. Observations:                58782\n",
      "Model:                            GLM   Df Residuals:                    58780\n",
      "Model Family:                Binomial   Df Model:                            1\n",
      "Link Function:                  logit   Scale:                          1.0000\n",
      "Method:                          IRLS   Log-Likelihood:                -12505.\n",
      "Date:                Tue, 09 Nov 2021   Deviance:                       25011.\n",
      "Time:                        18:29:30   Pearson chi2:                 5.88e+04\n",
      "No. Iterations:                     6                                         \n",
      "Covariance Type:            nonrobust                                         \n",
      "==============================================================================\n",
      "                 coef    std err          z      P>|z|      [0.025      0.975]\n",
      "------------------------------------------------------------------------------\n",
      "const         -2.7876      0.023   -121.772      0.000      -2.833      -2.743\n",
      "ROLL1HREND -7.347e-05   1.89e-05     -3.877      0.000      -0.000   -3.63e-05\n",
      "============================================================================== \n",
      "\n",
      "\n",
      "Base AIC: 25029.605438244926\n",
      "Logistic AIC: 25014.74483007809\n"
     ]
    }
   ],
   "source": [
    "logreg_unresponsive_base = (sm.GLM(endog = slurm_testing_END['UNRESPONSIVE'].astype('int'),\n",
    "                       exog = sm.add_constant(slurm_testing_END[[]]),\n",
    "                       family = sm.families.Binomial(),\n",
    "                      )\n",
    "                  .fit()\n",
    "               )\n",
    "\n",
    "logreg_unresponsive_roll = (sm.GLM(endog = slurm_testing_END['UNRESPONSIVE'].astype('int'),\n",
    "                       exog = sm.add_constant(slurm_testing_END['ROLL1HREND']),\n",
    "                       family = sm.families.Binomial(),\n",
    "                      )\n",
    "                  .fit()\n",
    "               )\n",
    "print(logreg_unresponsive_roll.summary(), '\\n\\n')\n",
    "print('Base AIC: '+str(logreg_unresponsive_base.aic))\n",
    "print('Logistic AIC: '+str(logreg_unresponsive_roll.aic))"
   ]
  },
  {
   "cell_type": "markdown",
   "id": "70093b6c",
   "metadata": {
    "hideCode": false,
    "hidePrompt": false
   },
   "source": [
    "### Plot the model with regular axes"
   ]
  },
  {
   "cell_type": "code",
   "execution_count": 12,
   "id": "ccbd4a12",
   "metadata": {},
   "outputs": [
    {
     "data": {
      "image/png": "[encoded data removed]",
      "text/plain": [
       "<Figure size 720x432 with 1 Axes>"
      ]
     },
     "metadata": {
      "needs_background": "light"
     },
     "output_type": "display_data"
    }
   ],
   "source": [
    "fontsize = 14\n",
    "\n",
    "fig, ax = plt.subplots(figsize = (10, 6))\n",
    "sns.regplot(x = 'ROLL1HREND', \n",
    "            y = slurm_testing_END['UNRESPONSIVE'].astype('int'), \n",
    "            data = slurm_testing_END, \n",
    "            logistic = True, \n",
    "            line_kws = {\"color\": \"#FF7F0E\"}, \n",
    "            y_jitter = 0.03, \n",
    "            ax = ax\n",
    ")\n",
    "\n",
    "plt.ylabel(\"Responsive (0) or Unresponsive (1)\", fontsize = fontsize)\n",
    "plt.yticks(fontsize = fontsize - 2)\n",
    "plt.xticks(fontsize = fontsize - 2)\n",
    "plt.xlabel(\"Jobs Ended Per Hour\", fontsize = fontsize);\n",
    "plt.savefig('../images/jobs_ended_logreg.png', dpi = 600)"
   ]
  },
  {
   "cell_type": "markdown",
   "id": "e543b125",
   "metadata": {
    "hideCode": false,
    "hidePrompt": false
   },
   "source": [
    "## (ii) Build model with all commands (not just USER 9204 and COMMANDTYPE sbatch) and jobs ended\n",
    "Result: Different coefficients but same takeaway: small negative correlation."
   ]
  },
  {
   "cell_type": "code",
   "execution_count": 13,
   "id": "ed8c51b3",
   "metadata": {
    "hideCode": false,
    "hidePrompt": false
   },
   "outputs": [],
   "source": [
    "slurm_allcomf = rollmodel_df(ce, 'END')"
   ]
  },
  {
   "cell_type": "code",
   "execution_count": 14,
   "id": "601c57c6",
   "metadata": {
    "hideCode": false,
    "hidePrompt": false
   },
   "outputs": [
    {
     "name": "stdout",
     "output_type": "stream",
     "text": [
      "                 Generalized Linear Model Regression Results                  \n",
      "==============================================================================\n",
      "Dep. Variable:           UNRESPONSIVE   No. Observations:              9406878\n",
      "Model:                            GLM   Df Residuals:                  9406876\n",
      "Model Family:                Binomial   Df Model:                            1\n",
      "Link Function:                  logit   Scale:                          1.0000\n",
      "Method:                          IRLS   Log-Likelihood:            -3.2030e+06\n",
      "Date:                Tue, 09 Nov 2021   Deviance:                   6.4060e+06\n",
      "Time:                        18:33:43   Pearson chi2:                 9.48e+06\n",
      "No. Iterations:                     6                                         \n",
      "Covariance Type:            nonrobust                                         \n",
      "==============================================================================\n",
      "                 coef    std err          z      P>|z|      [0.025      0.975]\n",
      "------------------------------------------------------------------------------\n",
      "const         -1.9778      0.001  -1416.503      0.000      -1.981      -1.975\n",
      "ROLL1HREND    -0.0002   1.31e-06   -136.341      0.000      -0.000      -0.000\n",
      "============================================================================== \n",
      "\n",
      "\n",
      "Base AIC: 6429756.762790646\n",
      "Logistic AIC: 6405999.756862564\n"
     ]
    }
   ],
   "source": [
    "logreg_unresponsive_base = (sm.GLM(endog = slurm_allcomf['UNRESPONSIVE'].astype('int'),\n",
    "                       exog = sm.add_constant(slurm_allcomf[[]]),\n",
    "                       family = sm.families.Binomial(),\n",
    "                      )\n",
    "                  .fit()\n",
    "               )\n",
    "\n",
    "logreg_unresponsive_roll = (sm.GLM(endog = slurm_allcomf['UNRESPONSIVE'].astype('int'),\n",
    "                       exog = sm.add_constant(slurm_allcomf['ROLL1HREND']),\n",
    "                       family = sm.families.Binomial(),\n",
    "                      )\n",
    "                  .fit()\n",
    "               )\n",
    "print(logreg_unresponsive_roll.summary(), '\\n\\n')\n",
    "print('Base AIC: '+str(logreg_unresponsive_base.aic))\n",
    "print('Logistic AIC: '+str(logreg_unresponsive_roll.aic))"
   ]
  },
  {
   "cell_type": "markdown",
   "id": "32a8514d",
   "metadata": {},
   "source": [
    "## (iii) Model with TESTING and jobs begun\n",
    "Result: Different coefficients but same takeaway: small negative correlation."
   ]
  },
  {
   "cell_type": "code",
   "execution_count": 15,
   "id": "50e01c7b",
   "metadata": {},
   "outputs": [],
   "source": [
    "slurm_testing_BEGIN = rollmodel_df(testing, 'BEGIN')"
   ]
  },
  {
   "cell_type": "code",
   "execution_count": 16,
   "id": "eea637ee",
   "metadata": {},
   "outputs": [
    {
     "name": "stdout",
     "output_type": "stream",
     "text": [
      "                 Generalized Linear Model Regression Results                  \n",
      "==============================================================================\n",
      "Dep. Variable:           UNRESPONSIVE   No. Observations:                58782\n",
      "Model:                            GLM   Df Residuals:                    58780\n",
      "Model Family:                Binomial   Df Model:                            1\n",
      "Link Function:                  logit   Scale:                          1.0000\n",
      "Method:                          IRLS   Log-Likelihood:                -12511.\n",
      "Date:                Tue, 09 Nov 2021   Deviance:                       25023.\n",
      "Time:                        18:34:02   Pearson chi2:                 5.88e+04\n",
      "No. Iterations:                     6                                         \n",
      "Covariance Type:            nonrobust                                         \n",
      "================================================================================\n",
      "                   coef    std err          z      P>|z|      [0.025      0.975]\n",
      "--------------------------------------------------------------------------------\n",
      "const           -2.8161      0.022   -126.153      0.000      -2.860      -2.772\n",
      "ROLL1HRBEGIN -3.595e-05    1.7e-05     -2.120      0.034   -6.92e-05   -2.71e-06\n",
      "================================================================================ \n",
      "\n",
      "\n",
      "Base AIC: 25029.605438244926\n",
      "Logistic AIC: 25026.850157483612\n"
     ]
    }
   ],
   "source": [
    "logreg_unresponsive_base = (sm.GLM(endog = slurm_testing_BEGIN['UNRESPONSIVE'].astype('int'),\n",
    "                       exog = sm.add_constant(slurm_testing_BEGIN[[]]),\n",
    "                       family = sm.families.Binomial(),\n",
    "                      )\n",
    "                  .fit()\n",
    "               )\n",
    "\n",
    "logreg_unresponsive_roll = (sm.GLM(endog = slurm_testing_BEGIN['UNRESPONSIVE'].astype('int'),\n",
    "                       exog = sm.add_constant(slurm_testing_BEGIN['ROLL1HRBEGIN']),\n",
    "                       family = sm.families.Binomial(),\n",
    "                      )\n",
    "                  .fit()\n",
    "               )\n",
    "print(logreg_unresponsive_roll.summary(), '\\n\\n')\n",
    "print('Base AIC: '+str(logreg_unresponsive_base.aic))\n",
    "print('Logistic AIC: '+str(logreg_unresponsive_roll.aic))"
   ]
  },
  {
   "cell_type": "markdown",
   "id": "7daada48",
   "metadata": {},
   "source": [
    "## (iv) Model with TESTING and jobs simultaneously running\n",
    "Result: Significant: Jobs simultaneously running is positively correlated with unresponsiveness."
   ]
  },
  {
   "cell_type": "code",
   "execution_count": 17,
   "id": "9186ce0d",
   "metadata": {},
   "outputs": [],
   "source": [
    "slurm_testing_JOBSRUNNING = rollmodel_df(testing, 'BEGIN', True)"
   ]
  },
  {
   "cell_type": "code",
   "execution_count": 18,
   "id": "a3eac4c1",
   "metadata": {},
   "outputs": [
    {
     "name": "stdout",
     "output_type": "stream",
     "text": [
      "                 Generalized Linear Model Regression Results                  \n",
      "==============================================================================\n",
      "Dep. Variable:           UNRESPONSIVE   No. Observations:                58782\n",
      "Model:                            GLM   Df Residuals:                    58780\n",
      "Model Family:                Binomial   Df Model:                            1\n",
      "Link Function:                  logit   Scale:                          1.0000\n",
      "Method:                          IRLS   Log-Likelihood:                -11991.\n",
      "Date:                Tue, 09 Nov 2021   Deviance:                       23982.\n",
      "Time:                        18:34:19   Pearson chi2:                 5.74e+04\n",
      "No. Iterations:                     7                                         \n",
      "Covariance Type:            nonrobust                                         \n",
      "====================================================================================\n",
      "                       coef    std err          z      P>|z|      [0.025      0.975]\n",
      "------------------------------------------------------------------------------------\n",
      "const               -5.1497      0.081    -63.203      0.000      -5.309      -4.990\n",
      "JOBSRUNNINGBEGIN     0.0007   2.11e-05     30.923      0.000       0.001       0.001\n",
      "==================================================================================== \n",
      "\n",
      "\n",
      "Base AIC: 25029.605438244926\n",
      "Logistic AIC: 23985.596801141226\n"
     ]
    }
   ],
   "source": [
    "logreg_unresponsive_base = (sm.GLM(endog = slurm_testing_JOBSRUNNING['UNRESPONSIVE'].astype('int'),\n",
    "                       exog = sm.add_constant(slurm_testing_JOBSRUNNING[[]]),\n",
    "                       family = sm.families.Binomial(),\n",
    "                      )\n",
    "                  .fit()\n",
    "               )\n",
    "\n",
    "logreg_unresponsive_roll = (sm.GLM(endog = slurm_testing_JOBSRUNNING['UNRESPONSIVE'].astype('int'),\n",
    "                       exog = sm.add_constant(slurm_testing_JOBSRUNNING['JOBSRUNNINGBEGIN']),\n",
    "                       family = sm.families.Binomial(),\n",
    "                      )\n",
    "                  .fit()\n",
    "               )\n",
    "print(logreg_unresponsive_roll.summary(), '\\n\\n')\n",
    "print('Base AIC: '+str(logreg_unresponsive_base.aic))\n",
    "print('Logistic AIC: '+str(logreg_unresponsive_roll.aic))"
   ]
  },
  {
   "cell_type": "markdown",
   "id": "b547991b",
   "metadata": {},
   "source": [
    "### Plot the model"
   ]
  },
  {
   "cell_type": "code",
   "execution_count": 19,
   "id": "611445e2",
   "metadata": {},
   "outputs": [
    {
     "data": {
      "image/png": "[encoded data removed]",
      "text/plain": [
       "<Figure size 720x432 with 1 Axes>"
      ]
     },
     "metadata": {
      "needs_background": "light"
     },
     "output_type": "display_data"
    }
   ],
   "source": [
    "fontsize = 14\n",
    "\n",
    "fig, ax = plt.subplots(figsize = (10, 6))\n",
    "sns.regplot(x = 'JOBSRUNNINGBEGIN', \n",
    "            y = slurm_testing_JOBSRUNNING['UNRESPONSIVE'].astype('int'), \n",
    "            data = slurm_testing_JOBSRUNNING, \n",
    "            logistic = True, \n",
    "            line_kws = {\"color\": \"#FF7F0E\"}, \n",
    "            y_jitter = 0.03, \n",
    "            ax = ax\n",
    ")\n",
    "ax.axvline(x = 4300, color = 'gray', linestyle = ':', label = 'Unresponsiveness Jumps')\n",
    "plt.legend()\n",
    "plt.ylabel(\"Responsive (0) or Unresponsive (1)\", fontsize = fontsize)\n",
    "plt.yticks(fontsize = fontsize - 2)\n",
    "plt.xticks(fontsize = fontsize - 2)\n",
    "plt.xlabel(\"Jobs Running\", fontsize = fontsize);\n",
    "plt.savefig('../images/jobs_running_logreg.png', dpi = 600)"
   ]
  },
  {
   "cell_type": "markdown",
   "id": "0bf3f520",
   "metadata": {},
   "source": [
    "### Check the model's calibration\n",
    "(pretty good)"
   ]
  },
  {
   "cell_type": "code",
   "execution_count": 20,
   "id": "af7ea234",
   "metadata": {},
   "outputs": [
    {
     "data": {
      "image/png": "[encoded data removed]",
      "text/plain": [
       "<Figure size 720x432 with 1 Axes>"
      ]
     },
     "metadata": {
      "needs_background": "light"
     },
     "output_type": "display_data"
    }
   ],
   "source": [
    "prob_true, prob_pred = sklearn.calibration.calibration_curve(\n",
    "                                slurm_testing_JOBSRUNNING['UNRESPONSIVE'].astype('int'), \n",
    "                                logreg_unresponsive_roll.fittedvalues,\n",
    "                                strategy = 'quantile',\n",
    "                                n_bins = 100\n",
    "                                     )\n",
    "fig, ax = plt.subplots(figsize = (10,6))\n",
    "sns.lineplot(x = prob_pred, y = prob_true, ax = ax, marker = 'o')\n",
    "ax.set(xlabel = 'Predicted Probability of Unresponsiveness',\n",
    "       ylabel = 'True Probability of Unresponsiveness')\n",
    "sns.lineplot(x = prob_true, y = prob_true, color = 'gray');\n",
    "plt.savefig('../images/jobs_running_calibration.png', dpi = 600)"
   ]
  },
  {
   "cell_type": "markdown",
   "id": "f5ed28a4",
   "metadata": {},
   "source": [
    "### Look for any thresholds where unresponsiveness jumps\n",
    "The biggest jump is around 4,300 simultaneous jobs (up to 11.7%)"
   ]
  },
  {
   "cell_type": "code",
   "execution_count": 82,
   "id": "c7219218",
   "metadata": {},
   "outputs": [
    {
     "data": {
      "image/png": "[encoded data removed]",
      "text/plain": [
       "<Figure size 720x432 with 1 Axes>"
      ]
     },
     "metadata": {
      "needs_background": "light"
     },
     "output_type": "display_data"
    }
   ],
   "source": [
    "slurm_testing_JOBSRUNNING['JOBSRUNNINGBEGINGRP'] = pd.qcut(slurm_testing_JOBSRUNNING['JOBSRUNNINGBEGIN'], \n",
    "                                                           q = 25)\n",
    "fig, ax = plt.subplots(figsize = (10,6))\n",
    "\n",
    "(slurm_testing_JOBSRUNNING\n",
    "         .groupby(['JOBSRUNNINGBEGINGRP', 'UNRESPONSIVE'])\n",
    "         ['JOBSRUNNINGBEGINGRP']\n",
    "         .count()/slurm_testing_JOBSRUNNING\n",
    "                     .groupby('JOBSRUNNINGBEGINGRP')\n",
    "                     ['JOBSRUNNINGBEGINGRP']\n",
    "                     .count()\n",
    ").unstack().plot(kind = 'barh', \n",
    "       stacked = True, \n",
    "       ax = ax)\n",
    "plt.savefig('../images/jobs_running_quantile_probs.png', dpi = 600)"
   ]
  },
  {
   "cell_type": "markdown",
   "id": "8d78390e",
   "metadata": {},
   "source": [
    "### Confirming the actual percentages of the plot above"
   ]
  },
  {
   "cell_type": "code",
   "execution_count": 22,
   "id": "48ba6b27",
   "metadata": {},
   "outputs": [
    {
     "data": {
      "text/plain": [
       "JOBSRUNNINGBEGINGRP  UNRESPONSIVE\n",
       "(3371.0, 3454.0]     False           0.945809\n",
       "                     True            0.054191\n",
       "(3454.0, 3547.0]     False           0.952502\n",
       "                     True            0.047498\n",
       "(3547.0, 3642.0]     False           0.942833\n",
       "                     True            0.057167\n",
       "(3642.0, 3746.08]    False           0.931993\n",
       "                     True            0.068007\n",
       "(3746.08, 3845.0]    False           0.929655\n",
       "                     True            0.070345\n",
       "(3845.0, 3947.0]     False           0.928205\n",
       "                     True            0.071795\n",
       "(3947.0, 4073.0]     False           0.898600\n",
       "                     True            0.101400\n",
       "(4073.0, 4215.0]     False           0.938136\n",
       "                     True            0.061864\n",
       "(4215.0, 4364.0]     False           0.914015\n",
       "                     True            0.085985\n",
       "(4364.0, 4579.0]     False           0.876223\n",
       "                     True            0.123777\n",
       "(4579.0, 4829.0]     False           0.883178\n",
       "                     True            0.116822\n",
       "(4829.0, 6324.0]     False           0.884157\n",
       "                     True            0.115843\n",
       "Name: JOBSRUNNINGBEGINGRP, dtype: float64"
      ]
     },
     "execution_count": 22,
     "metadata": {},
     "output_type": "execute_result"
    }
   ],
   "source": [
    "(slurm_testing_JOBSRUNNING\n",
    "         .groupby(['JOBSRUNNINGBEGINGRP', 'UNRESPONSIVE'])\n",
    "         ['JOBSRUNNINGBEGINGRP']\n",
    "         .count()/slurm_testing_JOBSRUNNING\n",
    "                     .groupby('JOBSRUNNINGBEGINGRP')\n",
    "                     ['JOBSRUNNINGBEGINGRP']\n",
    "                     .count()\n",
    ").tail(24)"
   ]
  },
  {
   "cell_type": "markdown",
   "id": "3b0f5aa7",
   "metadata": {},
   "source": [
    "### Identifying the maximum predicted probability of unresponsiveness\n",
    "About 26.5%"
   ]
  },
  {
   "cell_type": "code",
   "execution_count": 23,
   "id": "e9da87ee",
   "metadata": {},
   "outputs": [
    {
     "data": {
      "text/plain": [
       "0.2645790438037419"
      ]
     },
     "execution_count": 23,
     "metadata": {},
     "output_type": "execute_result"
    }
   ],
   "source": [
    "logreg_unresponsive_roll.fittedvalues.max()"
   ]
  },
  {
   "cell_type": "markdown",
   "id": "29817ee3",
   "metadata": {},
   "source": [
    "## (v) Model with all commands and jobs simultaneously running\n",
    "Result: Still significant: Jobs simultaneously running is positively correlated with unresponsiveness, though with weaker effect"
   ]
  },
  {
   "cell_type": "code",
   "execution_count": 24,
   "id": "fa599ffd",
   "metadata": {},
   "outputs": [],
   "source": [
    "slurm_allcom_JOBSRUNNING = rollmodel_df(ce, 'BEGIN', True)"
   ]
  },
  {
   "cell_type": "code",
   "execution_count": 25,
   "id": "a84b7e8d",
   "metadata": {},
   "outputs": [
    {
     "name": "stdout",
     "output_type": "stream",
     "text": [
      "                 Generalized Linear Model Regression Results                  \n",
      "==============================================================================\n",
      "Dep. Variable:           UNRESPONSIVE   No. Observations:              9406878\n",
      "Model:                            GLM   Df Residuals:                  9406876\n",
      "Model Family:                Binomial   Df Model:                            1\n",
      "Link Function:                  logit   Scale:                          1.0000\n",
      "Method:                          IRLS   Log-Likelihood:            -3.1530e+06\n",
      "Date:                Tue, 09 Nov 2021   Deviance:                   6.3061e+06\n",
      "Time:                        18:38:50   Pearson chi2:                 9.25e+06\n",
      "No. Iterations:                     7                                         \n",
      "Covariance Type:            nonrobust                                         \n",
      "====================================================================================\n",
      "                       coef    std err          z      P>|z|      [0.025      0.975]\n",
      "------------------------------------------------------------------------------------\n",
      "const               -3.6070      0.005   -783.753      0.000      -3.616      -3.598\n",
      "JOBSRUNNINGBEGIN     0.0004   1.19e-06    345.175      0.000       0.000       0.000\n",
      "==================================================================================== \n",
      "\n",
      "\n",
      "Base AIC: 6429756.762790646\n",
      "Logistic AIC: 6306059.146362592\n"
     ]
    }
   ],
   "source": [
    "logreg_unresponsive_base = (sm.GLM(endog = slurm_allcom_JOBSRUNNING['UNRESPONSIVE'].astype('int'),\n",
    "                       exog = sm.add_constant(slurm_allcom_JOBSRUNNING[[]]),\n",
    "                       family = sm.families.Binomial(),\n",
    "                      )\n",
    "                  .fit()\n",
    "               )\n",
    "\n",
    "logreg_unresponsive_roll = (sm.GLM(endog = slurm_allcom_JOBSRUNNING['UNRESPONSIVE'].astype('int'),\n",
    "                       exog = sm.add_constant(slurm_allcom_JOBSRUNNING['JOBSRUNNINGBEGIN']),\n",
    "                       family = sm.families.Binomial(),\n",
    "                      )\n",
    "                  .fit()\n",
    "               )\n",
    "print(logreg_unresponsive_roll.summary(), '\\n\\n')\n",
    "print('Base AIC: '+str(logreg_unresponsive_base.aic))\n",
    "print('Logistic AIC: '+str(logreg_unresponsive_roll.aic))"
   ]
  },
  {
   "cell_type": "markdown",
   "id": "dd64973e",
   "metadata": {},
   "source": [
    "## (vi) Model with all commands and jobs simultaneously running, but reducing to unresponsive events to single entries.\n",
    "Result: Significant: Jobs simultaneously running is positively correlated with unresponsiveness."
   ]
  },
  {
   "cell_type": "code",
   "execution_count": 26,
   "id": "66e8fb55",
   "metadata": {},
   "outputs": [
    {
     "name": "stdout",
     "output_type": "stream",
     "text": [
      "<class 'pandas.core.frame.DataFrame'>\n",
      "RangeIndex: 9547413 entries, 0 to 9547412\n",
      "Data columns (total 12 columns):\n",
      " #   Column             Dtype         \n",
      "---  ------             -----         \n",
      " 0   DATETIME           datetime64[ns]\n",
      " 1   USER               int64         \n",
      " 2   RETRY              int64         \n",
      " 3   TIMELAPSE          float64       \n",
      " 4   RETURNCODE         int64         \n",
      " 5   COMMAND            object        \n",
      " 6   JOBID              float64       \n",
      " 7   COMMANDTYPE        object        \n",
      " 8   TESTING            bool          \n",
      " 9   UNRESPONSIVE       boolean       \n",
      " 10  SERVER             object        \n",
      " 11  UNRESPONSIVEGROUP  float64       \n",
      "dtypes: bool(1), boolean(1), datetime64[ns](1), float64(3), int64(3), object(3)\n",
      "memory usage: 755.7+ MB\n"
     ]
    }
   ],
   "source": [
    "ce.info()"
   ]
  },
  {
   "cell_type": "code",
   "execution_count": 27,
   "id": "2bfcf9a8",
   "metadata": {},
   "outputs": [
    {
     "data": {
      "text/html": [
       "<div>\n",
       "<style scoped>\n",
       "    .dataframe tbody tr th:only-of-type {\n",
       "        vertical-align: middle;\n",
       "    }\n",
       "\n",
       "    .dataframe tbody tr th {\n",
       "        vertical-align: top;\n",
       "    }\n",
       "\n",
       "    .dataframe thead th {\n",
       "        text-align: right;\n",
       "    }\n",
       "</style>\n",
       "<table border=\"1\" class=\"dataframe\">\n",
       "  <thead>\n",
       "    <tr style=\"text-align: right;\">\n",
       "      <th></th>\n",
       "      <th>UNRESPONSIVEGROUP</th>\n",
       "      <th>INTERVALLENGTH</th>\n",
       "    </tr>\n",
       "  </thead>\n",
       "  <tbody>\n",
       "    <tr>\n",
       "      <th>0</th>\n",
       "      <td>4396.0</td>\n",
       "      <td>0 days 00:00:03.591429</td>\n",
       "    </tr>\n",
       "    <tr>\n",
       "      <th>1</th>\n",
       "      <td>4408.0</td>\n",
       "      <td>0 days 00:00:00</td>\n",
       "    </tr>\n",
       "    <tr>\n",
       "      <th>2</th>\n",
       "      <td>17173.0</td>\n",
       "      <td>0 days 00:00:00</td>\n",
       "    </tr>\n",
       "    <tr>\n",
       "      <th>3</th>\n",
       "      <td>17299.0</td>\n",
       "      <td>0 days 00:00:00.383366</td>\n",
       "    </tr>\n",
       "    <tr>\n",
       "      <th>4</th>\n",
       "      <td>17542.0</td>\n",
       "      <td>0 days 00:00:00</td>\n",
       "    </tr>\n",
       "    <tr>\n",
       "      <th>5</th>\n",
       "      <td>26577.0</td>\n",
       "      <td>0 days 00:00:03.301720</td>\n",
       "    </tr>\n",
       "    <tr>\n",
       "      <th>6</th>\n",
       "      <td>26584.0</td>\n",
       "      <td>0 days 00:00:23.284453</td>\n",
       "    </tr>\n",
       "    <tr>\n",
       "      <th>7</th>\n",
       "      <td>26646.0</td>\n",
       "      <td>0 days 00:00:20.041339</td>\n",
       "    </tr>\n",
       "    <tr>\n",
       "      <th>8</th>\n",
       "      <td>26859.0</td>\n",
       "      <td>0 days 00:00:00</td>\n",
       "    </tr>\n",
       "    <tr>\n",
       "      <th>9</th>\n",
       "      <td>26871.0</td>\n",
       "      <td>0 days 00:00:06.884702</td>\n",
       "    </tr>\n",
       "    <tr>\n",
       "      <th>10</th>\n",
       "      <td>26873.0</td>\n",
       "      <td>0 days 00:00:00</td>\n",
       "    </tr>\n",
       "    <tr>\n",
       "      <th>11</th>\n",
       "      <td>26886.0</td>\n",
       "      <td>0 days 00:00:00.553221</td>\n",
       "    </tr>\n",
       "    <tr>\n",
       "      <th>12</th>\n",
       "      <td>26893.0</td>\n",
       "      <td>0 days 00:00:01.836218</td>\n",
       "    </tr>\n",
       "    <tr>\n",
       "      <th>13</th>\n",
       "      <td>27210.0</td>\n",
       "      <td>0 days 00:00:04.009591</td>\n",
       "    </tr>\n",
       "    <tr>\n",
       "      <th>14</th>\n",
       "      <td>27217.0</td>\n",
       "      <td>0 days 00:00:00.107351</td>\n",
       "    </tr>\n",
       "    <tr>\n",
       "      <th>15</th>\n",
       "      <td>27220.0</td>\n",
       "      <td>0 days 00:00:16.164439</td>\n",
       "    </tr>\n",
       "    <tr>\n",
       "      <th>16</th>\n",
       "      <td>27250.0</td>\n",
       "      <td>0 days 00:00:11.928864</td>\n",
       "    </tr>\n",
       "    <tr>\n",
       "      <th>17</th>\n",
       "      <td>27630.0</td>\n",
       "      <td>0 days 00:00:07.183916</td>\n",
       "    </tr>\n",
       "    <tr>\n",
       "      <th>18</th>\n",
       "      <td>27631.0</td>\n",
       "      <td>0 days 00:00:07.888993</td>\n",
       "    </tr>\n",
       "    <tr>\n",
       "      <th>19</th>\n",
       "      <td>27659.0</td>\n",
       "      <td>0 days 00:00:00</td>\n",
       "    </tr>\n",
       "    <tr>\n",
       "      <th>20</th>\n",
       "      <td>27660.0</td>\n",
       "      <td>0 days 00:00:00.870005</td>\n",
       "    </tr>\n",
       "    <tr>\n",
       "      <th>21</th>\n",
       "      <td>27777.0</td>\n",
       "      <td>0 days 00:00:09.943384</td>\n",
       "    </tr>\n",
       "    <tr>\n",
       "      <th>22</th>\n",
       "      <td>27833.0</td>\n",
       "      <td>0 days 00:00:00.034543</td>\n",
       "    </tr>\n",
       "    <tr>\n",
       "      <th>23</th>\n",
       "      <td>27860.0</td>\n",
       "      <td>0 days 00:00:43.039043</td>\n",
       "    </tr>\n",
       "    <tr>\n",
       "      <th>24</th>\n",
       "      <td>28106.0</td>\n",
       "      <td>0 days 00:00:47.626117</td>\n",
       "    </tr>\n",
       "  </tbody>\n",
       "</table>\n",
       "</div>"
      ],
      "text/plain": [
       "    UNRESPONSIVEGROUP         INTERVALLENGTH\n",
       "0              4396.0 0 days 00:00:03.591429\n",
       "1              4408.0        0 days 00:00:00\n",
       "2             17173.0        0 days 00:00:00\n",
       "3             17299.0 0 days 00:00:00.383366\n",
       "4             17542.0        0 days 00:00:00\n",
       "5             26577.0 0 days 00:00:03.301720\n",
       "6             26584.0 0 days 00:00:23.284453\n",
       "7             26646.0 0 days 00:00:20.041339\n",
       "8             26859.0        0 days 00:00:00\n",
       "9             26871.0 0 days 00:00:06.884702\n",
       "10            26873.0        0 days 00:00:00\n",
       "11            26886.0 0 days 00:00:00.553221\n",
       "12            26893.0 0 days 00:00:01.836218\n",
       "13            27210.0 0 days 00:00:04.009591\n",
       "14            27217.0 0 days 00:00:00.107351\n",
       "15            27220.0 0 days 00:00:16.164439\n",
       "16            27250.0 0 days 00:00:11.928864\n",
       "17            27630.0 0 days 00:00:07.183916\n",
       "18            27631.0 0 days 00:00:07.888993\n",
       "19            27659.0        0 days 00:00:00\n",
       "20            27660.0 0 days 00:00:00.870005\n",
       "21            27777.0 0 days 00:00:09.943384\n",
       "22            27833.0 0 days 00:00:00.034543\n",
       "23            27860.0 0 days 00:00:43.039043\n",
       "24            28106.0 0 days 00:00:47.626117"
      ]
     },
     "execution_count": 27,
     "metadata": {},
     "output_type": "execute_result"
    }
   ],
   "source": [
    "unresponsive_intervals = (ce.groupby('UNRESPONSIVEGROUP', as_index = False)\n",
    "                          ['DATETIME']\n",
    "                          .apply(lambda x: x.max() - x.min())\n",
    "                          .rename(columns = {'DATETIME' : 'INTERVALLENGTH'})\n",
    "                       )\n",
    "unresponsive_intervals.head(25)"
   ]
  },
  {
   "cell_type": "code",
   "execution_count": 28,
   "id": "87c6ed49",
   "metadata": {},
   "outputs": [],
   "source": [
    "ce2 = ce.merge(unresponsive_intervals, how = 'left')"
   ]
  },
  {
   "cell_type": "code",
   "execution_count": 29,
   "id": "c36cef47",
   "metadata": {},
   "outputs": [],
   "source": [
    "ce2filt = ce2[(~ce2.duplicated('UNRESPONSIVEGROUP'))|(ce2['UNRESPONSIVEGROUP'].isnull())]"
   ]
  },
  {
   "cell_type": "code",
   "execution_count": 30,
   "id": "74ea736c",
   "metadata": {},
   "outputs": [],
   "source": [
    "slurm_urevents_JOBSRUNNING = rollmodel_df(ce2filt, 'BEGIN', True)"
   ]
  },
  {
   "cell_type": "code",
   "execution_count": 31,
   "id": "0381496d",
   "metadata": {},
   "outputs": [
    {
     "name": "stdout",
     "output_type": "stream",
     "text": [
      "                 Generalized Linear Model Regression Results                  \n",
      "==============================================================================\n",
      "Dep. Variable:           UNRESPONSIVE   No. Observations:              8481105\n",
      "Model:                            GLM   Df Residuals:                  8481103\n",
      "Model Family:                Binomial   Df Model:                            1\n",
      "Link Function:                  logit   Scale:                          1.0000\n",
      "Method:                          IRLS   Log-Likelihood:            -4.8287e+05\n",
      "Date:                Tue, 09 Nov 2021   Deviance:                   9.6573e+05\n",
      "Time:                        18:41:08   Pearson chi2:                 8.39e+06\n",
      "No. Iterations:                     8                                         \n",
      "Covariance Type:            nonrobust                                         \n",
      "====================================================================================\n",
      "                       coef    std err          z      P>|z|      [0.025      0.975]\n",
      "------------------------------------------------------------------------------------\n",
      "const               -5.9431      0.015   -408.879      0.000      -5.972      -5.915\n",
      "JOBSRUNNINGBEGIN     0.0004   3.75e-06    102.003      0.000       0.000       0.000\n",
      "==================================================================================== \n",
      "\n",
      "\n",
      "Base AIC: 976345.3810837925\n",
      "Logistic AIC: 965738.3678971565\n"
     ]
    }
   ],
   "source": [
    "logreg_unresponsive_base = (sm.GLM(endog = slurm_urevents_JOBSRUNNING['UNRESPONSIVE'].astype('int'),\n",
    "                       exog = sm.add_constant(slurm_urevents_JOBSRUNNING[[]]),\n",
    "                       family = sm.families.Binomial(),\n",
    "                      )\n",
    "                  .fit()\n",
    "               )\n",
    "\n",
    "logreg_unresponsive_roll = (sm.GLM(endog = slurm_urevents_JOBSRUNNING['UNRESPONSIVE'].astype('int'),\n",
    "                       exog = sm.add_constant(slurm_urevents_JOBSRUNNING['JOBSRUNNINGBEGIN']),\n",
    "                       family = sm.families.Binomial(),\n",
    "                      )\n",
    "                  .fit()\n",
    "               )\n",
    "print(logreg_unresponsive_roll.summary(), '\\n\\n')\n",
    "print('Base AIC: '+str(logreg_unresponsive_base.aic))\n",
    "print('Logistic AIC: '+str(logreg_unresponsive_roll.aic))"
   ]
  },
  {
   "cell_type": "markdown",
   "id": "e00d8260",
   "metadata": {},
   "source": [
    "# Problem Bonus: Make a time-to-failure linear regression model"
   ]
  },
  {
   "cell_type": "code",
   "execution_count": 55,
   "id": "9984cdfa",
   "metadata": {},
   "outputs": [],
   "source": [
    "counter = 0\n",
    "previous_unresponsive_check = False\n",
    "def failure_predictor_groups(x):\n",
    "    \"\"\"Use a counter to group values leading up to a failure.\"\"\"\n",
    "    global counter\n",
    "    global previous_unresponsive_check\n",
    "    if pd.isna(x):\n",
    "        x = False\n",
    "    else:\n",
    "        pass\n",
    "    if (x == False) & (previous_unresponsive_check == True):\n",
    "        counter += 1\n",
    "    else:\n",
    "        pass\n",
    "    entry = counter\n",
    "    previous_unresponsive_check = x\n",
    "    return entry"
   ]
  },
  {
   "cell_type": "code",
   "execution_count": 37,
   "id": "9e6b54f9",
   "metadata": {},
   "outputs": [],
   "source": [
    "slurm_JOBSRUNNING = rollmodel_df(x = testing, \n",
    "                                         dt_col = 'BEGIN', \n",
    "                                         jobs_running = True, \n",
    "                                         filter_jobs = False)"
   ]
  },
  {
   "cell_type": "code",
   "execution_count": 57,
   "id": "363e4abb",
   "metadata": {},
   "outputs": [],
   "source": [
    "slurm_JOBSRUNNING['FAILUREGRP'] = slurm_JOBSRUNNING['UNRESPONSIVE'].apply(lambda x: failure_predictor_groups(x))"
   ]
  },
  {
   "cell_type": "code",
   "execution_count": 60,
   "id": "e0993b64",
   "metadata": {},
   "outputs": [],
   "source": [
    "slurm_JOBSRUNNING['TIMETOFAILURE'] = slurm_JOBSRUNNING.groupby('FAILUREGRP')['BEGIN'].transform(lambda x: x.max() - x)"
   ]
  },
  {
   "cell_type": "code",
   "execution_count": 61,
   "id": "039eabbd",
   "metadata": {},
   "outputs": [
    {
     "data": {
      "text/html": [
       "<div>\n",
       "<style scoped>\n",
       "    .dataframe tbody tr th:only-of-type {\n",
       "        vertical-align: middle;\n",
       "    }\n",
       "\n",
       "    .dataframe tbody tr th {\n",
       "        vertical-align: top;\n",
       "    }\n",
       "\n",
       "    .dataframe thead th {\n",
       "        text-align: right;\n",
       "    }\n",
       "</style>\n",
       "<table border=\"1\" class=\"dataframe\">\n",
       "  <thead>\n",
       "    <tr style=\"text-align: right;\">\n",
       "      <th></th>\n",
       "      <th>JOBID</th>\n",
       "      <th>STATE</th>\n",
       "      <th>BEGIN</th>\n",
       "      <th>END</th>\n",
       "      <th>REQMEM</th>\n",
       "      <th>USEDMEM</th>\n",
       "      <th>REQTIME</th>\n",
       "      <th>USEDTIME</th>\n",
       "      <th>NODES</th>\n",
       "      <th>CPUS</th>\n",
       "      <th>...</th>\n",
       "      <th>RETURNCODE</th>\n",
       "      <th>COMMAND</th>\n",
       "      <th>COMMANDTYPE</th>\n",
       "      <th>TESTING</th>\n",
       "      <th>UNRESPONSIVE</th>\n",
       "      <th>SERVER</th>\n",
       "      <th>UNRESPONSIVEGROUP</th>\n",
       "      <th>JOBSRUNNINGBEGIN</th>\n",
       "      <th>FAILUREGRP</th>\n",
       "      <th>TIMETOFAILURE</th>\n",
       "    </tr>\n",
       "  </thead>\n",
       "  <tbody>\n",
       "    <tr>\n",
       "      <th>413802</th>\n",
       "      <td>NaN</td>\n",
       "      <td>NaN</td>\n",
       "      <td>2020-10-18 06:16:25.392946</td>\n",
       "      <td>NaT</td>\n",
       "      <td>NaN</td>\n",
       "      <td>NaN</td>\n",
       "      <td>NaT</td>\n",
       "      <td>NaT</td>\n",
       "      <td>NaN</td>\n",
       "      <td>NaN</td>\n",
       "      <td>...</td>\n",
       "      <td>1.0</td>\n",
       "      <td>command ['/usr/bin/sbatch', '/tmp/condor_g_scr...</td>\n",
       "      <td>sbatch</td>\n",
       "      <td>True</td>\n",
       "      <td>True</td>\n",
       "      <td>ce6</td>\n",
       "      <td>85931.0</td>\n",
       "      <td>3087</td>\n",
       "      <td>2372</td>\n",
       "      <td>0 days 00:00:00</td>\n",
       "    </tr>\n",
       "    <tr>\n",
       "      <th>413867</th>\n",
       "      <td>NaN</td>\n",
       "      <td>NaN</td>\n",
       "      <td>2020-10-18 06:38:44.172473</td>\n",
       "      <td>NaT</td>\n",
       "      <td>NaN</td>\n",
       "      <td>NaN</td>\n",
       "      <td>NaT</td>\n",
       "      <td>NaT</td>\n",
       "      <td>NaN</td>\n",
       "      <td>NaN</td>\n",
       "      <td>...</td>\n",
       "      <td>1.0</td>\n",
       "      <td>command ['/usr/bin/sbatch', '/tmp/condor_g_scr...</td>\n",
       "      <td>sbatch</td>\n",
       "      <td>True</td>\n",
       "      <td>True</td>\n",
       "      <td>ce6</td>\n",
       "      <td>86766.0</td>\n",
       "      <td>3066</td>\n",
       "      <td>2373</td>\n",
       "      <td>0 days 00:00:00</td>\n",
       "    </tr>\n",
       "    <tr>\n",
       "      <th>413943</th>\n",
       "      <td>NaN</td>\n",
       "      <td>NaN</td>\n",
       "      <td>2020-10-18 06:53:44.272915</td>\n",
       "      <td>NaT</td>\n",
       "      <td>NaN</td>\n",
       "      <td>NaN</td>\n",
       "      <td>NaT</td>\n",
       "      <td>NaT</td>\n",
       "      <td>NaN</td>\n",
       "      <td>NaN</td>\n",
       "      <td>...</td>\n",
       "      <td>1.0</td>\n",
       "      <td>command ['/usr/bin/sbatch', '/tmp/condor_g_scr...</td>\n",
       "      <td>sbatch</td>\n",
       "      <td>True</td>\n",
       "      <td>True</td>\n",
       "      <td>ce5</td>\n",
       "      <td>87237.0</td>\n",
       "      <td>3068</td>\n",
       "      <td>2374</td>\n",
       "      <td>0 days 00:00:20.049497</td>\n",
       "    </tr>\n",
       "    <tr>\n",
       "      <th>413944</th>\n",
       "      <td>NaN</td>\n",
       "      <td>NaN</td>\n",
       "      <td>2020-10-18 06:54:04.322412</td>\n",
       "      <td>NaT</td>\n",
       "      <td>NaN</td>\n",
       "      <td>NaN</td>\n",
       "      <td>NaT</td>\n",
       "      <td>NaT</td>\n",
       "      <td>NaN</td>\n",
       "      <td>NaN</td>\n",
       "      <td>...</td>\n",
       "      <td>1.0</td>\n",
       "      <td>command ['/usr/bin/sbatch', '/tmp/condor_g_scr...</td>\n",
       "      <td>sbatch</td>\n",
       "      <td>True</td>\n",
       "      <td>True</td>\n",
       "      <td>ce5</td>\n",
       "      <td>87237.0</td>\n",
       "      <td>3068</td>\n",
       "      <td>2374</td>\n",
       "      <td>0 days 00:00:00</td>\n",
       "    </tr>\n",
       "    <tr>\n",
       "      <th>414167</th>\n",
       "      <td>NaN</td>\n",
       "      <td>NaN</td>\n",
       "      <td>2020-10-18 07:47:25.825172</td>\n",
       "      <td>NaT</td>\n",
       "      <td>NaN</td>\n",
       "      <td>NaN</td>\n",
       "      <td>NaT</td>\n",
       "      <td>NaT</td>\n",
       "      <td>NaN</td>\n",
       "      <td>NaN</td>\n",
       "      <td>...</td>\n",
       "      <td>1.0</td>\n",
       "      <td>command ['/usr/bin/sbatch', '/tmp/condor_g_scr...</td>\n",
       "      <td>sbatch</td>\n",
       "      <td>True</td>\n",
       "      <td>True</td>\n",
       "      <td>ce5</td>\n",
       "      <td>88831.0</td>\n",
       "      <td>3068</td>\n",
       "      <td>2375</td>\n",
       "      <td>0 days 00:00:20.045836</td>\n",
       "    </tr>\n",
       "    <tr>\n",
       "      <th>...</th>\n",
       "      <td>...</td>\n",
       "      <td>...</td>\n",
       "      <td>...</td>\n",
       "      <td>...</td>\n",
       "      <td>...</td>\n",
       "      <td>...</td>\n",
       "      <td>...</td>\n",
       "      <td>...</td>\n",
       "      <td>...</td>\n",
       "      <td>...</td>\n",
       "      <td>...</td>\n",
       "      <td>...</td>\n",
       "      <td>...</td>\n",
       "      <td>...</td>\n",
       "      <td>...</td>\n",
       "      <td>...</td>\n",
       "      <td>...</td>\n",
       "      <td>...</td>\n",
       "      <td>...</td>\n",
       "      <td>...</td>\n",
       "      <td>...</td>\n",
       "    </tr>\n",
       "    <tr>\n",
       "      <th>7346109</th>\n",
       "      <td>NaN</td>\n",
       "      <td>NaN</td>\n",
       "      <td>2021-09-24 18:14:35.862916</td>\n",
       "      <td>NaT</td>\n",
       "      <td>NaN</td>\n",
       "      <td>NaN</td>\n",
       "      <td>NaT</td>\n",
       "      <td>NaT</td>\n",
       "      <td>NaN</td>\n",
       "      <td>NaN</td>\n",
       "      <td>...</td>\n",
       "      <td>1.0</td>\n",
       "      <td>command ['/usr/bin/sbatch', '/tmp/condor_g_scr...</td>\n",
       "      <td>sbatch</td>\n",
       "      <td>True</td>\n",
       "      <td>True</td>\n",
       "      <td>ce5</td>\n",
       "      <td>8313794.0</td>\n",
       "      <td>1735</td>\n",
       "      <td>4739</td>\n",
       "      <td>0 days 00:00:00</td>\n",
       "    </tr>\n",
       "    <tr>\n",
       "      <th>7346668</th>\n",
       "      <td>NaN</td>\n",
       "      <td>NaN</td>\n",
       "      <td>2021-09-24 19:13:14.894282</td>\n",
       "      <td>NaT</td>\n",
       "      <td>NaN</td>\n",
       "      <td>NaN</td>\n",
       "      <td>NaT</td>\n",
       "      <td>NaT</td>\n",
       "      <td>NaN</td>\n",
       "      <td>NaN</td>\n",
       "      <td>...</td>\n",
       "      <td>1.0</td>\n",
       "      <td>command ['/usr/bin/sbatch', '/tmp/condor_g_scr...</td>\n",
       "      <td>sbatch</td>\n",
       "      <td>True</td>\n",
       "      <td>True</td>\n",
       "      <td>ce5</td>\n",
       "      <td>8314496.0</td>\n",
       "      <td>1961</td>\n",
       "      <td>4740</td>\n",
       "      <td>0 days 00:00:00</td>\n",
       "    </tr>\n",
       "    <tr>\n",
       "      <th>7445464</th>\n",
       "      <td>NaN</td>\n",
       "      <td>NaN</td>\n",
       "      <td>2021-10-02 08:14:16.557499</td>\n",
       "      <td>NaT</td>\n",
       "      <td>NaN</td>\n",
       "      <td>NaN</td>\n",
       "      <td>NaT</td>\n",
       "      <td>NaT</td>\n",
       "      <td>NaN</td>\n",
       "      <td>NaN</td>\n",
       "      <td>...</td>\n",
       "      <td>1.0</td>\n",
       "      <td>command ['/usr/bin/sbatch', '/tmp/condor_g_scr...</td>\n",
       "      <td>sbatch</td>\n",
       "      <td>True</td>\n",
       "      <td>True</td>\n",
       "      <td>ce5</td>\n",
       "      <td>8445160.0</td>\n",
       "      <td>3546</td>\n",
       "      <td>4741</td>\n",
       "      <td>0 days 00:00:00</td>\n",
       "    </tr>\n",
       "    <tr>\n",
       "      <th>7451902</th>\n",
       "      <td>NaN</td>\n",
       "      <td>NaN</td>\n",
       "      <td>2021-10-02 18:29:08.267199</td>\n",
       "      <td>NaT</td>\n",
       "      <td>NaN</td>\n",
       "      <td>NaN</td>\n",
       "      <td>NaT</td>\n",
       "      <td>NaT</td>\n",
       "      <td>NaN</td>\n",
       "      <td>NaN</td>\n",
       "      <td>...</td>\n",
       "      <td>1.0</td>\n",
       "      <td>command ['/usr/bin/sbatch', '/tmp/condor_g_scr...</td>\n",
       "      <td>sbatch</td>\n",
       "      <td>True</td>\n",
       "      <td>True</td>\n",
       "      <td>ce5</td>\n",
       "      <td>8453965.0</td>\n",
       "      <td>3569</td>\n",
       "      <td>4742</td>\n",
       "      <td>0 days 00:00:00</td>\n",
       "    </tr>\n",
       "    <tr>\n",
       "      <th>7455995</th>\n",
       "      <td>NaN</td>\n",
       "      <td>NaN</td>\n",
       "      <td>2021-10-06 15:39:20.269943</td>\n",
       "      <td>NaT</td>\n",
       "      <td>NaN</td>\n",
       "      <td>NaN</td>\n",
       "      <td>NaT</td>\n",
       "      <td>NaT</td>\n",
       "      <td>NaN</td>\n",
       "      <td>NaN</td>\n",
       "      <td>...</td>\n",
       "      <td>1.0</td>\n",
       "      <td>command ['/usr/bin/sbatch', '/tmp/condor_g_scr...</td>\n",
       "      <td>sbatch</td>\n",
       "      <td>True</td>\n",
       "      <td>True</td>\n",
       "      <td>ce6</td>\n",
       "      <td>8514106.0</td>\n",
       "      <td>183</td>\n",
       "      <td>4743</td>\n",
       "      <td>0 days 00:00:00</td>\n",
       "    </tr>\n",
       "  </tbody>\n",
       "</table>\n",
       "<p>3231 rows × 29 columns</p>\n",
       "</div>"
      ],
      "text/plain": [
       "        JOBID STATE                      BEGIN END REQMEM USEDMEM REQTIME  \\\n",
       "413802    NaN   NaN 2020-10-18 06:16:25.392946 NaT    NaN     NaN     NaT   \n",
       "413867    NaN   NaN 2020-10-18 06:38:44.172473 NaT    NaN     NaN     NaT   \n",
       "413943    NaN   NaN 2020-10-18 06:53:44.272915 NaT    NaN     NaN     NaT   \n",
       "413944    NaN   NaN 2020-10-18 06:54:04.322412 NaT    NaN     NaN     NaT   \n",
       "414167    NaN   NaN 2020-10-18 07:47:25.825172 NaT    NaN     NaN     NaT   \n",
       "...       ...   ...                        ...  ..    ...     ...     ...   \n",
       "7346109   NaN   NaN 2021-09-24 18:14:35.862916 NaT    NaN     NaN     NaT   \n",
       "7346668   NaN   NaN 2021-09-24 19:13:14.894282 NaT    NaN     NaN     NaT   \n",
       "7445464   NaN   NaN 2021-10-02 08:14:16.557499 NaT    NaN     NaN     NaT   \n",
       "7451902   NaN   NaN 2021-10-02 18:29:08.267199 NaT    NaN     NaN     NaT   \n",
       "7455995   NaN   NaN 2021-10-06 15:39:20.269943 NaT    NaN     NaN     NaT   \n",
       "\n",
       "        USEDTIME  NODES  CPUS  ... RETURNCODE  \\\n",
       "413802       NaT    NaN   NaN  ...        1.0   \n",
       "413867       NaT    NaN   NaN  ...        1.0   \n",
       "413943       NaT    NaN   NaN  ...        1.0   \n",
       "413944       NaT    NaN   NaN  ...        1.0   \n",
       "414167       NaT    NaN   NaN  ...        1.0   \n",
       "...          ...    ...   ...  ...        ...   \n",
       "7346109      NaT    NaN   NaN  ...        1.0   \n",
       "7346668      NaT    NaN   NaN  ...        1.0   \n",
       "7445464      NaT    NaN   NaN  ...        1.0   \n",
       "7451902      NaT    NaN   NaN  ...        1.0   \n",
       "7455995      NaT    NaN   NaN  ...        1.0   \n",
       "\n",
       "                                                   COMMAND COMMANDTYPE  \\\n",
       "413802   command ['/usr/bin/sbatch', '/tmp/condor_g_scr...      sbatch   \n",
       "413867   command ['/usr/bin/sbatch', '/tmp/condor_g_scr...      sbatch   \n",
       "413943   command ['/usr/bin/sbatch', '/tmp/condor_g_scr...      sbatch   \n",
       "413944   command ['/usr/bin/sbatch', '/tmp/condor_g_scr...      sbatch   \n",
       "414167   command ['/usr/bin/sbatch', '/tmp/condor_g_scr...      sbatch   \n",
       "...                                                    ...         ...   \n",
       "7346109  command ['/usr/bin/sbatch', '/tmp/condor_g_scr...      sbatch   \n",
       "7346668  command ['/usr/bin/sbatch', '/tmp/condor_g_scr...      sbatch   \n",
       "7445464  command ['/usr/bin/sbatch', '/tmp/condor_g_scr...      sbatch   \n",
       "7451902  command ['/usr/bin/sbatch', '/tmp/condor_g_scr...      sbatch   \n",
       "7455995  command ['/usr/bin/sbatch', '/tmp/condor_g_scr...      sbatch   \n",
       "\n",
       "         TESTING UNRESPONSIVE  SERVER  UNRESPONSIVEGROUP  JOBSRUNNINGBEGIN  \\\n",
       "413802      True         True     ce6            85931.0              3087   \n",
       "413867      True         True     ce6            86766.0              3066   \n",
       "413943      True         True     ce5            87237.0              3068   \n",
       "413944      True         True     ce5            87237.0              3068   \n",
       "414167      True         True     ce5            88831.0              3068   \n",
       "...          ...          ...     ...                ...               ...   \n",
       "7346109     True         True     ce5          8313794.0              1735   \n",
       "7346668     True         True     ce5          8314496.0              1961   \n",
       "7445464     True         True     ce5          8445160.0              3546   \n",
       "7451902     True         True     ce5          8453965.0              3569   \n",
       "7455995     True         True     ce6          8514106.0               183   \n",
       "\n",
       "         FAILUREGRP          TIMETOFAILURE  \n",
       "413802         2372        0 days 00:00:00  \n",
       "413867         2373        0 days 00:00:00  \n",
       "413943         2374 0 days 00:00:20.049497  \n",
       "413944         2374        0 days 00:00:00  \n",
       "414167         2375 0 days 00:00:20.045836  \n",
       "...             ...                    ...  \n",
       "7346109        4739        0 days 00:00:00  \n",
       "7346668        4740        0 days 00:00:00  \n",
       "7445464        4741        0 days 00:00:00  \n",
       "7451902        4742        0 days 00:00:00  \n",
       "7455995        4743        0 days 00:00:00  \n",
       "\n",
       "[3231 rows x 29 columns]"
      ]
     },
     "execution_count": 61,
     "metadata": {},
     "output_type": "execute_result"
    }
   ],
   "source": [
    "slurm_JOBSRUNNING[slurm_JOBSRUNNING['UNRESPONSIVE']]"
   ]
  },
  {
   "cell_type": "code",
   "execution_count": 63,
   "id": "a5536d83",
   "metadata": {},
   "outputs": [],
   "source": [
    "slurm_JOBSRUNNINGf = slurm_JOBSRUNNING[~slurm_JOBSRUNNING['JOBID'].isnull()]"
   ]
  },
  {
   "cell_type": "code",
   "execution_count": 72,
   "id": "f746c7dc",
   "metadata": {},
   "outputs": [
    {
     "name": "stderr",
     "output_type": "stream",
     "text": [
      "<ipython-input-72-e8bad10016ef>:1: SettingWithCopyWarning: \n",
      "A value is trying to be set on a copy of a slice from a DataFrame.\n",
      "Try using .loc[row_indexer,col_indexer] = value instead\n",
      "\n",
      "See the caveats in the documentation: https://pandas.pydata.org/pandas-docs/stable/user_guide/indexing.html#returning-a-view-versus-a-copy\n",
      "  slurm_JOBSRUNNINGf['TIMETOFAILUREs'] = slurm_JOBSRUNNINGf['TIMETOFAILURE'].apply(lambda x: x.total_seconds())\n"
     ]
    }
   ],
   "source": [
    "slurm_JOBSRUNNINGf['TIMETOFAILUREs'] = slurm_JOBSRUNNINGf['TIMETOFAILURE'].apply(lambda x: x.total_seconds())"
   ]
  },
  {
   "cell_type": "code",
   "execution_count": 74,
   "id": "28cf861c",
   "metadata": {},
   "outputs": [
    {
     "name": "stdout",
     "output_type": "stream",
     "text": [
      "                 Generalized Linear Model Regression Results                  \n",
      "==============================================================================\n",
      "Dep. Variable:         TIMETOFAILUREs   No. Observations:              7347297\n",
      "Model:                            GLM   Df Residuals:                  7347295\n",
      "Model Family:                Gaussian   Df Model:                            1\n",
      "Link Function:               identity   Scale:                      4.5611e+10\n",
      "Method:                          IRLS   Log-Likelihood:            -1.0059e+08\n",
      "Date:                Tue, 09 Nov 2021   Deviance:                   3.3511e+17\n",
      "Time:                        20:19:11   Pearson chi2:                 3.35e+17\n",
      "No. Iterations:                     3                                         \n",
      "Covariance Type:            nonrobust                                         \n",
      "====================================================================================\n",
      "                       coef    std err          z      P>|z|      [0.025      0.975]\n",
      "------------------------------------------------------------------------------------\n",
      "const             4.747e+05    326.388   1454.343      0.000    4.74e+05    4.75e+05\n",
      "JOBSRUNNINGBEGIN   -99.2948      0.090  -1097.998      0.000     -99.472     -99.118\n",
      "==================================================================================== \n",
      "\n",
      "\n",
      "Base AIC: 202294736.62693247\n",
      "Logistic AIC: 201178408.65758365\n"
     ]
    }
   ],
   "source": [
    "linreg_unresponsive_base = (sm.GLM(endog = slurm_JOBSRUNNINGf['TIMETOFAILUREs'],\n",
    "                       exog = sm.add_constant(slurm_JOBSRUNNINGf[[]]),\n",
    "                       family = sm.families.Gaussian(),\n",
    "                      )\n",
    "                  .fit()\n",
    "               )\n",
    "\n",
    "linreg_unresponsive_roll = (sm.GLM(endog = slurm_JOBSRUNNINGf['TIMETOFAILUREs'],\n",
    "                       exog = sm.add_constant(slurm_JOBSRUNNINGf['JOBSRUNNINGBEGIN']),\n",
    "                       family = sm.families.Gaussian(),\n",
    "                      )\n",
    "                  .fit()\n",
    "               )\n",
    "print(linreg_unresponsive_roll.summary(), '\\n\\n')\n",
    "print('Base AIC: '+str(linreg_unresponsive_base.aic))\n",
    "print('Logistic AIC: '+str(linreg_unresponsive_roll.aic))"
   ]
  },
  {
   "cell_type": "code",
   "execution_count": 77,
   "id": "0c60330c",
   "metadata": {},
   "outputs": [
    {
     "data": {
      "text/plain": [
       "<AxesSubplot:xlabel='JOBSRUNNINGBEGIN', ylabel='JOBSRUNNINGBEGIN'>"
      ]
     },
     "execution_count": 77,
     "metadata": {},
     "output_type": "execute_result"
    },
    {
     "data": {
      "image/png": "[encoded data removed]",
      "text/plain": [
       "<Figure size 432x288 with 1 Axes>"
      ]
     },
     "metadata": {
      "needs_background": "light"
     },
     "output_type": "display_data"
    }
   ],
   "source": [
    "sns.lineplot(x = 'JOBSRUNNINGBEGIN', y = (4.747e+05)-99.2948*slurm_JOBSRUNNINGf['JOBSRUNNINGBEGIN'], data = slurm_JOBSRUNNINGf)"
   ]
  },
  {
   "cell_type": "markdown",
   "id": "f3827a8f",
   "metadata": {
    "hideCode": false,
    "hidePrompt": false
   },
   "source": [
    "# APPENDIX: Valley of Dry Bones"
   ]
  },
  {
   "cell_type": "markdown",
   "id": "5c5d8623",
   "metadata": {},
   "source": [
    "Original code for checking unresponsiveness"
   ]
  },
  {
   "cell_type": "code",
   "execution_count": null,
   "id": "f1d9cc2d",
   "metadata": {
    "hideCode": false,
    "hidePrompt": false
   },
   "outputs": [],
   "source": [
    "# regex = re.compile(r'((?P<hours>\\d+?)h)?((?P<minutes>\\d+?)m)?((?P<seconds>\\d+?)s)?')\n",
    "\n",
    "# def parse_time(time_str):\n",
    "#     parts = regex.match(time_str)\n",
    "#     if not parts:\n",
    "#         return\n",
    "#     parts = parts.groupdict()\n",
    "#     time_params = {}\n",
    "#     for name, param in parts.items():\n",
    "#         if param:\n",
    "#             time_params[name] = int(param)\n",
    "#     return timedelta(**time_params)"
   ]
  },
  {
   "cell_type": "code",
   "execution_count": null,
   "id": "d2478ebd",
   "metadata": {
    "hideCode": false,
    "hidePrompt": false
   },
   "outputs": [],
   "source": [
    "# def check_unresponsive(x, window = '1h'):\n",
    "#     cef = ce.loc[(ce['DATETIME'] >= x - parse_time(window))\n",
    "#                  &\n",
    "#                  (ce['DATETIME'] <= x)]\n",
    "#     unresp = cef['UNRESPONSIVE'].any()\n",
    "#     return unresp"
   ]
  },
  {
   "cell_type": "code",
   "execution_count": null,
   "id": "b72e15ef",
   "metadata": {
    "hideCode": false,
    "hidePrompt": false
   },
   "outputs": [],
   "source": [
    "#slurm_jobs['END'].apply(check_unresponsive)"
   ]
  },
  {
   "cell_type": "markdown",
   "id": "42cdf562",
   "metadata": {},
   "source": [
    "George's code for concurrent processes"
   ]
  },
  {
   "cell_type": "code",
   "execution_count": null,
   "id": "5eb5134b",
   "metadata": {
    "hideCode": false,
    "hidePrompt": false
   },
   "outputs": [],
   "source": [
    "# # George's concurrent processes code\n",
    "# begin_load_df = slurm_jobs[slurm_jobs['PARTITION'] == 'production'][['BEGIN']].rename(columns={'BEGIN':'TIME'})\n",
    "# begin_load_df['process'] = 1\n",
    "# end_load_df = slurm_jobs[slurm_jobs['PARTITION'] == 'production'][['END']].rename(columns={'END':'TIME'})\n",
    "# end_load_df['process'] = -1 \n",
    "# load_df = begin_load_df.append(end_load_df)\n",
    "# resample_interval = \"D\" \n",
    "# fs_ts = pd.Series(list(load_df['process']), index=list(load_df['TIME']))\n",
    "# fs_resample = fs_ts.resample(resample_interval).sum().to_frame().cumsum()\n",
    "# plt.figure(figsize=(15, 10))\n",
    "# plt.plot(fs_resample.index, fs_resample[0])"
   ]
  },
  {
   "cell_type": "markdown",
   "id": "6c0ae3bb",
   "metadata": {},
   "source": [
    "Useful stripplots with mean hlines"
   ]
  },
  {
   "cell_type": "code",
   "execution_count": null,
   "id": "10ef0057",
   "metadata": {
    "hideCode": false,
    "hidePrompt": false
   },
   "outputs": [],
   "source": [
    "# fline = slurm_tests_filt.loc[slurm_tests['UNRESPONSIVE'] == False, 'ROLL1HR'].mean()\n",
    "# tline = slurm_tests_filt.loc[slurm_tests['UNRESPONSIVE'] == True, 'ROLL1HR'].mean()\n",
    "\n",
    "# ax = sns.stripplot(data = slurm_tests_filt, x = 'UNRESPONSIVE', y = 'ROLL1HR')\n",
    "# ax.axhline(fline)\n",
    "# ax.axhline(tline, color = '#83A83B')"
   ]
  },
  {
   "cell_type": "code",
   "execution_count": null,
   "id": "b63a3d57",
   "metadata": {
    "hideCode": false,
    "hidePrompt": false
   },
   "outputs": [],
   "source": [
    "# fline = slurm_tests_filt.loc[slurm_tests['UNRESPONSIVE'] == False, 'ROLL1HR'].mean()\n",
    "# tline = slurm_tests_filt.loc[slurm_tests['UNRESPONSIVE'] == True, 'ROLL1HR'].mean()\n",
    "\n",
    "# ax = sns.stripplot(data = slurm_tests_filt, x = 'UNRESPONSIVE', y = 'ROLL1HR')\n",
    "# ax.set(yscale = 'log')\n",
    "# ax.axhline(fline)\n",
    "# ax.axhline(tline, color = '#83A83B')"
   ]
  },
  {
   "cell_type": "markdown",
   "id": "b694f41b",
   "metadata": {},
   "source": [
    "datetime diffs from single column and ecdf"
   ]
  },
  {
   "cell_type": "code",
   "execution_count": null,
   "id": "9f3da010",
   "metadata": {
    "hideCode": false,
    "hidePrompt": false
   },
   "outputs": [],
   "source": [
    "# print(testing['END'].diff().describe())\n",
    "# x = testing['END'].diff().apply(lambda x: x.total_seconds()).to_frame()\n",
    "# sns.displot(x,  \n",
    "#             kind = 'ecdf',\n",
    "#            )\n",
    "# plt.xlim(0.001, 1800)"
   ]
  },
  {
   "cell_type": "markdown",
   "id": "ce72d8a7",
   "metadata": {},
   "source": [
    "Some plot templates used before switching to regplot()"
   ]
  },
  {
   "cell_type": "code",
   "execution_count": null,
   "id": "5cc96c56",
   "metadata": {
    "hideCode": false,
    "hidePrompt": false
   },
   "outputs": [],
   "source": [
    "# fontsize = 16\n",
    "\n",
    "# fig, ax = plt.subplots(figsize = (10,6))\n",
    "\n",
    "# x = slurm_testing_END['ROLL1HREND']\n",
    "# y_logistic = logistic(x = x, a = -2.7876, b =-7.347e-05)\n",
    "# plt.scatter(x, y_logistic, label = 'Logistic')\n",
    "\n",
    "# x = slurm_testing_END['ROLL1HREND']\n",
    "# y = slurm_testing_END['UNRESPONSIVE'].astype('int')\n",
    "# plt.scatter(x, y, label = 'Actual', alpha = 0.5)\n",
    "# #ax.axhline(0.5)\n",
    "# plt.legend()\n",
    "# #plt.title(\"Logistic Regression Model Predicts Unresponsiveness Decreases as Jobs Ended Per Hour Increases\")\n",
    "# plt.ylabel(\"Responsive (0) or Unresponsive (1)\", fontsize = fontsize)\n",
    "# plt.yticks(fontsize = fontsize - 2)\n",
    "# plt.xticks(fontsize = fontsize - 2)\n",
    "# plt.xlabel(\"Jobs Ended Per Hour\", fontsize = fontsize);\n"
   ]
  },
  {
   "cell_type": "code",
   "execution_count": null,
   "id": "d75dd22a",
   "metadata": {},
   "outputs": [],
   "source": [
    "# fig, ax = plt.subplots(figsize = (10,6))\n",
    "\n",
    "# x = slurm_testing_JOBSRUNNING['JOBSRUNNINGBEGIN']\n",
    "# y_logistic = logistic(x = x, a = -5.1497, b =0.0007)\n",
    "# plt.scatter(x, y_logistic, label = 'Logistic')\n",
    "\n",
    "# x = slurm_testing_JOBSRUNNING['JOBSRUNNINGBEGIN']\n",
    "# y = slurm_testing_JOBSRUNNING['UNRESPONSIVE'].astype('int')\n",
    "# plt.scatter(x, y, label = 'Actual', alpha = 0.5)\n",
    "# #ax.axhline(0.5)\n",
    "# plt.legend()\n",
    "# plt.title(\"Logistic Regression Model Predicts Unresponsiveness Increases as Jobs Running Increases\")\n",
    "# plt.ylabel(\"Responsive (0) or Unresponsive (1)\")\n",
    "# plt.xlabel(\"Jobs Running\");"
   ]
  }
 ],
 "metadata": {
  "hide_code_all_hidden": false,
  "kernelspec": {
   "display_name": "Python 3",
   "language": "python",
   "name": "python3"
  },
  "language_info": {
   "codemirror_mode": {
    "name": "ipython",
    "version": 3
   },
   "file_extension": ".py",
   "mimetype": "text/x-python",
   "name": "python",
   "nbconvert_exporter": "python",
   "pygments_lexer": "ipython3",
   "version": "3.8.8"
  }
 },
 "nbformat": 4,
 "nbformat_minor": 5
}
