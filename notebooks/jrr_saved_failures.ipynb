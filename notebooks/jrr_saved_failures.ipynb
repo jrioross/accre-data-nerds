{
 "cells": [
  {
   "cell_type": "markdown",
   "id": "40bc3195",
   "metadata": {},
   "source": [
    "# NOTE: THE MODEL IN THIS NOTEBOOK SHOULD NOT BE USED FOR REPORTING PURPOSES. IT IS ONLY PRESERVED FOR PERSONAL REFERENCE."
   ]
  },
  {
   "cell_type": "markdown",
   "id": "4460fb63",
   "metadata": {},
   "source": [
    "## THIS NOTEBOOK'S ERROR CONSISTS IN USING THE ROLLING JOBS ENDED PER HOUR COLUMN ON THE SLURM_JOBS DF TOGETHER WITH CHECKING FOR ANY PREVIOUS UNRESPONSIVENESS FROM LOG COMMANDS WITHIN THAT SAME HOUR. THIS IS A PROBLEM FOR TWO REASONS:\n",
    "\n",
    "1. Constructing the rolling jobs ended per hour is fine for investigating the general trend of jobs ended per hour throughout the year, as in notebook 1. However, when constructing a model that compares jobs completed per hour to unresponsive commands within the hour, a rolling window over the jobs will put too much weight on high-volume periods. Specifically, each event in the high-colume period gets a data point, which also allows for more checks of unresponsiveness. This leads to the second issue with this model.\n",
    "2. Checks for unresponsiveness looked for *any* event of unresponsiveness within the window, which might be too sensitive, especially since high-volume times will count the same events of unresponsiveness many times due to all the ending jobs serving as data points."
   ]
  },
  {
   "cell_type": "code",
   "execution_count": 1,
   "id": "39f91716",
   "metadata": {},
   "outputs": [],
   "source": [
    "import pandas as pd\n",
    "import numpy as np\n",
    "import matplotlib.pyplot as plt\n",
    "import matplotlib.dates as mdates\n",
    "import statsmodels.api as sm\n",
    "import seaborn as sns\n",
    "import re\n",
    "from jupyterthemes import jtplot\n",
    "from datetime import timedelta, datetime\n",
    "import calendar\n",
    "import plotly.express as px\n",
    "#jtplot.style()"
   ]
  },
  {
   "cell_type": "code",
   "execution_count": 2,
   "id": "f182bfff",
   "metadata": {},
   "outputs": [],
   "source": [
    "def getlogs(server):\n",
    "    \"\"\"Get server logs and format for analysis\"\"\"\n",
    "    x = pd.read_csv(f'../data/slurm_wrapper_{server}.log', \n",
    "                      sep = ' - ', \n",
    "                      engine = 'python', \n",
    "                      names = ['DATETIME', 'USER', 'RETRY', 'TIMELAPSE', 'RETURNCODE', 'COMMAND'])\n",
    "    x['DATETIME'] = pd.to_datetime(x['DATETIME'])\n",
    "    x['USER'] = x['USER'].str.extract(r'(\\d+)')\n",
    "    x['RETRY'] = x['RETRY'].str.extract('(\\d+)').astype('int')\n",
    "    x['TIMELAPSE'] = x['TIMELAPSE'].str.replace('time ', '').astype('float')\n",
    "    x['RETURNCODE'] = x['RETURNCODE'].str.extract('(\\d+)')\n",
    "    x['JOBID'] = x['COMMAND'].str.extract(r\"'(\\d{8})'\")\n",
    "    x['COMMANDTYPE'] = x['COMMAND'].str.extract(r\"bin/(s\\w+)'\")\n",
    "    x['TESTING'] = (x['COMMANDTYPE'] == 'sbatch') & (x['USER'] == '9204')\n",
    "    x['UNRESPONSIVE'] = (x['TIMELAPSE'] >= 15) & (x['RETURNCODE'] == '1')\n",
    "    x['SERVER'] = f'{server}'\n",
    "    return x"
   ]
  },
  {
   "cell_type": "code",
   "execution_count": 3,
   "id": "d21eadc7",
   "metadata": {},
   "outputs": [],
   "source": [
    "ce5 = getlogs('ce5')\n",
    "ce6 = getlogs('ce6')"
   ]
  },
  {
   "cell_type": "code",
   "execution_count": 4,
   "id": "be100694",
   "metadata": {},
   "outputs": [],
   "source": [
    "ce = pd.concat([ce5, ce6]).sort_values('DATETIME').reset_index(drop = True)"
   ]
  },
  {
   "cell_type": "markdown",
   "id": "d4a5a6c6",
   "metadata": {},
   "source": [
    "## Problem 4\n",
    "\n",
    "Finally, combine the time series information from the two datasets together to see \n",
    "\n",
    "(4A) how well correlated heavy job-completion load is with the unresponsiveness, and \n",
    "\n",
    "(4B) to see if there is some threshold of job completions per hour that generally results in unresponsiveness."
   ]
  },
  {
   "cell_type": "code",
   "execution_count": 5,
   "id": "6ca34ea9",
   "metadata": {},
   "outputs": [],
   "source": [
    "slurm_jobs = pd.read_csv('../data/slurm_jobs.csv')"
   ]
  },
  {
   "cell_type": "code",
   "execution_count": 6,
   "id": "9b11c7c1",
   "metadata": {},
   "outputs": [],
   "source": [
    "datetime_cols = ['BEGIN', 'END']\n",
    "for col in datetime_cols:\n",
    "    slurm_jobs[col] = pd.to_datetime(slurm_jobs[col])\n",
    "\n",
    "timedelta_cols = ['REQTIME', 'USEDTIME']\n",
    "for col in timedelta_cols:\n",
    "    slurm_jobs[col] = pd.to_timedelta(slurm_jobs[col])"
   ]
  },
  {
   "cell_type": "code",
   "execution_count": 7,
   "id": "93d52af2",
   "metadata": {},
   "outputs": [],
   "source": [
    "# regex = re.compile(r'((?P<hours>\\d+?)h)?((?P<minutes>\\d+?)m)?((?P<seconds>\\d+?)s)?')\n",
    "\n",
    "# def parse_time(time_str):\n",
    "#     parts = regex.match(time_str)\n",
    "#     if not parts:\n",
    "#         return\n",
    "#     parts = parts.groupdict()\n",
    "#     time_params = {}\n",
    "#     for name, param in parts.items():\n",
    "#         if param:\n",
    "#             time_params[name] = int(param)\n",
    "#     return timedelta(**time_params)"
   ]
  },
  {
   "cell_type": "code",
   "execution_count": 8,
   "id": "f67f1c84",
   "metadata": {},
   "outputs": [],
   "source": [
    "# def check_unresponsive(x, window = '1h'):\n",
    "#     cef = ce.loc[(ce['DATETIME'] >= x - parse_time(window))\n",
    "#                  &\n",
    "#                  (ce['DATETIME'] <= x)]\n",
    "#     unresp = cef['UNRESPONSIVE'].any()\n",
    "#     return unresp"
   ]
  },
  {
   "cell_type": "code",
   "execution_count": 9,
   "id": "8322ba82",
   "metadata": {},
   "outputs": [],
   "source": [
    "#slurm_jobs['END'].apply(check_unresponsive)"
   ]
  },
  {
   "cell_type": "code",
   "execution_count": 10,
   "id": "bddc8177",
   "metadata": {},
   "outputs": [
    {
     "data": {
      "text/html": [
       "<div>\n",
       "<style scoped>\n",
       "    .dataframe tbody tr th:only-of-type {\n",
       "        vertical-align: middle;\n",
       "    }\n",
       "\n",
       "    .dataframe tbody tr th {\n",
       "        vertical-align: top;\n",
       "    }\n",
       "\n",
       "    .dataframe thead th {\n",
       "        text-align: right;\n",
       "    }\n",
       "</style>\n",
       "<table border=\"1\" class=\"dataframe\">\n",
       "  <thead>\n",
       "    <tr style=\"text-align: right;\">\n",
       "      <th></th>\n",
       "      <th>JOBID</th>\n",
       "      <th>STATE</th>\n",
       "      <th>BEGIN</th>\n",
       "      <th>END</th>\n",
       "      <th>REQMEM</th>\n",
       "      <th>USEDMEM</th>\n",
       "      <th>REQTIME</th>\n",
       "      <th>USEDTIME</th>\n",
       "      <th>NODES</th>\n",
       "      <th>CPUS</th>\n",
       "      <th>PARTITION</th>\n",
       "      <th>EXITCODE</th>\n",
       "      <th>TIMEOUT</th>\n",
       "      <th>SIGNAL</th>\n",
       "      <th>IN_ARRAY</th>\n",
       "      <th>ARRAYID</th>\n",
       "      <th>ROLL1HR</th>\n",
       "    </tr>\n",
       "  </thead>\n",
       "  <tbody>\n",
       "    <tr>\n",
       "      <th>0</th>\n",
       "      <td>24460577</td>\n",
       "      <td>COMPLETED</td>\n",
       "      <td>2020-10-01 00:05:55</td>\n",
       "      <td>2020-10-01 00:10:15</td>\n",
       "      <td>4096Mc</td>\n",
       "      <td>868.77M</td>\n",
       "      <td>0 days 12:00:00</td>\n",
       "      <td>0 days 00:04:20</td>\n",
       "      <td>1</td>\n",
       "      <td>1</td>\n",
       "      <td>production</td>\n",
       "      <td>0</td>\n",
       "      <td>False</td>\n",
       "      <td>0</td>\n",
       "      <td>False</td>\n",
       "      <td>NaN</td>\n",
       "      <td>1.0</td>\n",
       "    </tr>\n",
       "    <tr>\n",
       "      <th>1</th>\n",
       "      <td>24460647</td>\n",
       "      <td>COMPLETED</td>\n",
       "      <td>2020-10-01 00:10:38</td>\n",
       "      <td>2020-10-01 00:12:58</td>\n",
       "      <td>2000Mn</td>\n",
       "      <td>0.09M</td>\n",
       "      <td>2 days 00:00:00</td>\n",
       "      <td>0 days 00:02:20</td>\n",
       "      <td>1</td>\n",
       "      <td>1</td>\n",
       "      <td>sam</td>\n",
       "      <td>0</td>\n",
       "      <td>False</td>\n",
       "      <td>0</td>\n",
       "      <td>False</td>\n",
       "      <td>NaN</td>\n",
       "      <td>2.0</td>\n",
       "    </tr>\n",
       "    <tr>\n",
       "      <th>2</th>\n",
       "      <td>24460639</td>\n",
       "      <td>COMPLETED</td>\n",
       "      <td>2020-10-01 00:11:22</td>\n",
       "      <td>2020-10-01 00:13:31</td>\n",
       "      <td>1024Mc</td>\n",
       "      <td>221.10M</td>\n",
       "      <td>0 days 00:30:00</td>\n",
       "      <td>0 days 00:02:09</td>\n",
       "      <td>1</td>\n",
       "      <td>1</td>\n",
       "      <td>production</td>\n",
       "      <td>0</td>\n",
       "      <td>False</td>\n",
       "      <td>0</td>\n",
       "      <td>False</td>\n",
       "      <td>NaN</td>\n",
       "      <td>3.0</td>\n",
       "    </tr>\n",
       "    <tr>\n",
       "      <th>3</th>\n",
       "      <td>24460668</td>\n",
       "      <td>COMPLETED</td>\n",
       "      <td>2020-10-01 00:15:16</td>\n",
       "      <td>2020-10-01 00:17:23</td>\n",
       "      <td>2000Mn</td>\n",
       "      <td>0.09M</td>\n",
       "      <td>2 days 00:00:00</td>\n",
       "      <td>0 days 00:02:07</td>\n",
       "      <td>1</td>\n",
       "      <td>1</td>\n",
       "      <td>sam</td>\n",
       "      <td>0</td>\n",
       "      <td>False</td>\n",
       "      <td>0</td>\n",
       "      <td>False</td>\n",
       "      <td>NaN</td>\n",
       "      <td>4.0</td>\n",
       "    </tr>\n",
       "    <tr>\n",
       "      <th>4</th>\n",
       "      <td>24460671</td>\n",
       "      <td>FAILED</td>\n",
       "      <td>2020-10-01 00:17:08</td>\n",
       "      <td>2020-10-01 00:17:53</td>\n",
       "      <td>1024Mc</td>\n",
       "      <td>636.96M</td>\n",
       "      <td>0 days 00:30:00</td>\n",
       "      <td>0 days 00:00:45</td>\n",
       "      <td>1</td>\n",
       "      <td>1</td>\n",
       "      <td>production</td>\n",
       "      <td>0</td>\n",
       "      <td>False</td>\n",
       "      <td>9</td>\n",
       "      <td>False</td>\n",
       "      <td>NaN</td>\n",
       "      <td>5.0</td>\n",
       "    </tr>\n",
       "  </tbody>\n",
       "</table>\n",
       "</div>"
      ],
      "text/plain": [
       "      JOBID      STATE               BEGIN                 END  REQMEM  \\\n",
       "0  24460577  COMPLETED 2020-10-01 00:05:55 2020-10-01 00:10:15  4096Mc   \n",
       "1  24460647  COMPLETED 2020-10-01 00:10:38 2020-10-01 00:12:58  2000Mn   \n",
       "2  24460639  COMPLETED 2020-10-01 00:11:22 2020-10-01 00:13:31  1024Mc   \n",
       "3  24460668  COMPLETED 2020-10-01 00:15:16 2020-10-01 00:17:23  2000Mn   \n",
       "4  24460671     FAILED 2020-10-01 00:17:08 2020-10-01 00:17:53  1024Mc   \n",
       "\n",
       "   USEDMEM         REQTIME        USEDTIME  NODES  CPUS   PARTITION  EXITCODE  \\\n",
       "0  868.77M 0 days 12:00:00 0 days 00:04:20      1     1  production         0   \n",
       "1    0.09M 2 days 00:00:00 0 days 00:02:20      1     1         sam         0   \n",
       "2  221.10M 0 days 00:30:00 0 days 00:02:09      1     1  production         0   \n",
       "3    0.09M 2 days 00:00:00 0 days 00:02:07      1     1         sam         0   \n",
       "4  636.96M 0 days 00:30:00 0 days 00:00:45      1     1  production         0   \n",
       "\n",
       "   TIMEOUT  SIGNAL  IN_ARRAY  ARRAYID  ROLL1HR  \n",
       "0    False       0     False      NaN      1.0  \n",
       "1    False       0     False      NaN      2.0  \n",
       "2    False       0     False      NaN      3.0  \n",
       "3    False       0     False      NaN      4.0  \n",
       "4    False       9     False      NaN      5.0  "
      ]
     },
     "execution_count": 10,
     "metadata": {},
     "output_type": "execute_result"
    }
   ],
   "source": [
    "slurm_jobs.head()"
   ]
  },
  {
   "cell_type": "markdown",
   "id": "84a4e6ba",
   "metadata": {},
   "source": [
    "## (4A) How well correlated is heavy job-completion load with unresponsiveness?\n",
    "\n",
    "-- Mix in logs (ce) with jobs (slurm_jobs)\n",
    "\n",
    "    * subset ce into relevant columns; call it c\n",
    "    * concatenate slurm_jobs and c; call it slurm_c\n",
    "    \n",
    "-- Create rolling window to check for unresponsivenss\n",
    "\n",
    "    * sort and reset index of slurm_c\n",
    "    * create rolling window to determine whether the scheduler was unresponsive within the hour prior to each job (returning True/False or 1/0). This will allow us to correlate ROLL1HR with unresponsivenss ('ROLL1HRUR')\n",
    "    * filter out null columns to make slurm_cf\n",
    "    \n",
    "-- Make logistic regression model\n",
    "\n",
    "    * Make the base model with sm.GLM\n",
    "    * Make the model with ROLL1HR as exog\n",
    "    * Plot the model\n",
    "    * Make model with Logit to confirm results and to construct confusion matrix"
   ]
  },
  {
   "cell_type": "markdown",
   "id": "f2caf05f",
   "metadata": {},
   "source": [
    "### Mix in logs (ce) with jobs (slurm_jobs)"
   ]
  },
  {
   "cell_type": "code",
   "execution_count": 11,
   "id": "170d4640",
   "metadata": {},
   "outputs": [],
   "source": [
    "c = ce[['DATETIME', 'TESTING', 'UNRESPONSIVE']]\n",
    "c = c.rename(columns = {'DATETIME' : 'END'})"
   ]
  },
  {
   "cell_type": "code",
   "execution_count": 12,
   "id": "c3c0a26c",
   "metadata": {},
   "outputs": [],
   "source": [
    "slurm_c = pd.concat([slurm_jobs, c])"
   ]
  },
  {
   "cell_type": "markdown",
   "id": "f5a620b0",
   "metadata": {},
   "source": [
    "### Create rolling window to check for unresponsivenss"
   ]
  },
  {
   "cell_type": "code",
   "execution_count": 13,
   "id": "5ddaa27c",
   "metadata": {},
   "outputs": [],
   "source": [
    "slurm_c = slurm_c.sort_values('END').reset_index(drop = True)"
   ]
  },
  {
   "cell_type": "code",
   "execution_count": 14,
   "id": "3203ec4b",
   "metadata": {},
   "outputs": [],
   "source": [
    "slurm_c['ROLL1HRUR'] = (slurm_c\n",
    "        .rolling('1h', on = 'END')\n",
    "        ['UNRESPONSIVE']\n",
    "        .max()\n",
    ")"
   ]
  },
  {
   "cell_type": "code",
   "execution_count": 15,
   "id": "3e89da78",
   "metadata": {},
   "outputs": [],
   "source": [
    "slurm_cf = slurm_c[~slurm_c['JOBID'].isnull()].dropna(subset = ['ROLL1HR', 'ROLL1HRUR'])"
   ]
  },
  {
   "cell_type": "markdown",
   "id": "b6328eec",
   "metadata": {},
   "source": [
    "### Make logistic regression model: ROLL1HR model shows AIC improvement over base model. Significant result: With each increase of 100 jobs per hour, the odds of unresponsiveness increases by 1.0144 times. e.g. The model predicts that the odds of unresponsiveness are 1.0144 times higher at 800 jobs per hour than they are at 700 jobs per hour."
   ]
  },
  {
   "cell_type": "code",
   "execution_count": 16,
   "id": "a50e45a5",
   "metadata": {},
   "outputs": [
    {
     "name": "stdout",
     "output_type": "stream",
     "text": [
      "                 Generalized Linear Model Regression Results                  \n",
      "==============================================================================\n",
      "Dep. Variable:              ROLL1HRUR   No. Observations:              7012655\n",
      "Model:                            GLM   Df Residuals:                  7012654\n",
      "Model Family:                Binomial   Df Model:                            0\n",
      "Link Function:                  logit   Scale:                          1.0000\n",
      "Method:                          IRLS   Log-Likelihood:            -4.8582e+06\n",
      "Date:                Mon, 08 Nov 2021   Deviance:                   9.7164e+06\n",
      "Time:                        20:44:35   Pearson chi2:                 7.01e+06\n",
      "No. Iterations:                     5                                         \n",
      "Covariance Type:            nonrobust                                         \n",
      "==============================================================================\n",
      "                 coef    std err          z      P>|z|      [0.025      0.975]\n",
      "------------------------------------------------------------------------------\n",
      "const          0.0547      0.001     72.428      0.000       0.053       0.056\n",
      "============================================================================== \n",
      "\n",
      "\n",
      "Base AIC: 9716358.33396407\n"
     ]
    }
   ],
   "source": [
    "logreg_unresponsive_base = (sm.GLM(endog = slurm_cf['ROLL1HRUR'],\n",
    "                       exog = sm.add_constant(slurm_cf[[]]),\n",
    "                       family = sm.families.Binomial(),\n",
    "                      )\n",
    "                  .fit()\n",
    "               )\n",
    "print(logreg_unresponsive_base.summary(), '\\n\\n')\n",
    "print('Base AIC: '+str(logreg_unresponsive_base.aic))"
   ]
  },
  {
   "cell_type": "code",
   "execution_count": 17,
   "id": "af9ed548",
   "metadata": {},
   "outputs": [
    {
     "name": "stdout",
     "output_type": "stream",
     "text": [
      "                 Generalized Linear Model Regression Results                  \n",
      "==============================================================================\n",
      "Dep. Variable:              ROLL1HRUR   No. Observations:              7012655\n",
      "Model:                            GLM   Df Residuals:                  7012653\n",
      "Model Family:                Binomial   Df Model:                            1\n",
      "Link Function:                  logit   Scale:                          1.0000\n",
      "Method:                          IRLS   Log-Likelihood:            -4.7367e+06\n",
      "Date:                Mon, 08 Nov 2021   Deviance:                   9.4734e+06\n",
      "Time:                        20:44:53   Pearson chi2:                 7.02e+06\n",
      "No. Iterations:                     6                                         \n",
      "Covariance Type:            nonrobust                                         \n",
      "==============================================================================\n",
      "                 coef    std err          z      P>|z|      [0.025      0.975]\n",
      "------------------------------------------------------------------------------\n",
      "const         -0.2717      0.001   -267.214      0.000      -0.274      -0.270\n",
      "ROLL1HR        0.0001    3.1e-07    461.943      0.000       0.000       0.000\n",
      "============================================================================== \n",
      "\n",
      "\n",
      "Base AIC: 9716358.33396407\n",
      "Logistic AIC: 9473448.658895973\n"
     ]
    }
   ],
   "source": [
    "logreg_unresponsive_roll = (sm.GLM(endog = slurm_cf['ROLL1HRUR'],\n",
    "                       exog = sm.add_constant(slurm_cf['ROLL1HR']),\n",
    "                       family = sm.families.Binomial(),\n",
    "                      )\n",
    "                  .fit()\n",
    "               )\n",
    "print(logreg_unresponsive_roll.summary(), '\\n\\n')\n",
    "print('Base AIC: '+str(logreg_unresponsive_base.aic))\n",
    "print('Logistic AIC: '+str(logreg_unresponsive_roll.aic))"
   ]
  },
  {
   "cell_type": "markdown",
   "id": "70093b6c",
   "metadata": {},
   "source": [
    "### Plot the model: No responsive hours with jobs per hour over 12,934"
   ]
  },
  {
   "cell_type": "code",
   "execution_count": 18,
   "id": "911917c0",
   "metadata": {},
   "outputs": [
    {
     "data": {
      "image/png": "[encoded data removed]",
      "text/plain": [
       "<Figure size 720x432 with 1 Axes>"
      ]
     },
     "metadata": {
      "needs_background": "light"
     },
     "output_type": "display_data"
    }
   ],
   "source": [
    "fig, ax = plt.subplots(figsize = (10,6))\n",
    "\n",
    "x = slurm_cf['ROLL1HR']\n",
    "y_logistic = 1/(1+np.exp(-(-0.2717 + (0.0001*x))))\n",
    "plt.scatter(x, y_logistic, label = 'Logistic')\n",
    "\n",
    "x = slurm_cf['ROLL1HR']\n",
    "y = slurm_cf['ROLL1HRUR']\n",
    "plt.scatter(x, y, label = 'Actual', alpha = 0.1)\n",
    "ax.axhline(0.5)\n",
    "ax.axvline(slurm_cf.loc[slurm_cf['ROLL1HRUR'] == False, 'ROLL1HR'].max())\n",
    "plt.legend()\n",
    "plt.title(\"Logistic Regression Model Predicts Unresponsiveness Starting after 3,000 jobs per hour. Scheduler Is Always Unresponsive after 13,000.\")\n",
    "plt.ylabel(\"Responsive (0) or Unresponsive (1)\")\n",
    "plt.xlabel(\"Jobs Ended Per Hour\");"
   ]
  },
  {
   "cell_type": "code",
   "execution_count": 19,
   "id": "db3cbdfb",
   "metadata": {},
   "outputs": [
    {
     "name": "stderr",
     "output_type": "stream",
     "text": [
      "C:\\Users\\jrior\\anaconda3\\lib\\site-packages\\IPython\\core\\pylabtools.py:132: UserWarning: Creating legend with loc=\"best\" can be slow with large amounts of data.\n",
      "  fig.canvas.print_figure(bytes_io, **kw)\n"
     ]
    },
    {
     "data": {
      "image/png": "[encoded data removed]",
      "text/plain": [
       "<Figure size 720x432 with 1 Axes>"
      ]
     },
     "metadata": {
      "needs_background": "light"
     },
     "output_type": "display_data"
    }
   ],
   "source": [
    "fig, ax = plt.subplots(figsize = (10,6))\n",
    "\n",
    "x = slurm_cf['ROLL1HR']\n",
    "y_logistic = 1/(1+np.exp(-(-0.2717 + (0.0001*x))))\n",
    "plt.scatter(x, y_logistic, label = 'Logistic')\n",
    "\n",
    "x = slurm_cf['ROLL1HR']\n",
    "y = slurm_cf['ROLL1HRUR']\n",
    "plt.scatter(x, y, label = 'Actual', alpha = 0.1)\n",
    "ax.set(xscale = 'log')\n",
    "ax.axhline(0.5)\n",
    "ax.axvline(slurm_cf.loc[slurm_cf['ROLL1HRUR'] == False, 'ROLL1HR'].max())\n",
    "plt.legend()\n",
    "plt.title(\"Logistic Regression Model Predicts Unresponsiveness Starting after 3,000 jobs per hour. Scheduler Is Always Unresponsive after 13,000.\")\n",
    "plt.ylabel(\"Responsive (0) or Unresponsive (1)\")\n",
    "plt.xlabel(\"Jobs Ended Per Hour\");"
   ]
  },
  {
   "cell_type": "markdown",
   "id": "4afe1457",
   "metadata": {},
   "source": [
    "### Confirm the model"
   ]
  },
  {
   "cell_type": "code",
   "execution_count": 20,
   "id": "361fe041",
   "metadata": {},
   "outputs": [
    {
     "name": "stdout",
     "output_type": "stream",
     "text": [
      "Optimization terminated successfully.\n",
      "         Current function value: 0.675453\n",
      "         Iterations 5\n"
     ]
    },
    {
     "data": {
      "text/plain": [
       "const     -0.271701\n",
       "ROLL1HR    0.000143\n",
       "dtype: float64"
      ]
     },
     "execution_count": 20,
     "metadata": {},
     "output_type": "execute_result"
    }
   ],
   "source": [
    "model = sm.Logit(slurm_cf['ROLL1HRUR'], sm.add_constant(slurm_cf['ROLL1HR']))\n",
    "result = model.fit(method = 'newton')\n",
    "result.params"
   ]
  },
  {
   "cell_type": "markdown",
   "id": "daea02ea",
   "metadata": {},
   "source": [
    "### Check the model using the confusion matrix. We're better at predicting unresponsiveness than responsiveness, but still not great overall. But, importantly, we get better at predicting unresponsiveness as ROLL1HR increases."
   ]
  },
  {
   "cell_type": "code",
   "execution_count": 21,
   "id": "c5537a91",
   "metadata": {},
   "outputs": [
    {
     "data": {
      "image/png": "[encoded data removed]",
      "text/plain": [
       "<Figure size 576x576 with 1 Axes>"
      ]
     },
     "metadata": {
      "needs_background": "light"
     },
     "output_type": "display_data"
    }
   ],
   "source": [
    "cm = np.round(result.pred_table()/sum(result.pred_table()),3)\n",
    "\n",
    "fig, ax = plt.subplots(figsize=(8, 8))\n",
    "ax.imshow(cm)\n",
    "ax.grid(False)\n",
    "ax.xaxis.set(ticks=(0, 1), ticklabels=('Predicted 0s', 'Predicted 1s'))\n",
    "ax.yaxis.set(ticks=(0, 1), ticklabels=('Actual 0s', 'Actual 1s'))\n",
    "ax.set_ylim(1.5, -0.5)\n",
    "for i in range(2):\n",
    "    for j in range(2):\n",
    "        ax.text(j, i, cm[i, j], ha='center', va='center', color='orange', size = 18)\n",
    "plt.show()"
   ]
  },
  {
   "cell_type": "code",
   "execution_count": 22,
   "id": "3e051a35",
   "metadata": {},
   "outputs": [
    {
     "data": {
      "text/plain": [
       "<matplotlib.lines.Line2D at 0x1bd732b85b0>"
      ]
     },
     "execution_count": 22,
     "metadata": {},
     "output_type": "execute_result"
    },
    {
     "data": {
      "image/png": "[encoded data removed]",
      "text/plain": [
       "<Figure size 720x864 with 1 Axes>"
      ]
     },
     "metadata": {
      "needs_background": "light"
     },
     "output_type": "display_data"
    }
   ],
   "source": [
    "slurm_cf['ROLL1HRGRP'] = pd.qcut(slurm_cf['ROLL1HR'], q = 50)\n",
    "\n",
    "fig, ax = plt.subplots(figsize = (10,12))\n",
    "\n",
    "(slurm_cf.groupby(['ROLL1HRGRP', 'ROLL1HRUR'])\n",
    "         ['JOBID']\n",
    "         .count()/slurm_cf.groupby('ROLL1HRGRP')['JOBID'].count()\n",
    ").unstack().plot(kind = 'barh', stacked = True, ax = ax)\n",
    "ax.axhline()"
   ]
  },
  {
   "cell_type": "code",
   "execution_count": 23,
   "id": "57e4e49c",
   "metadata": {},
   "outputs": [
    {
     "data": {
      "text/plain": [
       "0.9494097305032196"
      ]
     },
     "execution_count": 23,
     "metadata": {},
     "output_type": "execute_result"
    }
   ],
   "source": [
    "slurm_cf.loc[slurm_cf['ROLL1HR'] >= 12856.0, 'ROLL1HRUR'].mean()"
   ]
  },
  {
   "cell_type": "code",
   "execution_count": 24,
   "id": "10e04847",
   "metadata": {},
   "outputs": [
    {
     "data": {
      "text/plain": [
       "array([datetime.date(2020, 12, 11), datetime.date(2021, 8, 11),\n",
       "       datetime.date(2021, 8, 12), datetime.date(2021, 8, 31),\n",
       "       datetime.date(2021, 9, 1), datetime.date(2021, 9, 13)],\n",
       "      dtype=object)"
      ]
     },
     "execution_count": 24,
     "metadata": {},
     "output_type": "execute_result"
    }
   ],
   "source": [
    "slurm_cf.loc[slurm_cf['ROLL1HR'] >= 12856.0, 'END'].apply(lambda x: x.date()).unique()"
   ]
  }
 ],
 "metadata": {
  "kernelspec": {
   "display_name": "Python 3",
   "language": "python",
   "name": "python3"
  },
  "language_info": {
   "codemirror_mode": {
    "name": "ipython",
    "version": 3
   },
   "file_extension": ".py",
   "mimetype": "text/x-python",
   "name": "python",
   "nbconvert_exporter": "python",
   "pygments_lexer": "ipython3",
   "version": "3.8.8"
  }
 },
 "nbformat": 4,
 "nbformat_minor": 5
}
