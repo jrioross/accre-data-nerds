{
 "cells": [
  {
   "cell_type": "markdown",
   "id": "f3827a8f",
   "metadata": {
    "hideCode": false,
    "hidePrompt": false
   },
   "source": [
    "# APPENDIX: Valley of Dry Bones"
   ]
  },
  {
   "cell_type": "markdown",
   "id": "5c5d8623",
   "metadata": {},
   "source": [
    "Original code for checking unresponsiveness"
   ]
  },
  {
   "cell_type": "code",
   "execution_count": 38,
   "id": "f1d9cc2d",
   "metadata": {
    "hideCode": false,
    "hidePrompt": false
   },
   "outputs": [],
   "source": [
    "# regex = re.compile(r'((?P<hours>\\d+?)h)?((?P<minutes>\\d+?)m)?((?P<seconds>\\d+?)s)?')\n",
    "\n",
    "# def parse_time(time_str):\n",
    "#     parts = regex.match(time_str)\n",
    "#     if not parts:\n",
    "#         return\n",
    "#     parts = parts.groupdict()\n",
    "#     time_params = {}\n",
    "#     for name, param in parts.items():\n",
    "#         if param:\n",
    "#             time_params[name] = int(param)\n",
    "#     return timedelta(**time_params)"
   ]
  },
  {
   "cell_type": "code",
   "execution_count": 39,
   "id": "d2478ebd",
   "metadata": {
    "hideCode": false,
    "hidePrompt": false
   },
   "outputs": [],
   "source": [
    "# def check_unresponsive(x, window = '1h'):\n",
    "#     cef = ce.loc[(ce['DATETIME'] >= x - parse_time(window))\n",
    "#                  &\n",
    "#                  (ce['DATETIME'] <= x)]\n",
    "#     unresp = cef['UNRESPONSIVE'].any()\n",
    "#     return unresp"
   ]
  },
  {
   "cell_type": "code",
   "execution_count": 40,
   "id": "b72e15ef",
   "metadata": {
    "hideCode": false,
    "hidePrompt": false
   },
   "outputs": [],
   "source": [
    "#slurm_jobs['END'].apply(check_unresponsive)"
   ]
  },
  {
   "cell_type": "markdown",
   "id": "42cdf562",
   "metadata": {},
   "source": [
    "George's code for concurrent processes"
   ]
  },
  {
   "cell_type": "code",
   "execution_count": 41,
   "id": "5eb5134b",
   "metadata": {
    "hideCode": false,
    "hidePrompt": false
   },
   "outputs": [],
   "source": [
    "# # George's concurrent processes code\n",
    "# begin_load_df = slurm_jobs[slurm_jobs['PARTITION'] == 'production'][['BEGIN']].rename(columns={'BEGIN':'TIME'})\n",
    "# begin_load_df['process'] = 1\n",
    "# end_load_df = slurm_jobs[slurm_jobs['PARTITION'] == 'production'][['END']].rename(columns={'END':'TIME'})\n",
    "# end_load_df['process'] = -1 \n",
    "# load_df = begin_load_df.append(end_load_df)\n",
    "# resample_interval = \"D\" \n",
    "# fs_ts = pd.Series(list(load_df['process']), index=list(load_df['TIME']))\n",
    "# fs_resample = fs_ts.resample(resample_interval).sum().to_frame().cumsum()\n",
    "# plt.figure(figsize=(15, 10))\n",
    "# plt.plot(fs_resample.index, fs_resample[0])"
   ]
  },
  {
   "cell_type": "markdown",
   "id": "6c0ae3bb",
   "metadata": {},
   "source": [
    "Useful stripplots with mean hlines"
   ]
  },
  {
   "cell_type": "code",
   "execution_count": 42,
   "id": "10ef0057",
   "metadata": {
    "hideCode": false,
    "hidePrompt": false
   },
   "outputs": [],
   "source": [
    "# fline = slurm_tests_filt.loc[slurm_tests['UNRESPONSIVE'] == False, 'ROLL1HR'].mean()\n",
    "# tline = slurm_tests_filt.loc[slurm_tests['UNRESPONSIVE'] == True, 'ROLL1HR'].mean()\n",
    "\n",
    "# ax = sns.stripplot(data = slurm_tests_filt, x = 'UNRESPONSIVE', y = 'ROLL1HR')\n",
    "# ax.axhline(fline)\n",
    "# ax.axhline(tline, color = '#83A83B')"
   ]
  },
  {
   "cell_type": "code",
   "execution_count": 43,
   "id": "b63a3d57",
   "metadata": {
    "hideCode": false,
    "hidePrompt": false
   },
   "outputs": [],
   "source": [
    "# fline = slurm_tests_filt.loc[slurm_tests['UNRESPONSIVE'] == False, 'ROLL1HR'].mean()\n",
    "# tline = slurm_tests_filt.loc[slurm_tests['UNRESPONSIVE'] == True, 'ROLL1HR'].mean()\n",
    "\n",
    "# ax = sns.stripplot(data = slurm_tests_filt, x = 'UNRESPONSIVE', y = 'ROLL1HR')\n",
    "# ax.set(yscale = 'log')\n",
    "# ax.axhline(fline)\n",
    "# ax.axhline(tline, color = '#83A83B')"
   ]
  },
  {
   "cell_type": "markdown",
   "id": "b694f41b",
   "metadata": {},
   "source": [
    "datetime diffs from single column and ecdf"
   ]
  },
  {
   "cell_type": "code",
   "execution_count": 44,
   "id": "9f3da010",
   "metadata": {
    "hideCode": false,
    "hidePrompt": false
   },
   "outputs": [],
   "source": [
    "# print(testing['END'].diff().describe())\n",
    "# x = testing['END'].diff().apply(lambda x: x.total_seconds()).to_frame()\n",
    "# sns.displot(x,  \n",
    "#             kind = 'ecdf',\n",
    "#            )\n",
    "# plt.xlim(0.001, 1800)"
   ]
  },
  {
   "cell_type": "markdown",
   "id": "ce72d8a7",
   "metadata": {},
   "source": [
    "Some plot templates used before switching to regplot()"
   ]
  },
  {
   "cell_type": "code",
   "execution_count": 45,
   "id": "5cc96c56",
   "metadata": {
    "hideCode": false,
    "hidePrompt": false
   },
   "outputs": [],
   "source": [
    "# fontsize = 16\n",
    "\n",
    "# fig, ax = plt.subplots(figsize = (10,6))\n",
    "\n",
    "# x = slurm_testing_END['ROLL1HREND']\n",
    "# y_logistic = logistic(x = x, a = -2.7876, b =-7.347e-05)\n",
    "# plt.scatter(x, y_logistic, label = 'Logistic')\n",
    "\n",
    "# x = slurm_testing_END['ROLL1HREND']\n",
    "# y = slurm_testing_END['UNRESPONSIVE'].astype('int')\n",
    "# plt.scatter(x, y, label = 'Actual', alpha = 0.5)\n",
    "# #ax.axhline(0.5)\n",
    "# plt.legend()\n",
    "# #plt.title(\"Logistic Regression Model Predicts Unresponsiveness Decreases as Jobs Ended Per Hour Increases\")\n",
    "# plt.ylabel(\"Responsive (0) or Unresponsive (1)\", fontsize = fontsize)\n",
    "# plt.yticks(fontsize = fontsize - 2)\n",
    "# plt.xticks(fontsize = fontsize - 2)\n",
    "# plt.xlabel(\"Jobs Ended Per Hour\", fontsize = fontsize);\n"
   ]
  },
  {
   "cell_type": "code",
   "execution_count": 46,
   "id": "d75dd22a",
   "metadata": {},
   "outputs": [],
   "source": [
    "# fig, ax = plt.subplots(figsize = (10,6))\n",
    "\n",
    "# x = slurm_testing_JOBSRUNNING['JOBSRUNNINGBEGIN']\n",
    "# y_logistic = logistic(x = x, a = -5.1497, b =0.0007)\n",
    "# plt.scatter(x, y_logistic, label = 'Logistic')\n",
    "\n",
    "# x = slurm_testing_JOBSRUNNING['JOBSRUNNINGBEGIN']\n",
    "# y = slurm_testing_JOBSRUNNING['UNRESPONSIVE'].astype('int')\n",
    "# plt.scatter(x, y, label = 'Actual', alpha = 0.5)\n",
    "# #ax.axhline(0.5)\n",
    "# plt.legend()\n",
    "# plt.title(\"Logistic Regression Model Predicts Unresponsiveness Increases as Jobs Running Increases\")\n",
    "# plt.ylabel(\"Responsive (0) or Unresponsive (1)\")\n",
    "# plt.xlabel(\"Jobs Running\");"
   ]
  },
  {
   "cell_type": "code",
   "execution_count": 47,
   "id": "19f74743",
   "metadata": {},
   "outputs": [],
   "source": [
    "# a = (slurm_testing_JOBSRUNNING\n",
    "#          .groupby(['JOBSRUNNINGBEGINGRP', 'UNRESPONSIVE'])\n",
    "#          ['BEGIN']\n",
    "#          .count()\n",
    "#          .reset_index()\n",
    "#          .rename(columns = {'BEGIN':'COUNT'})\n",
    "# )\n",
    "\n",
    "# a['PROPORTION'] = a['COUNT']/a.groupby('JOBSRUNNINGBEGINGRP')['COUNT'].transform('sum')\n",
    "\n",
    "# fig, ax = plt.subplots(figsize = (10,6))\n",
    "\n",
    "# ax.bar(a.loc[a['UNRESPONSIVE'] == True, 'JOBSRUNNINGBEGINGRP'].cat.codes, \n",
    "#        a.loc[a['UNRESPONSIVE'] == True, 'PROPORTION'], \n",
    "#        width = [0.9, 0.28, 0.2], \n",
    "#        label= 'Unresponsive')\n",
    "\n",
    "# ax.bar(a.loc[a['UNRESPONSIVE'] == False, 'JOBSRUNNINGBEGINGRP'].cat.codes, \n",
    "#        a.loc[a['UNRESPONSIVE'] == False, 'PROPORTION'], \n",
    "#        width = [0.9, 0.28, 0.2], \n",
    "#        bottom= a.loc[a['UNRESPONSIVE'] == True, 'PROPORTION'],\n",
    "#        label= 'Responsive')\n",
    "\n",
    "# ax.set_ylabel('Proportion of Tests Unresponsive vs Responsive')\n",
    "# #ax.set_title('Scores by group and gender')\n",
    "# ax.legend()"
   ]
  },
  {
   "cell_type": "code",
   "execution_count": 48,
   "id": "a40e72c3",
   "metadata": {},
   "outputs": [],
   "source": [
    "# fontsize = 14\n",
    "\n",
    "# slurm_testing_JOBSRUNNING['JOBSRUNNINGBEGINGRP'] = pd.qcut(slurm_testing_JOBSRUNNING['JOBSRUNNINGBEGIN'], \n",
    "#                                                            q = 25)\n",
    "# fig, ax = plt.subplots(figsize = (10,6))\n",
    "\n",
    "# (slurm_testing_JOBSRUNNING\n",
    "#          .groupby(['JOBSRUNNINGBEGINGRP', 'UNRESPONSIVE'])\n",
    "#          ['JOBSRUNNINGBEGINGRP']\n",
    "#          .count()/slurm_testing_JOBSRUNNING\n",
    "#                      .groupby('JOBSRUNNINGBEGINGRP')\n",
    "#                      ['JOBSRUNNINGBEGINGRP']\n",
    "#                      .count()\n",
    "# ).unstack().plot(kind = 'bar', \n",
    "#        stacked = True, \n",
    "#        ax = ax,\n",
    "#        width = 0.9)\n",
    "\n",
    "# ax.set_xticklabels(ax.get_xticklabels(), \n",
    "#                    rotation=45, \n",
    "#                    horizontalalignment='right'\n",
    "#                   )\n",
    "\n",
    "# plt.axvspan(21.4, 26, color='red', alpha=0.2, label = 'Unresponsiveness Jumps')\n",
    "\n",
    "# plt.legend(loc = 'upper left', bbox_to_anchor = (1,1))\n",
    "\n",
    "# plt.ylabel(\"Proportion of Unresponsive Commands\", fontsize = fontsize)\n",
    "# plt.yticks(fontsize = fontsize - 2)\n",
    "# plt.xticks(fontsize = fontsize - 2)\n",
    "# plt.xlabel(\"Jobs Running\", fontsize = fontsize);\n",
    "\n",
    "# plt.tight_layout()\n",
    "# plt.savefig('../images/jobs_running_quantile_probs.png', dpi = 600)"
   ]
  }
 ],
 "metadata": {
  "hide_code_all_hidden": false,
  "kernelspec": {
   "display_name": "Python 3",
   "language": "python",
   "name": "python3"
  },
  "language_info": {
   "codemirror_mode": {
    "name": "ipython",
    "version": 3
   },
   "file_extension": ".py",
   "mimetype": "text/x-python",
   "name": "python",
   "nbconvert_exporter": "python",
   "pygments_lexer": "ipython3",
   "version": "3.8.8"
  }
 },
 "nbformat": 4,
 "nbformat_minor": 5
}
