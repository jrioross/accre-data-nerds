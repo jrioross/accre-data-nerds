{
 "cells": [
  {
   "cell_type": "code",
   "execution_count": 2,
   "id": "39f91716",
   "metadata": {},
   "outputs": [],
   "source": [
    "import pandas as pd\n",
    "import numpy as np\n",
    "import matplotlib.pyplot as plt\n",
    "import matplotlib.dates as mdates\n",
    "import statsmodels.api as sm\n",
    "import seaborn as sns\n",
    "import re\n",
    "from jupyterthemes import jtplot\n",
    "from datetime import timedelta, datetime\n",
    "import calendar\n",
    "import plotly.express as px\n",
    "jtplot.style()"
   ]
  },
  {
   "cell_type": "code",
   "execution_count": 3,
   "id": "f182bfff",
   "metadata": {},
   "outputs": [],
   "source": [
    "def getlogs(server):\n",
    "    \"\"\"Get server logs and format for analysis\"\"\"\n",
    "    x = pd.read_csv(f'../data/slurm_wrapper_{server}.log', \n",
    "                      sep = ' - ', \n",
    "                      engine = 'python', \n",
    "                      names = ['DATETIME', 'USER', 'RETRY', 'TIMELAPSE', 'RETURNCODE', 'COMMAND'])\n",
    "    x['DATETIME'] = pd.to_datetime(x['DATETIME'])\n",
    "    x['USER'] = x['USER'].str.extract(r'(\\d+)')\n",
    "    x['RETRY'] = x['RETRY'].str.extract('(\\d+)').astype('int')\n",
    "    x['TIMELAPSE'] = x['TIMELAPSE'].str.replace('time ', '').astype('float')\n",
    "    x['RETURNCODE'] = x['RETURNCODE'].str.extract('(\\d+)')\n",
    "    x['JOBID'] = x['COMMAND'].str.extract(r\"'(\\d{8})'\")\n",
    "    x['COMMANDTYPE'] = x['COMMAND'].str.extract(r\"bin/(s\\w+)'\")\n",
    "    x['TESTING'] = (x['COMMANDTYPE'] == 'sbatch') & (x['USER'] == '9204')\n",
    "    x['UNRESPONSIVE'] = (x['TIMELAPSE'] >= 15) & (x['RETURNCODE'] == '1')\n",
    "    x['SERVER'] = f'{server}'\n",
    "    return x"
   ]
  },
  {
   "cell_type": "code",
   "execution_count": 4,
   "id": "d21eadc7",
   "metadata": {},
   "outputs": [],
   "source": [
    "ce5 = getlogs('ce5')\n",
    "ce6 = getlogs('ce6')"
   ]
  },
  {
   "cell_type": "code",
   "execution_count": 5,
   "id": "be100694",
   "metadata": {},
   "outputs": [],
   "source": [
    "ce = pd.concat([ce5, ce6]).sort_values('DATETIME').reset_index(drop = True)"
   ]
  },
  {
   "cell_type": "markdown",
   "id": "8efd29fa",
   "metadata": {},
   "source": [
    "# Problem 3\n",
    "\n",
    "Calculate some descriptive statistics about \n",
    "\n",
    "(3A) how often the scheduler was unresponsive: \n",
    "\n",
    "   * Approximately 10.62% of the time overall\n",
    "   * ce5 approximately 9.14% of the time\n",
    "   * ce6 approximately 12.11% of the time\n",
    "\n",
    "(3B) how long these periods of time were, and \n",
    "\n",
    "(3C) create a time series plot of when the scheduler was having difficulties."
   ]
  },
  {
   "cell_type": "markdown",
   "id": "75acadef",
   "metadata": {},
   "source": [
    "## (3A) How often was the scheduler unresponsive?"
   ]
  },
  {
   "cell_type": "markdown",
   "id": "69eaff3b",
   "metadata": {},
   "source": [
    "### Answer\n",
    "\n",
    "   * Approximately 10.62% of the time overall\n",
    "   * ce5 approximately 9.14% of the time\n",
    "   * ce6 approximately 12.11% of the time"
   ]
  },
  {
   "cell_type": "code",
   "execution_count": 6,
   "id": "aa8ba8ec",
   "metadata": {},
   "outputs": [],
   "source": [
    "# Write a function to show count and proportion of value_counts() simultaneously\n",
    "def ct_prop(df, group):\n",
    "    a = ce[group].value_counts().reset_index().rename(columns = {'index' : f'{group}', 'UNRESPONSIVE' : 'COUNT'})\n",
    "    b = ce[group].value_counts(normalize = True).reset_index().rename(columns = {'index' : f'{group}', 'UNRESPONSIVE' : 'PROPORTION'})\n",
    "    ab = a.merge(b)\n",
    "    return ab"
   ]
  },
  {
   "cell_type": "code",
   "execution_count": 7,
   "id": "ff5e9a2d",
   "metadata": {},
   "outputs": [
    {
     "name": "stdout",
     "output_type": "stream",
     "text": [
      "The scheduler is unresponsive approximately 10.62% of the time.\n"
     ]
    },
    {
     "data": {
      "text/html": [
       "<div>\n",
       "<style scoped>\n",
       "    .dataframe tbody tr th:only-of-type {\n",
       "        vertical-align: middle;\n",
       "    }\n",
       "\n",
       "    .dataframe tbody tr th {\n",
       "        vertical-align: top;\n",
       "    }\n",
       "\n",
       "    .dataframe thead th {\n",
       "        text-align: right;\n",
       "    }\n",
       "</style>\n",
       "<table border=\"1\" class=\"dataframe\">\n",
       "  <thead>\n",
       "    <tr style=\"text-align: right;\">\n",
       "      <th></th>\n",
       "      <th>UNRESPONSIVE</th>\n",
       "      <th>COUNT</th>\n",
       "      <th>PROPORTION</th>\n",
       "    </tr>\n",
       "  </thead>\n",
       "  <tbody>\n",
       "    <tr>\n",
       "      <th>0</th>\n",
       "      <td>False</td>\n",
       "      <td>8533047</td>\n",
       "      <td>0.893755</td>\n",
       "    </tr>\n",
       "    <tr>\n",
       "      <th>1</th>\n",
       "      <td>True</td>\n",
       "      <td>1014366</td>\n",
       "      <td>0.106245</td>\n",
       "    </tr>\n",
       "  </tbody>\n",
       "</table>\n",
       "</div>"
      ],
      "text/plain": [
       "   UNRESPONSIVE    COUNT  PROPORTION\n",
       "0         False  8533047    0.893755\n",
       "1          True  1014366    0.106245"
      ]
     },
     "execution_count": 7,
     "metadata": {},
     "output_type": "execute_result"
    }
   ],
   "source": [
    "# Overall scheduler response vs unresponse\n",
    "print('The scheduler is unresponsive approximately 10.62% of the time.')\n",
    "ct_prop(ce, 'UNRESPONSIVE')"
   ]
  },
  {
   "cell_type": "code",
   "execution_count": 8,
   "id": "8c496984",
   "metadata": {},
   "outputs": [
    {
     "data": {
      "text/plain": [
       "SERVER  UNRESPONSIVE\n",
       "ce5     False           4335065\n",
       "        True             435828\n",
       "ce6     False           4197982\n",
       "        True             578538\n",
       "Name: UNRESPONSIVE, dtype: int64"
      ]
     },
     "execution_count": 8,
     "metadata": {},
     "output_type": "execute_result"
    }
   ],
   "source": [
    "# Counts of response vs unresponse by server\n",
    "ce.groupby(['SERVER', 'UNRESPONSIVE'])['UNRESPONSIVE'].count()"
   ]
  },
  {
   "cell_type": "code",
   "execution_count": 9,
   "id": "6dcb0e69",
   "metadata": {},
   "outputs": [
    {
     "name": "stdout",
     "output_type": "stream",
     "text": [
      "ce6 tends to be unresponsive significantly more often than ce5 (12.11% vs. 9.14)\n"
     ]
    },
    {
     "data": {
      "text/plain": [
       "SERVER\n",
       "ce5    0.091351\n",
       "ce6    0.121121\n",
       "Name: UNRESPONSIVE, dtype: float64"
      ]
     },
     "execution_count": 9,
     "metadata": {},
     "output_type": "execute_result"
    }
   ],
   "source": [
    "# Scheduler unresponse by server\n",
    "print('ce6 tends to be unresponsive significantly more often than ce5 (12.11% vs. 9.14)')\n",
    "ce.groupby(['SERVER'])['UNRESPONSIVE'].mean()"
   ]
  },
  {
   "cell_type": "markdown",
   "id": "9e230150",
   "metadata": {},
   "source": [
    "## Problem 3B: How long were the periods of unresponsiveness?"
   ]
  },
  {
   "cell_type": "markdown",
   "id": "fed50fae",
   "metadata": {},
   "source": [
    "### Answer\n",
    "\n",
    "* count                        87905\n",
    "* mean     0 days 00:00:06.127988967\n",
    "* std      0 days 00:00:39.957379362\n",
    "* min                0 days 00:00:00\n",
    "* 25%                0 days 00:00:00\n",
    "* 50%         0 days 00:00:00.110372\n",
    "* 75%         0 days 00:00:04.698021\n",
    "* max         0 days 03:03:11.213543"
   ]
  },
  {
   "cell_type": "code",
   "execution_count": 10,
   "id": "f84b5cb6",
   "metadata": {},
   "outputs": [],
   "source": [
    "counter = 0\n",
    "def unresponsive_grouper(x):\n",
    "    global counter\n",
    "    if x == False:\n",
    "        counter += 1\n",
    "        entry = np.nan\n",
    "    else:\n",
    "        entry = counter\n",
    "    return entry"
   ]
  },
  {
   "cell_type": "code",
   "execution_count": 11,
   "id": "35d9babb",
   "metadata": {},
   "outputs": [],
   "source": [
    "ce['UNRESPONSIVEGROUP'] = ce['UNRESPONSIVE'].apply(unresponsive_grouper)"
   ]
  },
  {
   "cell_type": "code",
   "execution_count": 112,
   "id": "fa67c68b",
   "metadata": {},
   "outputs": [],
   "source": [
    "ce.to_csv('../data/ce.csv', index = False)"
   ]
  },
  {
   "cell_type": "code",
   "execution_count": 13,
   "id": "4f83647f",
   "metadata": {},
   "outputs": [
    {
     "data": {
      "text/html": [
       "<div>\n",
       "<style scoped>\n",
       "    .dataframe tbody tr th:only-of-type {\n",
       "        vertical-align: middle;\n",
       "    }\n",
       "\n",
       "    .dataframe tbody tr th {\n",
       "        vertical-align: top;\n",
       "    }\n",
       "\n",
       "    .dataframe thead th {\n",
       "        text-align: right;\n",
       "    }\n",
       "</style>\n",
       "<table border=\"1\" class=\"dataframe\">\n",
       "  <thead>\n",
       "    <tr style=\"text-align: right;\">\n",
       "      <th></th>\n",
       "      <th>UNRESPONSIVEGROUP</th>\n",
       "      <th>INTERVALLENGTH</th>\n",
       "    </tr>\n",
       "  </thead>\n",
       "  <tbody>\n",
       "    <tr>\n",
       "      <th>0</th>\n",
       "      <td>4396.0</td>\n",
       "      <td>0 days 00:00:03.591429</td>\n",
       "    </tr>\n",
       "    <tr>\n",
       "      <th>1</th>\n",
       "      <td>4408.0</td>\n",
       "      <td>0 days 00:00:00</td>\n",
       "    </tr>\n",
       "    <tr>\n",
       "      <th>2</th>\n",
       "      <td>17173.0</td>\n",
       "      <td>0 days 00:00:00</td>\n",
       "    </tr>\n",
       "    <tr>\n",
       "      <th>3</th>\n",
       "      <td>17299.0</td>\n",
       "      <td>0 days 00:00:00.383366</td>\n",
       "    </tr>\n",
       "    <tr>\n",
       "      <th>4</th>\n",
       "      <td>17542.0</td>\n",
       "      <td>0 days 00:00:00</td>\n",
       "    </tr>\n",
       "    <tr>\n",
       "      <th>...</th>\n",
       "      <td>...</td>\n",
       "      <td>...</td>\n",
       "    </tr>\n",
       "    <tr>\n",
       "      <th>87900</th>\n",
       "      <td>8514105.0</td>\n",
       "      <td>0 days 00:00:00</td>\n",
       "    </tr>\n",
       "    <tr>\n",
       "      <th>87901</th>\n",
       "      <td>8514106.0</td>\n",
       "      <td>0 days 00:00:00.047851</td>\n",
       "    </tr>\n",
       "    <tr>\n",
       "      <th>87902</th>\n",
       "      <td>8514108.0</td>\n",
       "      <td>0 days 00:00:00.107661</td>\n",
       "    </tr>\n",
       "    <tr>\n",
       "      <th>87903</th>\n",
       "      <td>8514109.0</td>\n",
       "      <td>0 days 00:00:00.139284</td>\n",
       "    </tr>\n",
       "    <tr>\n",
       "      <th>87904</th>\n",
       "      <td>8514111.0</td>\n",
       "      <td>0 days 00:00:00</td>\n",
       "    </tr>\n",
       "  </tbody>\n",
       "</table>\n",
       "<p>87905 rows × 2 columns</p>\n",
       "</div>"
      ],
      "text/plain": [
       "       UNRESPONSIVEGROUP         INTERVALLENGTH\n",
       "0                 4396.0 0 days 00:00:03.591429\n",
       "1                 4408.0        0 days 00:00:00\n",
       "2                17173.0        0 days 00:00:00\n",
       "3                17299.0 0 days 00:00:00.383366\n",
       "4                17542.0        0 days 00:00:00\n",
       "...                  ...                    ...\n",
       "87900          8514105.0        0 days 00:00:00\n",
       "87901          8514106.0 0 days 00:00:00.047851\n",
       "87902          8514108.0 0 days 00:00:00.107661\n",
       "87903          8514109.0 0 days 00:00:00.139284\n",
       "87904          8514111.0        0 days 00:00:00\n",
       "\n",
       "[87905 rows x 2 columns]"
      ]
     },
     "execution_count": 13,
     "metadata": {},
     "output_type": "execute_result"
    }
   ],
   "source": [
    "unresponsive_intervals = (ce.groupby('UNRESPONSIVEGROUP', as_index = False)\n",
    "                          ['DATETIME']\n",
    "                          .apply(lambda x: x.max() - x.min())\n",
    "                          .rename(columns = {'DATETIME' : 'INTERVALLENGTH'})\n",
    "                       )\n",
    "unresponsive_intervals"
   ]
  },
  {
   "cell_type": "code",
   "execution_count": 14,
   "id": "34b1c175",
   "metadata": {},
   "outputs": [
    {
     "data": {
      "text/plain": [
       "count                        87905\n",
       "mean     0 days 00:00:06.127988967\n",
       "std      0 days 00:00:39.957379362\n",
       "min                0 days 00:00:00\n",
       "25%                0 days 00:00:00\n",
       "50%         0 days 00:00:00.110372\n",
       "75%         0 days 00:00:04.698021\n",
       "max         0 days 03:03:11.213543\n",
       "Name: INTERVALLENGTH, dtype: object"
      ]
     },
     "execution_count": 14,
     "metadata": {},
     "output_type": "execute_result"
    }
   ],
   "source": [
    "unresponsive_intervals['INTERVALLENGTH'].describe()"
   ]
  },
  {
   "cell_type": "code",
   "execution_count": 15,
   "id": "7457aad5",
   "metadata": {},
   "outputs": [
    {
     "data": {
      "text/plain": [
       "[(1e-05, 1000.0)]"
      ]
     },
     "execution_count": 15,
     "metadata": {},
     "output_type": "execute_result"
    },
    {
     "data": {
      "image/png": "[encoded data removed]",
      "text/plain": [
       "<Figure size 864x432 with 1 Axes>"
      ]
     },
     "metadata": {},
     "output_type": "display_data"
    }
   ],
   "source": [
    "plt.subplots(figsize = (12, 6))\n",
    "ax = sns.boxenplot(x = unresponsive_intervals['INTERVALLENGTH'].astype('timedelta64[s]'))\n",
    "ax.set(xlim = (0.00001, 1000))"
   ]
  },
  {
   "cell_type": "code",
   "execution_count": 16,
   "id": "ea701e19",
   "metadata": {},
   "outputs": [
    {
     "data": {
      "text/plain": [
       "[None, (1e-05, 1000)]"
      ]
     },
     "execution_count": 16,
     "metadata": {},
     "output_type": "execute_result"
    },
    {
     "data": {
      "image/png": "[encoded data removed]",
      "text/plain": [
       "<Figure size 864x432 with 1 Axes>"
      ]
     },
     "metadata": {},
     "output_type": "display_data"
    }
   ],
   "source": [
    "plt.subplots(figsize = (12, 6))\n",
    "ax2 = sns.boxenplot(x = unresponsive_intervals['INTERVALLENGTH'].astype('timedelta64[s]'))\n",
    "ax2.set(xscale = 'log', xlim = (0.00001, 1000))"
   ]
  },
  {
   "cell_type": "markdown",
   "id": "9d119232",
   "metadata": {},
   "source": [
    "## (3C) Create a time series plot of when the scheduler was having difficulties."
   ]
  },
  {
   "cell_type": "code",
   "execution_count": null,
   "id": "4f5af682",
   "metadata": {},
   "outputs": [],
   "source": []
  }
 ],
 "metadata": {
  "kernelspec": {
   "display_name": "Python 3",
   "language": "python",
   "name": "python3"
  },
  "language_info": {
   "codemirror_mode": {
    "name": "ipython",
    "version": 3
   },
   "file_extension": ".py",
   "mimetype": "text/x-python",
   "name": "python",
   "nbconvert_exporter": "python",
   "pygments_lexer": "ipython3",
   "version": "3.8.8"
  }
 },
 "nbformat": 4,
 "nbformat_minor": 5
}
